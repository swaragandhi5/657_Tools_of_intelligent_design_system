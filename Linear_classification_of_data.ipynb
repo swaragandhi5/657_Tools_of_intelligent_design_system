{
  "nbformat": 4,
  "nbformat_minor": 0,
  "metadata": {
    "colab": {
      "provenance": [],
      "collapsed_sections": [
        "73Wc5nnlRZmd"
      ]
    },
    "kernelspec": {
      "name": "python3",
      "display_name": "Python 3"
    },
    "language_info": {
      "name": "python"
    }
  },
  "cells": [
    {
      "cell_type": "code",
      "metadata": {
        "id": "Pz6Avcupd4-b"
      },
      "source": [
        "#Import libraries\n",
        "import pandas as pd\n",
        "import numpy as np\n",
        "from sklearn import preprocessing\n",
        "import seaborn as sns\n",
        "import matplotlib.pyplot as plt"
      ],
      "execution_count": null,
      "outputs": []
    },
    {
      "cell_type": "markdown",
      "metadata": {
        "id": "73Wc5nnlRZmd"
      },
      "source": [
        "# **CM1 - Data Pre-processing and Preparation**"
      ]
    },
    {
      "cell_type": "code",
      "metadata": {
        "id": "sPS-oboBfchf"
      },
      "source": [
        "covid_data = pd.read_csv('dkmacovid_train.csv')"
      ],
      "execution_count": null,
      "outputs": []
    },
    {
      "cell_type": "code",
      "metadata": {
        "id": "OFHfAsulgPeW",
        "colab": {
          "base_uri": "https://localhost:8080/",
          "height": 274
        },
        "outputId": "77f458a9-99af-4c67-cb09-9c90b0f287a8"
      },
      "source": [
        "covid_data.head()"
      ],
      "execution_count": null,
      "outputs": [
        {
          "output_type": "execute_result",
          "data": {
            "text/html": [
              "<div>\n",
              "<style scoped>\n",
              "    .dataframe tbody tr th:only-of-type {\n",
              "        vertical-align: middle;\n",
              "    }\n",
              "\n",
              "    .dataframe tbody tr th {\n",
              "        vertical-align: top;\n",
              "    }\n",
              "\n",
              "    .dataframe thead th {\n",
              "        text-align: right;\n",
              "    }\n",
              "</style>\n",
              "<table border=\"1\" class=\"dataframe\">\n",
              "  <thead>\n",
              "    <tr style=\"text-align: right;\">\n",
              "      <th></th>\n",
              "      <th>Day</th>\n",
              "      <th>State ID</th>\n",
              "      <th>State</th>\n",
              "      <th>Lat</th>\n",
              "      <th>Long_</th>\n",
              "      <th>Active</th>\n",
              "      <th>Incident_Rate</th>\n",
              "      <th>Total_Test_Results</th>\n",
              "      <th>Case_Fatality_Ratio</th>\n",
              "      <th>Testing_Rate</th>\n",
              "      <th>Resident Population 2020 Census</th>\n",
              "      <th>Population Density 2020 Census</th>\n",
              "      <th>Density Rank 2020 Census</th>\n",
              "      <th>SexRatio</th>\n",
              "      <th>Confirmed</th>\n",
              "      <th>Deaths</th>\n",
              "      <th>Recovered</th>\n",
              "    </tr>\n",
              "  </thead>\n",
              "  <tbody>\n",
              "    <tr>\n",
              "      <th>0</th>\n",
              "      <td>2</td>\n",
              "      <td>1</td>\n",
              "      <td>Alabama</td>\n",
              "      <td>32.3182</td>\n",
              "      <td>-86.9023</td>\n",
              "      <td>162449</td>\n",
              "      <td>7535.061394</td>\n",
              "      <td>1891468</td>\n",
              "      <td>1.318688</td>\n",
              "      <td>38576.31315</td>\n",
              "      <td>5,024,279</td>\n",
              "      <td>99.2</td>\n",
              "      <td>29</td>\n",
              "      <td>94</td>\n",
              "      <td>True</td>\n",
              "      <td>False</td>\n",
              "      <td>False</td>\n",
              "    </tr>\n",
              "    <tr>\n",
              "      <th>1</th>\n",
              "      <td>2</td>\n",
              "      <td>2</td>\n",
              "      <td>Alaska</td>\n",
              "      <td>61.3707</td>\n",
              "      <td>-152.4044</td>\n",
              "      <td>40421</td>\n",
              "      <td>6534.252848</td>\n",
              "      <td>1290349</td>\n",
              "      <td>0.449781</td>\n",
              "      <td>176386.82510</td>\n",
              "      <td>733,391</td>\n",
              "      <td>1.3</td>\n",
              "      <td>52</td>\n",
              "      <td>109</td>\n",
              "      <td>True</td>\n",
              "      <td>True</td>\n",
              "      <td>False</td>\n",
              "    </tr>\n",
              "    <tr>\n",
              "      <th>2</th>\n",
              "      <td>2</td>\n",
              "      <td>3</td>\n",
              "      <td>Arizona</td>\n",
              "      <td>33.7298</td>\n",
              "      <td>-111.4312</td>\n",
              "      <td>452222</td>\n",
              "      <td>7407.212013</td>\n",
              "      <td>5218721</td>\n",
              "      <td>1.680608</td>\n",
              "      <td>39916.14181</td>\n",
              "      <td>7,151,502</td>\n",
              "      <td>62.9</td>\n",
              "      <td>35</td>\n",
              "      <td>99</td>\n",
              "      <td>True</td>\n",
              "      <td>True</td>\n",
              "      <td>True</td>\n",
              "    </tr>\n",
              "    <tr>\n",
              "      <th>3</th>\n",
              "      <td>2</td>\n",
              "      <td>4</td>\n",
              "      <td>Arkansas</td>\n",
              "      <td>34.9697</td>\n",
              "      <td>-92.3731</td>\n",
              "      <td>24012</td>\n",
              "      <td>7669.219075</td>\n",
              "      <td>2079788</td>\n",
              "      <td>1.611203</td>\n",
              "      <td>68917.26567</td>\n",
              "      <td>3,011,524</td>\n",
              "      <td>57.9</td>\n",
              "      <td>36</td>\n",
              "      <td>96</td>\n",
              "      <td>True</td>\n",
              "      <td>True</td>\n",
              "      <td>True</td>\n",
              "    </tr>\n",
              "    <tr>\n",
              "      <th>4</th>\n",
              "      <td>2</td>\n",
              "      <td>5</td>\n",
              "      <td>California</td>\n",
              "      <td>36.1162</td>\n",
              "      <td>-119.6816</td>\n",
              "      <td>2362015</td>\n",
              "      <td>6045.109130</td>\n",
              "      <td>33391442</td>\n",
              "      <td>1.111215</td>\n",
              "      <td>84509.14544</td>\n",
              "      <td>39,538,223</td>\n",
              "      <td>253.7</td>\n",
              "      <td>13</td>\n",
              "      <td>99</td>\n",
              "      <td>True</td>\n",
              "      <td>True</td>\n",
              "      <td>False</td>\n",
              "    </tr>\n",
              "  </tbody>\n",
              "</table>\n",
              "</div>"
            ],
            "text/plain": [
              "   Day  State ID       State      Lat  ...  SexRatio  Confirmed  Deaths  Recovered\n",
              "0    2         1     Alabama  32.3182  ...        94       True   False      False\n",
              "1    2         2      Alaska  61.3707  ...       109       True    True      False\n",
              "2    2         3     Arizona  33.7298  ...        99       True    True       True\n",
              "3    2         4    Arkansas  34.9697  ...        96       True    True       True\n",
              "4    2         5  California  36.1162  ...        99       True    True      False\n",
              "\n",
              "[5 rows x 17 columns]"
            ]
          },
          "metadata": {
            "tags": []
          },
          "execution_count": 348
        }
      ]
    },
    {
      "cell_type": "code",
      "metadata": {
        "colab": {
          "base_uri": "https://localhost:8080/",
          "height": 349
        },
        "id": "K9kchaHxLjKD",
        "outputId": "0baa82c1-1ef0-4953-8e48-578e90927f4c"
      },
      "source": [
        "covid_data.describe()"
      ],
      "execution_count": null,
      "outputs": [
        {
          "output_type": "execute_result",
          "data": {
            "text/html": [
              "<div>\n",
              "<style scoped>\n",
              "    .dataframe tbody tr th:only-of-type {\n",
              "        vertical-align: middle;\n",
              "    }\n",
              "\n",
              "    .dataframe tbody tr th {\n",
              "        vertical-align: top;\n",
              "    }\n",
              "\n",
              "    .dataframe thead th {\n",
              "        text-align: right;\n",
              "    }\n",
              "</style>\n",
              "<table border=\"1\" class=\"dataframe\">\n",
              "  <thead>\n",
              "    <tr style=\"text-align: right;\">\n",
              "      <th></th>\n",
              "      <th>Day</th>\n",
              "      <th>State ID</th>\n",
              "      <th>Lat</th>\n",
              "      <th>Long_</th>\n",
              "      <th>Active</th>\n",
              "      <th>Incident_Rate</th>\n",
              "      <th>Total_Test_Results</th>\n",
              "      <th>Case_Fatality_Ratio</th>\n",
              "      <th>Testing_Rate</th>\n",
              "      <th>Density Rank 2020 Census</th>\n",
              "      <th>SexRatio</th>\n",
              "    </tr>\n",
              "  </thead>\n",
              "  <tbody>\n",
              "    <tr>\n",
              "      <th>count</th>\n",
              "      <td>1380.000000</td>\n",
              "      <td>1380.000000</td>\n",
              "      <td>1380.000000</td>\n",
              "      <td>1380.000000</td>\n",
              "      <td>1.380000e+03</td>\n",
              "      <td>1380.000000</td>\n",
              "      <td>1.380000e+03</td>\n",
              "      <td>1380.000000</td>\n",
              "      <td>1380.000000</td>\n",
              "      <td>1380.000000</td>\n",
              "      <td>1380.000000</td>\n",
              "    </tr>\n",
              "    <tr>\n",
              "      <th>mean</th>\n",
              "      <td>16.500000</td>\n",
              "      <td>25.239130</td>\n",
              "      <td>39.470717</td>\n",
              "      <td>-92.879928</td>\n",
              "      <td>2.610390e+05</td>\n",
              "      <td>7203.192905</td>\n",
              "      <td>5.271097e+06</td>\n",
              "      <td>1.631757</td>\n",
              "      <td>91763.237514</td>\n",
              "      <td>27.173913</td>\n",
              "      <td>97.760870</td>\n",
              "    </tr>\n",
              "    <tr>\n",
              "      <th>std</th>\n",
              "      <td>8.658579</td>\n",
              "      <td>14.513405</td>\n",
              "      <td>6.070494</td>\n",
              "      <td>19.632514</td>\n",
              "      <td>4.914059e+05</td>\n",
              "      <td>2305.025102</td>\n",
              "      <td>6.991478e+06</td>\n",
              "      <td>0.656702</td>\n",
              "      <td>40858.185997</td>\n",
              "      <td>15.378197</td>\n",
              "      <td>3.219219</td>\n",
              "    </tr>\n",
              "    <tr>\n",
              "      <th>min</th>\n",
              "      <td>2.000000</td>\n",
              "      <td>1.000000</td>\n",
              "      <td>21.094300</td>\n",
              "      <td>-157.498300</td>\n",
              "      <td>9.550000e+02</td>\n",
              "      <td>1232.233261</td>\n",
              "      <td>3.739460e+05</td>\n",
              "      <td>0.439598</td>\n",
              "      <td>30524.071590</td>\n",
              "      <td>1.000000</td>\n",
              "      <td>94.000000</td>\n",
              "    </tr>\n",
              "    <tr>\n",
              "      <th>25%</th>\n",
              "      <td>9.000000</td>\n",
              "      <td>12.000000</td>\n",
              "      <td>35.630100</td>\n",
              "      <td>-105.311100</td>\n",
              "      <td>2.731600e+04</td>\n",
              "      <td>6042.134459</td>\n",
              "      <td>1.310515e+06</td>\n",
              "      <td>1.246993</td>\n",
              "      <td>67457.197525</td>\n",
              "      <td>13.000000</td>\n",
              "      <td>95.000000</td>\n",
              "    </tr>\n",
              "    <tr>\n",
              "      <th>50%</th>\n",
              "      <td>16.500000</td>\n",
              "      <td>25.500000</td>\n",
              "      <td>39.583950</td>\n",
              "      <td>-88.259400</td>\n",
              "      <td>1.005915e+05</td>\n",
              "      <td>7453.675956</td>\n",
              "      <td>2.919566e+06</td>\n",
              "      <td>1.499993</td>\n",
              "      <td>85438.613770</td>\n",
              "      <td>28.500000</td>\n",
              "      <td>97.000000</td>\n",
              "    </tr>\n",
              "    <tr>\n",
              "      <th>75%</th>\n",
              "      <td>24.000000</td>\n",
              "      <td>37.000000</td>\n",
              "      <td>43.326600</td>\n",
              "      <td>-77.209800</td>\n",
              "      <td>2.592418e+05</td>\n",
              "      <td>8621.924085</td>\n",
              "      <td>6.093790e+06</td>\n",
              "      <td>1.817013</td>\n",
              "      <td>104509.453475</td>\n",
              "      <td>41.000000</td>\n",
              "      <td>99.000000</td>\n",
              "    </tr>\n",
              "    <tr>\n",
              "      <th>max</th>\n",
              "      <td>31.000000</td>\n",
              "      <td>51.000000</td>\n",
              "      <td>61.370700</td>\n",
              "      <td>-69.381900</td>\n",
              "      <td>3.283336e+06</td>\n",
              "      <td>12811.162350</td>\n",
              "      <td>4.227902e+07</td>\n",
              "      <td>3.928767</td>\n",
              "      <td>235733.711200</td>\n",
              "      <td>52.000000</td>\n",
              "      <td>109.000000</td>\n",
              "    </tr>\n",
              "  </tbody>\n",
              "</table>\n",
              "</div>"
            ],
            "text/plain": [
              "               Day     State ID  ...  Density Rank 2020 Census     SexRatio\n",
              "count  1380.000000  1380.000000  ...               1380.000000  1380.000000\n",
              "mean     16.500000    25.239130  ...                 27.173913    97.760870\n",
              "std       8.658579    14.513405  ...                 15.378197     3.219219\n",
              "min       2.000000     1.000000  ...                  1.000000    94.000000\n",
              "25%       9.000000    12.000000  ...                 13.000000    95.000000\n",
              "50%      16.500000    25.500000  ...                 28.500000    97.000000\n",
              "75%      24.000000    37.000000  ...                 41.000000    99.000000\n",
              "max      31.000000    51.000000  ...                 52.000000   109.000000\n",
              "\n",
              "[8 rows x 11 columns]"
            ]
          },
          "metadata": {
            "tags": []
          },
          "execution_count": 349
        }
      ]
    },
    {
      "cell_type": "code",
      "metadata": {
        "id": "3CwQS4R8Tb7Q"
      },
      "source": [
        "covid_data['Resident Population 2020 Census']=covid_data['Resident Population 2020 Census'].str.replace(',','')\n",
        "covid_data[\"Resident Population 2020 Census\"] = covid_data[\"Resident Population 2020 Census\"].astype(\"float\")"
      ],
      "execution_count": null,
      "outputs": []
    },
    {
      "cell_type": "code",
      "metadata": {
        "id": "f8RjAY-vUqYa"
      },
      "source": [
        "covid_data['Population Density 2020 Census']=covid_data['Population Density 2020 Census'].str.replace(',','')\n",
        "covid_data[\"Population Density 2020 Census\"] = covid_data[\"Population Density 2020 Census\"].astype(\"float\")"
      ],
      "execution_count": null,
      "outputs": []
    },
    {
      "cell_type": "code",
      "metadata": {
        "colab": {
          "base_uri": "https://localhost:8080/",
          "height": 349
        },
        "id": "LbQfVTk_VxWr",
        "outputId": "76bc975f-afe5-4e6a-9435-d7a43a410858"
      },
      "source": [
        "covid_data.describe()"
      ],
      "execution_count": null,
      "outputs": [
        {
          "output_type": "execute_result",
          "data": {
            "text/html": [
              "<div>\n",
              "<style scoped>\n",
              "    .dataframe tbody tr th:only-of-type {\n",
              "        vertical-align: middle;\n",
              "    }\n",
              "\n",
              "    .dataframe tbody tr th {\n",
              "        vertical-align: top;\n",
              "    }\n",
              "\n",
              "    .dataframe thead th {\n",
              "        text-align: right;\n",
              "    }\n",
              "</style>\n",
              "<table border=\"1\" class=\"dataframe\">\n",
              "  <thead>\n",
              "    <tr style=\"text-align: right;\">\n",
              "      <th></th>\n",
              "      <th>Day</th>\n",
              "      <th>State ID</th>\n",
              "      <th>Lat</th>\n",
              "      <th>Long_</th>\n",
              "      <th>Active</th>\n",
              "      <th>Incident_Rate</th>\n",
              "      <th>Total_Test_Results</th>\n",
              "      <th>Case_Fatality_Ratio</th>\n",
              "      <th>Testing_Rate</th>\n",
              "      <th>Resident Population 2020 Census</th>\n",
              "      <th>Population Density 2020 Census</th>\n",
              "      <th>Density Rank 2020 Census</th>\n",
              "      <th>SexRatio</th>\n",
              "    </tr>\n",
              "  </thead>\n",
              "  <tbody>\n",
              "    <tr>\n",
              "      <th>count</th>\n",
              "      <td>1380.000000</td>\n",
              "      <td>1380.000000</td>\n",
              "      <td>1380.000000</td>\n",
              "      <td>1380.000000</td>\n",
              "      <td>1.380000e+03</td>\n",
              "      <td>1380.000000</td>\n",
              "      <td>1.380000e+03</td>\n",
              "      <td>1380.000000</td>\n",
              "      <td>1380.000000</td>\n",
              "      <td>1.380000e+03</td>\n",
              "      <td>1380.000000</td>\n",
              "      <td>1380.000000</td>\n",
              "      <td>1380.000000</td>\n",
              "    </tr>\n",
              "    <tr>\n",
              "      <th>mean</th>\n",
              "      <td>16.500000</td>\n",
              "      <td>25.239130</td>\n",
              "      <td>39.470717</td>\n",
              "      <td>-92.879928</td>\n",
              "      <td>2.610390e+05</td>\n",
              "      <td>7203.192905</td>\n",
              "      <td>5.271097e+06</td>\n",
              "      <td>1.631757</td>\n",
              "      <td>91763.237514</td>\n",
              "      <td>5.906191e+06</td>\n",
              "      <td>454.834783</td>\n",
              "      <td>27.173913</td>\n",
              "      <td>97.760870</td>\n",
              "    </tr>\n",
              "    <tr>\n",
              "      <th>std</th>\n",
              "      <td>8.658579</td>\n",
              "      <td>14.513405</td>\n",
              "      <td>6.070494</td>\n",
              "      <td>19.632514</td>\n",
              "      <td>4.914059e+05</td>\n",
              "      <td>2305.025102</td>\n",
              "      <td>6.991478e+06</td>\n",
              "      <td>0.656702</td>\n",
              "      <td>40858.185997</td>\n",
              "      <td>6.858898e+06</td>\n",
              "      <td>1638.774933</td>\n",
              "      <td>15.378197</td>\n",
              "      <td>3.219219</td>\n",
              "    </tr>\n",
              "    <tr>\n",
              "      <th>min</th>\n",
              "      <td>2.000000</td>\n",
              "      <td>1.000000</td>\n",
              "      <td>21.094300</td>\n",
              "      <td>-157.498300</td>\n",
              "      <td>9.550000e+02</td>\n",
              "      <td>1232.233261</td>\n",
              "      <td>3.739460e+05</td>\n",
              "      <td>0.439598</td>\n",
              "      <td>30524.071590</td>\n",
              "      <td>5.768510e+05</td>\n",
              "      <td>1.300000</td>\n",
              "      <td>1.000000</td>\n",
              "      <td>94.000000</td>\n",
              "    </tr>\n",
              "    <tr>\n",
              "      <th>25%</th>\n",
              "      <td>9.000000</td>\n",
              "      <td>12.000000</td>\n",
              "      <td>35.630100</td>\n",
              "      <td>-105.311100</td>\n",
              "      <td>2.731600e+04</td>\n",
              "      <td>6042.134459</td>\n",
              "      <td>1.310515e+06</td>\n",
              "      <td>1.246993</td>\n",
              "      <td>67457.197525</td>\n",
              "      <td>1.455271e+06</td>\n",
              "      <td>44.100000</td>\n",
              "      <td>13.000000</td>\n",
              "      <td>95.000000</td>\n",
              "    </tr>\n",
              "    <tr>\n",
              "      <th>50%</th>\n",
              "      <td>16.500000</td>\n",
              "      <td>25.500000</td>\n",
              "      <td>39.583950</td>\n",
              "      <td>-88.259400</td>\n",
              "      <td>1.005915e+05</td>\n",
              "      <td>7453.675956</td>\n",
              "      <td>2.919566e+06</td>\n",
              "      <td>1.499993</td>\n",
              "      <td>85438.613770</td>\n",
              "      <td>4.098304e+06</td>\n",
              "      <td>103.500000</td>\n",
              "      <td>28.500000</td>\n",
              "      <td>97.000000</td>\n",
              "    </tr>\n",
              "    <tr>\n",
              "      <th>75%</th>\n",
              "      <td>24.000000</td>\n",
              "      <td>37.000000</td>\n",
              "      <td>43.326600</td>\n",
              "      <td>-77.209800</td>\n",
              "      <td>2.592418e+05</td>\n",
              "      <td>8621.924085</td>\n",
              "      <td>6.093790e+06</td>\n",
              "      <td>1.817013</td>\n",
              "      <td>104509.453475</td>\n",
              "      <td>7.029917e+06</td>\n",
              "      <td>253.700000</td>\n",
              "      <td>41.000000</td>\n",
              "      <td>99.000000</td>\n",
              "    </tr>\n",
              "    <tr>\n",
              "      <th>max</th>\n",
              "      <td>31.000000</td>\n",
              "      <td>51.000000</td>\n",
              "      <td>61.370700</td>\n",
              "      <td>-69.381900</td>\n",
              "      <td>3.283336e+06</td>\n",
              "      <td>12811.162350</td>\n",
              "      <td>4.227902e+07</td>\n",
              "      <td>3.928767</td>\n",
              "      <td>235733.711200</td>\n",
              "      <td>3.953822e+07</td>\n",
              "      <td>11280.000000</td>\n",
              "      <td>52.000000</td>\n",
              "      <td>109.000000</td>\n",
              "    </tr>\n",
              "  </tbody>\n",
              "</table>\n",
              "</div>"
            ],
            "text/plain": [
              "               Day     State ID  ...  Density Rank 2020 Census     SexRatio\n",
              "count  1380.000000  1380.000000  ...               1380.000000  1380.000000\n",
              "mean     16.500000    25.239130  ...                 27.173913    97.760870\n",
              "std       8.658579    14.513405  ...                 15.378197     3.219219\n",
              "min       2.000000     1.000000  ...                  1.000000    94.000000\n",
              "25%       9.000000    12.000000  ...                 13.000000    95.000000\n",
              "50%      16.500000    25.500000  ...                 28.500000    97.000000\n",
              "75%      24.000000    37.000000  ...                 41.000000    99.000000\n",
              "max      31.000000    51.000000  ...                 52.000000   109.000000\n",
              "\n",
              "[8 rows x 13 columns]"
            ]
          },
          "metadata": {
            "tags": []
          },
          "execution_count": 352
        }
      ]
    },
    {
      "cell_type": "code",
      "metadata": {
        "id": "44plFeQehFvY",
        "colab": {
          "base_uri": "https://localhost:8080/"
        },
        "outputId": "72a104b2-0ff3-489d-ede7-5d2de3a76fc4"
      },
      "source": [
        "m1 = covid_data.isnull().sum()\n",
        "m1"
      ],
      "execution_count": null,
      "outputs": [
        {
          "output_type": "execute_result",
          "data": {
            "text/plain": [
              "Day                                0\n",
              "State ID                           0\n",
              "State                              0\n",
              "Lat                                0\n",
              "Long_                              0\n",
              "Active                             0\n",
              "Incident_Rate                      0\n",
              "Total_Test_Results                 0\n",
              "Case_Fatality_Ratio                0\n",
              "Testing_Rate                       0\n",
              "Resident Population 2020 Census    0\n",
              "Population Density 2020 Census     0\n",
              "Density Rank 2020 Census           0\n",
              "SexRatio                           0\n",
              "Confirmed                          0\n",
              "Deaths                             0\n",
              "Recovered                          0\n",
              "dtype: int64"
            ]
          },
          "metadata": {
            "tags": []
          },
          "execution_count": 353
        }
      ]
    },
    {
      "cell_type": "markdown",
      "metadata": {
        "id": "5qBUjsv1R5-_"
      },
      "source": [
        "Since there are **no missing values**, we don't need to worry about that. In this dataset there are columns which are not useful enough i.e not meaningful and so can be ignored. so we drop that features.\n",
        "\n",
        "\n",
        "*   **State id and State name are similar** so one of them can be eliminated. Since State name is a string value, so can be eliminated.\n",
        "* We cannot remove the **day column** as it will be needed in further interpretation\n",
        "**bold text**\n",
        "\n",
        "\n"
      ]
    },
    {
      "cell_type": "code",
      "metadata": {
        "id": "IVBSmObWi6-_"
      },
      "source": [
        "covid_data = covid_data.drop([\"State\"], axis=1)"
      ],
      "execution_count": null,
      "outputs": []
    },
    {
      "cell_type": "markdown",
      "metadata": {
        "id": "xQI1_ls3aBFu"
      },
      "source": [
        "* Outliers are unusual datapoints which are different from rest of the observation. We need to detect those outliers as it can skew the statistical power of the data analysis process. \n",
        "* For detecting the outlier we will use **boxplot**. \n",
        "* It works on **inter-quartile range(IQR)**. It decides the lower boundry and upper boundry. Any datapoint visualised outside these range is an outlier.  "
      ]
    },
    {
      "cell_type": "code",
      "metadata": {
        "colab": {
          "base_uri": "https://localhost:8080/",
          "height": 296
        },
        "id": "qYbi5M3YuWKd",
        "outputId": "e163fa72-96c3-4598-b5e8-f52a7b3b9dba"
      },
      "source": [
        "sns.boxplot(x='Active', data=covid_data)"
      ],
      "execution_count": null,
      "outputs": [
        {
          "output_type": "execute_result",
          "data": {
            "text/plain": [
              "<matplotlib.axes._subplots.AxesSubplot at 0x7f10335afad0>"
            ]
          },
          "metadata": {
            "tags": []
          },
          "execution_count": 355
        },
        {
          "output_type": "display_data",
          "data": {
            "image/png": "[encoded data removed]",
            "text/plain": [
              "<Figure size 432x288 with 1 Axes>"
            ]
          },
          "metadata": {
            "tags": [],
            "needs_background": "light"
          }
        }
      ]
    },
    {
      "cell_type": "code",
      "metadata": {
        "colab": {
          "base_uri": "https://localhost:8080/",
          "height": 297
        },
        "id": "U9HvcodLG-Y2",
        "outputId": "f4388db4-2dbd-4056-faec-1a0014bbdf0d"
      },
      "source": [
        "sns.boxplot(x='Incident_Rate', data=covid_data)"
      ],
      "execution_count": null,
      "outputs": [
        {
          "output_type": "execute_result",
          "data": {
            "text/plain": [
              "<matplotlib.axes._subplots.AxesSubplot at 0x7f1033d12690>"
            ]
          },
          "metadata": {
            "tags": []
          },
          "execution_count": 356
        },
        {
          "output_type": "display_data",
          "data": {
            "image/png": "[encoded data removed]",
            "text/plain": [
              "<Figure size 432x288 with 1 Axes>"
            ]
          },
          "metadata": {
            "tags": [],
            "needs_background": "light"
          }
        }
      ]
    },
    {
      "cell_type": "code",
      "metadata": {
        "colab": {
          "base_uri": "https://localhost:8080/",
          "height": 297
        },
        "id": "-kJ5IaKYHs14",
        "outputId": "4d8db832-f9f9-4d81-c887-3dc7a77ca087"
      },
      "source": [
        "sns.boxplot(x='Total_Test_Results', data=covid_data)"
      ],
      "execution_count": null,
      "outputs": [
        {
          "output_type": "execute_result",
          "data": {
            "text/plain": [
              "<matplotlib.axes._subplots.AxesSubplot at 0x7f10346df3d0>"
            ]
          },
          "metadata": {
            "tags": []
          },
          "execution_count": 357
        },
        {
          "output_type": "display_data",
          "data": {
            "image/png": "[encoded data removed]",
            "text/plain": [
              "<Figure size 432x288 with 1 Axes>"
            ]
          },
          "metadata": {
            "tags": [],
            "needs_background": "light"
          }
        }
      ]
    },
    {
      "cell_type": "code",
      "metadata": {
        "colab": {
          "base_uri": "https://localhost:8080/",
          "height": 297
        },
        "id": "j1YYLglqH56x",
        "outputId": "66c3dbc1-9d22-4108-fcbb-9a4eaa841b12"
      },
      "source": [
        "sns.boxplot(x='Case_Fatality_Ratio', data=covid_data)"
      ],
      "execution_count": null,
      "outputs": [
        {
          "output_type": "execute_result",
          "data": {
            "text/plain": [
              "<matplotlib.axes._subplots.AxesSubplot at 0x7f1033e1b0d0>"
            ]
          },
          "metadata": {
            "tags": []
          },
          "execution_count": 358
        },
        {
          "output_type": "display_data",
          "data": {
            "image/png": "[encoded data removed]",
            "text/plain": [
              "<Figure size 432x288 with 1 Axes>"
            ]
          },
          "metadata": {
            "tags": [],
            "needs_background": "light"
          }
        }
      ]
    },
    {
      "cell_type": "code",
      "metadata": {
        "colab": {
          "base_uri": "https://localhost:8080/",
          "height": 297
        },
        "id": "1uYF-NjXIKJ4",
        "outputId": "6d912fe9-4c05-4b58-f44a-e748380fd24a"
      },
      "source": [
        "sns.boxplot(x='Total_Test_Results', data=covid_data)"
      ],
      "execution_count": null,
      "outputs": [
        {
          "output_type": "execute_result",
          "data": {
            "text/plain": [
              "<matplotlib.axes._subplots.AxesSubplot at 0x7f1033da5a90>"
            ]
          },
          "metadata": {
            "tags": []
          },
          "execution_count": 359
        },
        {
          "output_type": "display_data",
          "data": {
            "image/png": "[encoded data removed]",
            "text/plain": [
              "<Figure size 432x288 with 1 Axes>"
            ]
          },
          "metadata": {
            "tags": [],
            "needs_background": "light"
          }
        }
      ]
    },
    {
      "cell_type": "code",
      "metadata": {
        "colab": {
          "base_uri": "https://localhost:8080/",
          "height": 297
        },
        "id": "Q5kF1NerIzYo",
        "outputId": "9899a331-12ff-4c56-d4df-d73d211a1681"
      },
      "source": [
        "sns.boxplot(x='Testing_Rate', data=covid_data)"
      ],
      "execution_count": null,
      "outputs": [
        {
          "output_type": "execute_result",
          "data": {
            "text/plain": [
              "<matplotlib.axes._subplots.AxesSubplot at 0x7f10336b38d0>"
            ]
          },
          "metadata": {
            "tags": []
          },
          "execution_count": 360
        },
        {
          "output_type": "display_data",
          "data": {
            "image/png": "[encoded data removed]",
            "text/plain": [
              "<Figure size 432x288 with 1 Axes>"
            ]
          },
          "metadata": {
            "tags": [],
            "needs_background": "light"
          }
        }
      ]
    },
    {
      "cell_type": "code",
      "metadata": {
        "colab": {
          "base_uri": "https://localhost:8080/",
          "height": 296
        },
        "id": "hsMnGhV5KBBz",
        "outputId": "5f5fce5d-2482-4470-f872-509044388693"
      },
      "source": [
        "sns.boxplot(x='Population Density 2020 Census', data=covid_data)"
      ],
      "execution_count": null,
      "outputs": [
        {
          "output_type": "execute_result",
          "data": {
            "text/plain": [
              "<matplotlib.axes._subplots.AxesSubplot at 0x7f1033562e90>"
            ]
          },
          "metadata": {
            "tags": []
          },
          "execution_count": 361
        },
        {
          "output_type": "display_data",
          "data": {
            "image/png": "[encoded data removed]",
            "text/plain": [
              "<Figure size 432x288 with 1 Axes>"
            ]
          },
          "metadata": {
            "tags": [],
            "needs_background": "light"
          }
        }
      ]
    },
    {
      "cell_type": "code",
      "metadata": {
        "colab": {
          "base_uri": "https://localhost:8080/",
          "height": 296
        },
        "id": "uXZRHK0AXM2x",
        "outputId": "1480be5b-75f3-46e3-90ad-7eb97a4fbe68"
      },
      "source": [
        "sns.boxplot(x='Resident Population 2020 Census', data=covid_data)"
      ],
      "execution_count": null,
      "outputs": [
        {
          "output_type": "execute_result",
          "data": {
            "text/plain": [
              "<matplotlib.axes._subplots.AxesSubplot at 0x7f1034717850>"
            ]
          },
          "metadata": {
            "tags": []
          },
          "execution_count": 362
        },
        {
          "output_type": "display_data",
          "data": {
            "image/png": "[encoded data removed]",
            "text/plain": [
              "<Figure size 432x288 with 1 Axes>"
            ]
          },
          "metadata": {
            "tags": [],
            "needs_background": "light"
          }
        }
      ]
    },
    {
      "cell_type": "code",
      "metadata": {
        "colab": {
          "base_uri": "https://localhost:8080/",
          "height": 296
        },
        "id": "hKEBFg2IXivT",
        "outputId": "766593bd-3a65-4549-de31-4178cead9e00"
      },
      "source": [
        "sns.boxplot(x='SexRatio', data=covid_data)"
      ],
      "execution_count": null,
      "outputs": [
        {
          "output_type": "execute_result",
          "data": {
            "text/plain": [
              "<matplotlib.axes._subplots.AxesSubplot at 0x7f1033675950>"
            ]
          },
          "metadata": {
            "tags": []
          },
          "execution_count": 363
        },
        {
          "output_type": "display_data",
          "data": {
            "image/png": "[encoded data removed]",
            "text/plain": [
              "<Figure size 432x288 with 1 Axes>"
            ]
          },
          "metadata": {
            "tags": [],
            "needs_background": "light"
          }
        }
      ]
    },
    {
      "cell_type": "code",
      "metadata": {
        "colab": {
          "base_uri": "https://localhost:8080/",
          "height": 296
        },
        "id": "37SQpf8hYzw2",
        "outputId": "fc937a74-f7f9-4806-bffe-e32665f1cbed"
      },
      "source": [
        "sns.boxplot(x='Density Rank 2020 Census', data=covid_data)"
      ],
      "execution_count": null,
      "outputs": [
        {
          "output_type": "execute_result",
          "data": {
            "text/plain": [
              "<matplotlib.axes._subplots.AxesSubplot at 0x7f10336fcbd0>"
            ]
          },
          "metadata": {
            "tags": []
          },
          "execution_count": 364
        },
        {
          "output_type": "display_data",
          "data": {
            "image/png": "[encoded data removed]",
            "text/plain": [
              "<Figure size 432x288 with 1 Axes>"
            ]
          },
          "metadata": {
            "tags": [],
            "needs_background": "light"
          }
        }
      ]
    },
    {
      "cell_type": "markdown",
      "metadata": {
        "id": "3D5fsI9NTb9Z"
      },
      "source": [
        "We can see through the boxplot :\n",
        "* **lot of outliers** have been detected in **Active, Total test result, testing rate, case fatality ration and incident rate**.\n",
        "* The data and so we cannot remove it as there be a **huge data loss**. We cannot even replace it with mean or any other way as it would be data alteration. \n",
        "* On the other hand we cannot decide that Testing result data is an outlier or not, because the number of tests can be increased in the state if more kits are available or whatsoever reason.\n",
        "* After looking deeply, there might be cases that **if we remove the outliers than the almost data for single state be removed** which we dont want to do. \n",
        "* So we decide to keep it as it is and train our model on the same dataset. "
      ]
    },
    {
      "cell_type": "markdown",
      "metadata": {
        "id": "sSmqus0cdgJD"
      },
      "source": [
        "Now we will normalize the data as there are difference in the range of the values. It is beneficial to do so because many Machine learning models produce absurd results if the scale is not adjusted. Hence, it is an essential pre-processing step before building a model. \n",
        "* Here we are going to normalize our data through Z-Score normalization. \n",
        "* Z-Score normalization shows that how many standard deviations a datapoint is away from the mean. \n"
      ]
    },
    {
      "cell_type": "code",
      "metadata": {
        "id": "EhjBEaCodfMU",
        "colab": {
          "base_uri": "https://localhost:8080/"
        },
        "outputId": "0389f646-b566-4e5d-eafd-3028c72e5db1"
      },
      "source": [
        "covid_data.columns"
      ],
      "execution_count": null,
      "outputs": [
        {
          "output_type": "execute_result",
          "data": {
            "text/plain": [
              "Index(['Day', 'State ID', 'Lat', 'Long_', 'Active', 'Incident_Rate',\n",
              "       'Total_Test_Results', 'Case_Fatality_Ratio', 'Testing_Rate',\n",
              "       'Resident Population 2020 Census', 'Population Density 2020 Census',\n",
              "       'Density Rank 2020 Census', 'SexRatio', 'Confirmed', 'Deaths',\n",
              "       'Recovered'],\n",
              "      dtype='object')"
            ]
          },
          "metadata": {
            "tags": []
          },
          "execution_count": 365
        }
      ]
    },
    {
      "cell_type": "markdown",
      "metadata": {
        "id": "Z6RtIU-OW1nM"
      },
      "source": [
        "**Normalization is needed as our data is widely spread out and we need to bring it on the same scale.**"
      ]
    },
    {
      "cell_type": "code",
      "metadata": {
        "id": "yvA1qeGlB-fW"
      },
      "source": [
        "#Z-Score normalization\n",
        "covid_data_zscore_norm = ((covid_data.iloc[:, :-3]-covid_data.iloc[:, :-3].mean())/covid_data.iloc[:, :-3].std())\n",
        "\n",
        "#Adding the remaining label columns\n",
        "covid_data_zscore_norm['Confirmed'] = covid_data['Confirmed']\n",
        "covid_data_zscore_norm['Deaths'] = covid_data['Deaths']\n",
        "covid_data_zscore_norm['Recovered'] = covid_data['Recovered']"
      ],
      "execution_count": null,
      "outputs": []
    },
    {
      "cell_type": "code",
      "metadata": {
        "colab": {
          "base_uri": "https://localhost:8080/",
          "height": 274
        },
        "id": "F23HfSpOCOdr",
        "outputId": "4e2d5fb0-638a-451c-983f-287132da55e6"
      },
      "source": [
        "covid_data_zscore_norm.head()"
      ],
      "execution_count": null,
      "outputs": [
        {
          "output_type": "execute_result",
          "data": {
            "text/html": [
              "<div>\n",
              "<style scoped>\n",
              "    .dataframe tbody tr th:only-of-type {\n",
              "        vertical-align: middle;\n",
              "    }\n",
              "\n",
              "    .dataframe tbody tr th {\n",
              "        vertical-align: top;\n",
              "    }\n",
              "\n",
              "    .dataframe thead th {\n",
              "        text-align: right;\n",
              "    }\n",
              "</style>\n",
              "<table border=\"1\" class=\"dataframe\">\n",
              "  <thead>\n",
              "    <tr style=\"text-align: right;\">\n",
              "      <th></th>\n",
              "      <th>Day</th>\n",
              "      <th>State ID</th>\n",
              "      <th>Lat</th>\n",
              "      <th>Long_</th>\n",
              "      <th>Active</th>\n",
              "      <th>Incident_Rate</th>\n",
              "      <th>Total_Test_Results</th>\n",
              "      <th>Case_Fatality_Ratio</th>\n",
              "      <th>Testing_Rate</th>\n",
              "      <th>Resident Population 2020 Census</th>\n",
              "      <th>Population Density 2020 Census</th>\n",
              "      <th>Density Rank 2020 Census</th>\n",
              "      <th>SexRatio</th>\n",
              "      <th>Confirmed</th>\n",
              "      <th>Deaths</th>\n",
              "      <th>Recovered</th>\n",
              "    </tr>\n",
              "  </thead>\n",
              "  <tbody>\n",
              "    <tr>\n",
              "      <th>0</th>\n",
              "      <td>-1.67464</td>\n",
              "      <td>-1.670120</td>\n",
              "      <td>-1.178243</td>\n",
              "      <td>0.304476</td>\n",
              "      <td>-0.200629</td>\n",
              "      <td>0.143976</td>\n",
              "      <td>-0.483393</td>\n",
              "      <td>-0.476729</td>\n",
              "      <td>-1.301745</td>\n",
              "      <td>-0.128579</td>\n",
              "      <td>-0.217013</td>\n",
              "      <td>0.118745</td>\n",
              "      <td>-1.168255</td>\n",
              "      <td>True</td>\n",
              "      <td>False</td>\n",
              "      <td>False</td>\n",
              "    </tr>\n",
              "    <tr>\n",
              "      <th>1</th>\n",
              "      <td>-1.67464</td>\n",
              "      <td>-1.601218</td>\n",
              "      <td>3.607611</td>\n",
              "      <td>-3.031933</td>\n",
              "      <td>-0.448953</td>\n",
              "      <td>-0.290209</td>\n",
              "      <td>-0.569371</td>\n",
              "      <td>-1.799866</td>\n",
              "      <td>2.071154</td>\n",
              "      <td>-0.754174</td>\n",
              "      <td>-0.276752</td>\n",
              "      <td>1.614369</td>\n",
              "      <td>3.491260</td>\n",
              "      <td>True</td>\n",
              "      <td>True</td>\n",
              "      <td>False</td>\n",
              "    </tr>\n",
              "    <tr>\n",
              "      <th>2</th>\n",
              "      <td>-1.67464</td>\n",
              "      <td>-1.532317</td>\n",
              "      <td>-0.945708</td>\n",
              "      <td>-0.944926</td>\n",
              "      <td>0.389053</td>\n",
              "      <td>0.088511</td>\n",
              "      <td>-0.007491</td>\n",
              "      <td>0.074389</td>\n",
              "      <td>-1.268952</td>\n",
              "      <td>0.181561</td>\n",
              "      <td>-0.239163</td>\n",
              "      <td>0.508908</td>\n",
              "      <td>0.384916</td>\n",
              "      <td>True</td>\n",
              "      <td>True</td>\n",
              "      <td>True</td>\n",
              "    </tr>\n",
              "    <tr>\n",
              "      <th>3</th>\n",
              "      <td>-1.67464</td>\n",
              "      <td>-1.463415</td>\n",
              "      <td>-0.741458</td>\n",
              "      <td>0.025816</td>\n",
              "      <td>-0.482345</td>\n",
              "      <td>0.202178</td>\n",
              "      <td>-0.456457</td>\n",
              "      <td>-0.031299</td>\n",
              "      <td>-0.559153</td>\n",
              "      <td>-0.422031</td>\n",
              "      <td>-0.242214</td>\n",
              "      <td>0.573935</td>\n",
              "      <td>-0.546987</td>\n",
              "      <td>True</td>\n",
              "      <td>True</td>\n",
              "      <td>True</td>\n",
              "    </tr>\n",
              "    <tr>\n",
              "      <th>4</th>\n",
              "      <td>-1.67464</td>\n",
              "      <td>-1.394513</td>\n",
              "      <td>-0.552594</td>\n",
              "      <td>-1.365168</td>\n",
              "      <td>4.275439</td>\n",
              "      <td>-0.502417</td>\n",
              "      <td>4.022089</td>\n",
              "      <td>-0.792661</td>\n",
              "      <td>-0.177543</td>\n",
              "      <td>4.903416</td>\n",
              "      <td>-0.122735</td>\n",
              "      <td>-0.921689</td>\n",
              "      <td>0.384916</td>\n",
              "      <td>True</td>\n",
              "      <td>True</td>\n",
              "      <td>False</td>\n",
              "    </tr>\n",
              "  </tbody>\n",
              "</table>\n",
              "</div>"
            ],
            "text/plain": [
              "       Day  State ID       Lat  ...  Confirmed  Deaths  Recovered\n",
              "0 -1.67464 -1.670120 -1.178243  ...       True   False      False\n",
              "1 -1.67464 -1.601218  3.607611  ...       True    True      False\n",
              "2 -1.67464 -1.532317 -0.945708  ...       True    True       True\n",
              "3 -1.67464 -1.463415 -0.741458  ...       True    True       True\n",
              "4 -1.67464 -1.394513 -0.552594  ...       True    True      False\n",
              "\n",
              "[5 rows x 16 columns]"
            ]
          },
          "metadata": {
            "tags": []
          },
          "execution_count": 367
        }
      ]
    },
    {
      "cell_type": "markdown",
      "metadata": {
        "id": "IiiT0xgmIrRg"
      },
      "source": [
        "Now our data is on same scale. Here we remove the last 3 columns as they are the labels and there is no need to normalize it. Now we can start builing our model as our data is ready for analysis."
      ]
    },
    {
      "cell_type": "code",
      "metadata": {
        "colab": {
          "base_uri": "https://localhost:8080/",
          "height": 433
        },
        "id": "GsHvcvddNxTA",
        "outputId": "13488a63-5235-43cf-fe2a-5b0a379403eb"
      },
      "source": [
        "covid_data_zscore_norm.describe()"
      ],
      "execution_count": null,
      "outputs": [
        {
          "output_type": "execute_result",
          "data": {
            "text/html": [
              "<div>\n",
              "<style scoped>\n",
              "    .dataframe tbody tr th:only-of-type {\n",
              "        vertical-align: middle;\n",
              "    }\n",
              "\n",
              "    .dataframe tbody tr th {\n",
              "        vertical-align: top;\n",
              "    }\n",
              "\n",
              "    .dataframe thead th {\n",
              "        text-align: right;\n",
              "    }\n",
              "</style>\n",
              "<table border=\"1\" class=\"dataframe\">\n",
              "  <thead>\n",
              "    <tr style=\"text-align: right;\">\n",
              "      <th></th>\n",
              "      <th>Day</th>\n",
              "      <th>State ID</th>\n",
              "      <th>Lat</th>\n",
              "      <th>Long_</th>\n",
              "      <th>Active</th>\n",
              "      <th>Incident_Rate</th>\n",
              "      <th>Total_Test_Results</th>\n",
              "      <th>Case_Fatality_Ratio</th>\n",
              "      <th>Testing_Rate</th>\n",
              "      <th>Resident Population 2020 Census</th>\n",
              "      <th>Population Density 2020 Census</th>\n",
              "      <th>Density Rank 2020 Census</th>\n",
              "      <th>SexRatio</th>\n",
              "    </tr>\n",
              "  </thead>\n",
              "  <tbody>\n",
              "    <tr>\n",
              "      <th>count</th>\n",
              "      <td>1.380000e+03</td>\n",
              "      <td>1.380000e+03</td>\n",
              "      <td>1.380000e+03</td>\n",
              "      <td>1.380000e+03</td>\n",
              "      <td>1.380000e+03</td>\n",
              "      <td>1.380000e+03</td>\n",
              "      <td>1.380000e+03</td>\n",
              "      <td>1.380000e+03</td>\n",
              "      <td>1.380000e+03</td>\n",
              "      <td>1.380000e+03</td>\n",
              "      <td>1.380000e+03</td>\n",
              "      <td>1.380000e+03</td>\n",
              "      <td>1.380000e+03</td>\n",
              "    </tr>\n",
              "    <tr>\n",
              "      <th>mean</th>\n",
              "      <td>-1.576838e-17</td>\n",
              "      <td>-1.497997e-16</td>\n",
              "      <td>-1.046538e-14</td>\n",
              "      <td>1.573629e-14</td>\n",
              "      <td>-9.010506e-18</td>\n",
              "      <td>-2.128973e-15</td>\n",
              "      <td>6.999232e-18</td>\n",
              "      <td>-9.077280e-16</td>\n",
              "      <td>2.029415e-15</td>\n",
              "      <td>7.731336e-17</td>\n",
              "      <td>1.928409e-16</td>\n",
              "      <td>-7.787651e-17</td>\n",
              "      <td>1.736131e-16</td>\n",
              "    </tr>\n",
              "    <tr>\n",
              "      <th>std</th>\n",
              "      <td>1.000000e+00</td>\n",
              "      <td>1.000000e+00</td>\n",
              "      <td>1.000000e+00</td>\n",
              "      <td>1.000000e+00</td>\n",
              "      <td>1.000000e+00</td>\n",
              "      <td>1.000000e+00</td>\n",
              "      <td>1.000000e+00</td>\n",
              "      <td>1.000000e+00</td>\n",
              "      <td>1.000000e+00</td>\n",
              "      <td>1.000000e+00</td>\n",
              "      <td>1.000000e+00</td>\n",
              "      <td>1.000000e+00</td>\n",
              "      <td>1.000000e+00</td>\n",
              "    </tr>\n",
              "    <tr>\n",
              "      <th>min</th>\n",
              "      <td>-1.674640e+00</td>\n",
              "      <td>-1.670120e+00</td>\n",
              "      <td>-3.027170e+00</td>\n",
              "      <td>-3.291396e+00</td>\n",
              "      <td>-5.292652e-01</td>\n",
              "      <td>-2.590410e+00</td>\n",
              "      <td>-7.004457e-01</td>\n",
              "      <td>-1.815372e+00</td>\n",
              "      <td>-1.498822e+00</td>\n",
              "      <td>-7.769965e-01</td>\n",
              "      <td>-2.767523e-01</td>\n",
              "      <td>-1.702014e+00</td>\n",
              "      <td>-1.168255e+00</td>\n",
              "    </tr>\n",
              "    <tr>\n",
              "      <th>25%</th>\n",
              "      <td>-8.661929e-01</td>\n",
              "      <td>-9.122001e-01</td>\n",
              "      <td>-6.326696e-01</td>\n",
              "      <td>-6.331931e-01</td>\n",
              "      <td>-4.756211e-01</td>\n",
              "      <td>-5.037075e-01</td>\n",
              "      <td>-5.664870e-01</td>\n",
              "      <td>-5.859034e-01</td>\n",
              "      <td>-5.948879e-01</td>\n",
              "      <td>-6.489264e-01</td>\n",
              "      <td>-2.506353e-01</td>\n",
              "      <td>-9.216889e-01</td>\n",
              "      <td>-8.576210e-01</td>\n",
              "    </tr>\n",
              "    <tr>\n",
              "      <th>50%</th>\n",
              "      <td>0.000000e+00</td>\n",
              "      <td>1.797439e-02</td>\n",
              "      <td>1.865295e-02</td>\n",
              "      <td>2.353508e-01</td>\n",
              "      <td>-3.265071e-01</td>\n",
              "      <td>1.086683e-01</td>\n",
              "      <td>-3.363424e-01</td>\n",
              "      <td>-2.006451e-01</td>\n",
              "      <td>-1.547945e-01</td>\n",
              "      <td>-2.635826e-01</td>\n",
              "      <td>-2.143887e-01</td>\n",
              "      <td>8.623163e-02</td>\n",
              "      <td>-2.363522e-01</td>\n",
              "    </tr>\n",
              "    <tr>\n",
              "      <th>75%</th>\n",
              "      <td>8.661929e-01</td>\n",
              "      <td>8.103453e-01</td>\n",
              "      <td>6.351843e-01</td>\n",
              "      <td>7.981723e-01</td>\n",
              "      <td>-3.657458e-03</td>\n",
              "      <td>6.154949e-01</td>\n",
              "      <td>1.176709e-01</td>\n",
              "      <td>2.820997e-01</td>\n",
              "      <td>3.119624e-01</td>\n",
              "      <td>1.638348e-01</td>\n",
              "      <td>-1.227348e-01</td>\n",
              "      <td>8.990707e-01</td>\n",
              "      <td>3.849165e-01</td>\n",
              "    </tr>\n",
              "    <tr>\n",
              "      <th>max</th>\n",
              "      <td>1.674640e+00</td>\n",
              "      <td>1.774971e+00</td>\n",
              "      <td>3.607611e+00</td>\n",
              "      <td>1.196893e+00</td>\n",
              "      <td>6.150306e+00</td>\n",
              "      <td>2.432932e+00</td>\n",
              "      <td>5.293290e+00</td>\n",
              "      <td>3.497796e+00</td>\n",
              "      <td>3.523663e+00</td>\n",
              "      <td>4.903416e+00</td>\n",
              "      <td>6.605645e+00</td>\n",
              "      <td>1.614369e+00</td>\n",
              "      <td>3.491260e+00</td>\n",
              "    </tr>\n",
              "  </tbody>\n",
              "</table>\n",
              "</div>"
            ],
            "text/plain": [
              "                Day      State ID  ...  Density Rank 2020 Census      SexRatio\n",
              "count  1.380000e+03  1.380000e+03  ...              1.380000e+03  1.380000e+03\n",
              "mean  -1.576838e-17 -1.497997e-16  ...             -7.787651e-17  1.736131e-16\n",
              "std    1.000000e+00  1.000000e+00  ...              1.000000e+00  1.000000e+00\n",
              "min   -1.674640e+00 -1.670120e+00  ...             -1.702014e+00 -1.168255e+00\n",
              "25%   -8.661929e-01 -9.122001e-01  ...             -9.216889e-01 -8.576210e-01\n",
              "50%    0.000000e+00  1.797439e-02  ...              8.623163e-02 -2.363522e-01\n",
              "75%    8.661929e-01  8.103453e-01  ...              8.990707e-01  3.849165e-01\n",
              "max    1.674640e+00  1.774971e+00  ...              1.614369e+00  3.491260e+00\n",
              "\n",
              "[8 rows x 13 columns]"
            ]
          },
          "metadata": {
            "tags": []
          },
          "execution_count": 368
        }
      ]
    },
    {
      "cell_type": "markdown",
      "metadata": {
        "id": "xE9sRz7pdK_K"
      },
      "source": [
        "# **CM2 - Representation Learning**"
      ]
    },
    {
      "cell_type": "markdown",
      "metadata": {
        "id": "YpJrifzkTDVK"
      },
      "source": [
        "## PCA"
      ]
    },
    {
      "cell_type": "code",
      "metadata": {
        "id": "LTV-5MtWMKXl"
      },
      "source": [
        "from sklearn.decomposition import PCA\n",
        "\n",
        "pca = PCA()\n",
        "principal_components = pca.fit(covid_data_zscore_norm[[\"Lat\", \"Long_\", \"SexRatio\", \"Resident Population 2020 Census\", \"Population Density 2020 Census\", \"Density Rank 2020 Census\"]])"
      ],
      "execution_count": null,
      "outputs": []
    },
    {
      "cell_type": "markdown",
      "metadata": {
        "id": "3586t9w64Hf6"
      },
      "source": [
        "Here we **choose a subset** in a way that they are internally related. They cannot be changed whether the cases or conditions increase or decrease."
      ]
    },
    {
      "cell_type": "code",
      "metadata": {
        "colab": {
          "base_uri": "https://localhost:8080/",
          "height": 298
        },
        "id": "Of5BHhZ2WYhf",
        "outputId": "90085923-4776-435a-9588-76c367a9f853"
      },
      "source": [
        "import matplotlib.pyplot as plt\n",
        "plt.plot(principal_components.explained_variance_ratio_.cumsum())\n",
        "plt.title('Scree Plot')"
      ],
      "execution_count": null,
      "outputs": [
        {
          "output_type": "execute_result",
          "data": {
            "text/plain": [
              "Text(0.5, 1.0, 'Scree Plot')"
            ]
          },
          "metadata": {
            "tags": []
          },
          "execution_count": 370
        },
        {
          "output_type": "display_data",
          "data": {
            "image/png": "[encoded data removed]",
            "text/plain": [
              "<Figure size 432x288 with 1 Axes>"
            ]
          },
          "metadata": {
            "tags": [],
            "needs_background": "light"
          }
        }
      ]
    },
    {
      "cell_type": "code",
      "metadata": {
        "colab": {
          "base_uri": "https://localhost:8080/"
        },
        "id": "I84Ez00-2m2e",
        "outputId": "68c0454f-8db5-4f25-b2e1-b7d3616a2d14"
      },
      "source": [
        "print (\"Proportion of Variance Explained : \", pca.explained_variance_ratio_) \n",
        "out_sum = np.cumsum(pca.explained_variance_ratio_)  \n",
        "print (\"Cumulative Prop. Variance Explained: \", out_sum)"
      ],
      "execution_count": null,
      "outputs": [
        {
          "output_type": "stream",
          "text": [
            "Proportion of Variance Explained :  [0.45714937 0.20091266 0.14703083 0.13550344 0.04032692 0.01907679]\n",
            "Cumulative Prop. Variance Explained:  [0.45714937 0.65806203 0.80509285 0.94059629 0.98092321 1.        ]\n"
          ],
          "name": "stdout"
        }
      ]
    },
    {
      "cell_type": "markdown",
      "metadata": {
        "id": "ByWTeB5r0afl"
      },
      "source": [
        "After using the **Scree-plot** and **cumulative variance**, we found out that with the fourth principal component, the cumulative proportion of the variance explained 94% of data, therefore we would consider to keep **four principal components**."
      ]
    },
    {
      "cell_type": "code",
      "metadata": {
        "id": "u9-u4YPr054p"
      },
      "source": [
        "pca = PCA(n_components=4)\n",
        "principal_components = pca.fit_transform(covid_data_zscore_norm[[\"Lat\", \"Long_\", \"SexRatio\", \"Resident Population 2020 Census\", \"Population Density 2020 Census\", \"Density Rank 2020 Census\"]])"
      ],
      "execution_count": null,
      "outputs": []
    },
    {
      "cell_type": "markdown",
      "metadata": {
        "id": "d-viWDD5KsZM"
      },
      "source": [
        "we will save this data in another dataframe so the original data is not harmed."
      ]
    },
    {
      "cell_type": "code",
      "metadata": {
        "colab": {
          "base_uri": "https://localhost:8080/"
        },
        "id": "8-XGheZWM-HO",
        "outputId": "55c9e5a7-25aa-47b1-d4da-491187b9cda2"
      },
      "source": [
        "principal_components[0]"
      ],
      "execution_count": null,
      "outputs": [
        {
          "output_type": "execute_result",
          "data": {
            "text/plain": [
              "array([-0.99148328, -0.48735292, -0.38716464, -1.14202456])"
            ]
          },
          "metadata": {
            "tags": []
          },
          "execution_count": 373
        }
      ]
    },
    {
      "cell_type": "code",
      "metadata": {
        "colab": {
          "base_uri": "https://localhost:8080/",
          "height": 223
        },
        "id": "1SmK69yVKr7n",
        "outputId": "e0481837-aaa2-42b2-f323-4ee758228b41"
      },
      "source": [
        "covid_data_pca = covid_data_zscore_norm.copy()\n",
        "covid_data_pca.drop(columns=[\"Lat\", \"Long_\", \"SexRatio\", \"Resident Population 2020 Census\", \"Population Density 2020 Census\", \"Density Rank 2020 Census\"], inplace=True)\n",
        "covid_data_pca[\"PC1\"] = principal_components[:, 0]\n",
        "covid_data_pca[\"PC2\"] = principal_components[:, 1]\n",
        "covid_data_pca[\"PC3\"] = principal_components[:, 2]\n",
        "covid_data_pca[\"PC4\"] = principal_components[:, 3]\n",
        "#We have to change the order of the column as we want our target column to appear at the end.\n",
        "covid_data_pca = covid_data_pca[['Day', 'State ID', 'Active', 'Incident_Rate', 'Total_Test_Results',\n",
        "       'Case_Fatality_Ratio', 'Testing_Rate', 'PC1', 'PC2', 'PC3', 'PC4', 'Confirmed', 'Deaths',\n",
        "       'Recovered']]\n",
        "#our final dataset after the PCA is:\n",
        "covid_data_pca.head()"
      ],
      "execution_count": null,
      "outputs": [
        {
          "output_type": "execute_result",
          "data": {
            "text/html": [
              "<div>\n",
              "<style scoped>\n",
              "    .dataframe tbody tr th:only-of-type {\n",
              "        vertical-align: middle;\n",
              "    }\n",
              "\n",
              "    .dataframe tbody tr th {\n",
              "        vertical-align: top;\n",
              "    }\n",
              "\n",
              "    .dataframe thead th {\n",
              "        text-align: right;\n",
              "    }\n",
              "</style>\n",
              "<table border=\"1\" class=\"dataframe\">\n",
              "  <thead>\n",
              "    <tr style=\"text-align: right;\">\n",
              "      <th></th>\n",
              "      <th>Day</th>\n",
              "      <th>State ID</th>\n",
              "      <th>Active</th>\n",
              "      <th>Incident_Rate</th>\n",
              "      <th>Total_Test_Results</th>\n",
              "      <th>Case_Fatality_Ratio</th>\n",
              "      <th>Testing_Rate</th>\n",
              "      <th>PC1</th>\n",
              "      <th>PC2</th>\n",
              "      <th>PC3</th>\n",
              "      <th>PC4</th>\n",
              "      <th>Confirmed</th>\n",
              "      <th>Deaths</th>\n",
              "      <th>Recovered</th>\n",
              "    </tr>\n",
              "  </thead>\n",
              "  <tbody>\n",
              "    <tr>\n",
              "      <th>0</th>\n",
              "      <td>-1.67464</td>\n",
              "      <td>-1.670120</td>\n",
              "      <td>-0.200629</td>\n",
              "      <td>0.143976</td>\n",
              "      <td>-0.483393</td>\n",
              "      <td>-0.476729</td>\n",
              "      <td>-1.301745</td>\n",
              "      <td>-0.991483</td>\n",
              "      <td>-0.487353</td>\n",
              "      <td>-0.387165</td>\n",
              "      <td>-1.142025</td>\n",
              "      <td>True</td>\n",
              "      <td>False</td>\n",
              "      <td>False</td>\n",
              "    </tr>\n",
              "    <tr>\n",
              "      <th>1</th>\n",
              "      <td>-1.67464</td>\n",
              "      <td>-1.601218</td>\n",
              "      <td>-0.448953</td>\n",
              "      <td>-0.290209</td>\n",
              "      <td>-0.569371</td>\n",
              "      <td>-1.799866</td>\n",
              "      <td>2.071154</td>\n",
              "      <td>5.496636</td>\n",
              "      <td>0.858418</td>\n",
              "      <td>0.955562</td>\n",
              "      <td>2.148383</td>\n",
              "      <td>True</td>\n",
              "      <td>True</td>\n",
              "      <td>False</td>\n",
              "    </tr>\n",
              "    <tr>\n",
              "      <th>2</th>\n",
              "      <td>-1.67464</td>\n",
              "      <td>-1.532317</td>\n",
              "      <td>0.389053</td>\n",
              "      <td>0.088511</td>\n",
              "      <td>-0.007491</td>\n",
              "      <td>0.074389</td>\n",
              "      <td>-1.268952</td>\n",
              "      <td>0.630929</td>\n",
              "      <td>-1.043406</td>\n",
              "      <td>0.578421</td>\n",
              "      <td>-0.665235</td>\n",
              "      <td>True</td>\n",
              "      <td>True</td>\n",
              "      <td>True</td>\n",
              "    </tr>\n",
              "    <tr>\n",
              "      <th>3</th>\n",
              "      <td>-1.67464</td>\n",
              "      <td>-1.463415</td>\n",
              "      <td>-0.482345</td>\n",
              "      <td>0.202178</td>\n",
              "      <td>-0.456457</td>\n",
              "      <td>-0.031299</td>\n",
              "      <td>-0.559153</td>\n",
              "      <td>-0.065379</td>\n",
              "      <td>-0.237780</td>\n",
              "      <td>-0.339333</td>\n",
              "      <td>-1.019354</td>\n",
              "      <td>True</td>\n",
              "      <td>True</td>\n",
              "      <td>True</td>\n",
              "    </tr>\n",
              "    <tr>\n",
              "      <th>4</th>\n",
              "      <td>-1.67464</td>\n",
              "      <td>-1.394513</td>\n",
              "      <td>4.275439</td>\n",
              "      <td>-0.502417</td>\n",
              "      <td>4.022089</td>\n",
              "      <td>-0.792661</td>\n",
              "      <td>-0.177543</td>\n",
              "      <td>-1.092868</td>\n",
              "      <td>-3.663035</td>\n",
              "      <td>1.935326</td>\n",
              "      <td>2.904482</td>\n",
              "      <td>True</td>\n",
              "      <td>True</td>\n",
              "      <td>False</td>\n",
              "    </tr>\n",
              "  </tbody>\n",
              "</table>\n",
              "</div>"
            ],
            "text/plain": [
              "       Day  State ID    Active  ...  Confirmed  Deaths  Recovered\n",
              "0 -1.67464 -1.670120 -0.200629  ...       True   False      False\n",
              "1 -1.67464 -1.601218 -0.448953  ...       True    True      False\n",
              "2 -1.67464 -1.532317  0.389053  ...       True    True       True\n",
              "3 -1.67464 -1.463415 -0.482345  ...       True    True       True\n",
              "4 -1.67464 -1.394513  4.275439  ...       True    True      False\n",
              "\n",
              "[5 rows x 14 columns]"
            ]
          },
          "metadata": {
            "tags": []
          },
          "execution_count": 374
        }
      ]
    },
    {
      "cell_type": "markdown",
      "metadata": {
        "id": "J7w-6fNNYChE"
      },
      "source": [
        "**Plotting first 2 features of PCA**"
      ]
    },
    {
      "cell_type": "code",
      "metadata": {
        "colab": {
          "base_uri": "https://localhost:8080/",
          "height": 312
        },
        "id": "2oteTueGYBB5",
        "outputId": "832dcadf-c96e-4a2e-df6c-476e3c701e40"
      },
      "source": [
        "plt.scatter(x=covid_data_pca['PC1'], y=covid_data_pca['PC2'])\n",
        "plt.xlabel('PC1')\n",
        "plt.ylabel('PC2')\n",
        "plt.title(\"Scatter plot for PC1 vs PC2\")\n"
      ],
      "execution_count": null,
      "outputs": [
        {
          "output_type": "execute_result",
          "data": {
            "text/plain": [
              "Text(0.5, 1.0, 'Scatter plot for PC1 vs PC2')"
            ]
          },
          "metadata": {
            "tags": []
          },
          "execution_count": 435
        },
        {
          "output_type": "display_data",
          "data": {
            "image/png": "[encoded data removed]",
            "text/plain": [
              "<Figure size 432x288 with 1 Axes>"
            ]
          },
          "metadata": {
            "tags": [],
            "needs_background": "light"
          }
        }
      ]
    },
    {
      "cell_type": "markdown",
      "metadata": {
        "id": "eD04i9zoS7gu"
      },
      "source": [
        "## LDA"
      ]
    },
    {
      "cell_type": "code",
      "metadata": {
        "id": "HxhkPdq-S7IZ"
      },
      "source": [
        "from sklearn.discriminant_analysis import LinearDiscriminantAnalysis as LDA\n"
      ],
      "execution_count": null,
      "outputs": []
    },
    {
      "cell_type": "markdown",
      "metadata": {
        "id": "fmq8PmQJWRHN"
      },
      "source": [
        "To perform LDA, we need to make 3 different models because our main dataset has 3 targets. "
      ]
    },
    {
      "cell_type": "code",
      "metadata": {
        "id": "tMEif5CkWQxE"
      },
      "source": [
        "covid_data_confirmed = covid_data_zscore_norm.drop(columns=[\"Deaths\", \"Recovered\"])\n",
        "covid_data_deaths = covid_data_zscore_norm.drop(columns=[\"Confirmed\", \"Recovered\"])\n",
        "covid_data_recovered = covid_data_zscore_norm.drop(columns=[\"Confirmed\", \"Deaths\"])"
      ],
      "execution_count": null,
      "outputs": []
    },
    {
      "cell_type": "code",
      "metadata": {
        "id": "Zs8xRZzfaV35"
      },
      "source": [
        "#LDA for model 1 where confirmed is the target columm\n",
        "lda_confirmed = LDA()\n",
        "covid_data_confirmed_lda = lda_confirmed.fit_transform(covid_data_confirmed[[\"Lat\", \"Long_\", \"SexRatio\", \"Resident Population 2020 Census\", \"Population Density 2020 Census\", \"Density Rank 2020 Census\"]].iloc[:, :-1], covid_data_confirmed.iloc[:, -1])\n",
        "\n",
        "#Drop the column and add the LDA column\n",
        "covid_data_confirmed_lda1 = covid_data_confirmed.drop(columns = [\"Lat\", \"Long_\", \"SexRatio\", \"Resident Population 2020 Census\", \"Population Density 2020 Census\", \"Density Rank 2020 Census\"])\n",
        "covid_data_confirmed_lda1[\"LDA_confirmed\"] = covid_data_confirmed_lda"
      ],
      "execution_count": null,
      "outputs": []
    },
    {
      "cell_type": "code",
      "metadata": {
        "id": "O9DoQfJgb2TR"
      },
      "source": [
        "#LDA for model 2 where Deaths is the target columm\n",
        "lda_deaths = LDA()\n",
        "covid_data_deaths_lda = lda_deaths.fit_transform(covid_data_deaths[[\"Lat\", \"Long_\", \"SexRatio\", \"Resident Population 2020 Census\", \"Population Density 2020 Census\", \"Density Rank 2020 Census\"]].iloc[:, :-1], covid_data_deaths.iloc[:, -1])\n",
        "\n",
        "#Drop the column and add the LDA column\n",
        "covid_data_deaths_lda1 = covid_data_deaths.drop(columns = [\"Lat\", \"Long_\", \"SexRatio\", \"Resident Population 2020 Census\", \"Population Density 2020 Census\", \"Density Rank 2020 Census\"])\n",
        "covid_data_deaths_lda1[\"LDA_deaths\"] = covid_data_deaths_lda"
      ],
      "execution_count": null,
      "outputs": []
    },
    {
      "cell_type": "code",
      "metadata": {
        "id": "RDc6ygO9b2tV"
      },
      "source": [
        "#LDA for model 3 where recovered is the target columm\n",
        "lda_recovered = LDA()\n",
        "covid_data_recovered_lda = lda_recovered.fit_transform(covid_data_recovered[[\"Lat\", \"Long_\", \"SexRatio\", \"Resident Population 2020 Census\", \"Population Density 2020 Census\", \"Density Rank 2020 Census\"]].iloc[:, :-1], covid_data_recovered.iloc[:, -1])\n",
        "\n",
        "#Drop the column and add the LDA column\n",
        "covid_data_recovered_lda1 = covid_data_recovered.drop(columns = [\"Lat\", \"Long_\", \"SexRatio\", \"Resident Population 2020 Census\", \"Population Density 2020 Census\", \"Density Rank 2020 Census\"])\n",
        "covid_data_recovered_lda1[\"LDA_confirmed\"] = covid_data_recovered_lda"
      ],
      "execution_count": null,
      "outputs": []
    },
    {
      "cell_type": "code",
      "metadata": {
        "colab": {
          "base_uri": "https://localhost:8080/"
        },
        "id": "LIQRl9vLeViq",
        "outputId": "67d58dd2-a5cd-4c0a-c31d-4e82a6980143"
      },
      "source": [
        "print(\"Explained variance ratio for each LDA - \")\n",
        "print(\"Confirmed:\" + str(lda_confirmed.explained_variance_ratio_))\n",
        "print(\"Deaths:\" + str(lda_deaths.explained_variance_ratio_))\n",
        "print(\"Recovered:\"+str(lda_recovered.explained_variance_ratio_))"
      ],
      "execution_count": null,
      "outputs": [
        {
          "output_type": "stream",
          "text": [
            "Explained variance ratio for each LDA - \n",
            "Confirmed:[1.]\n",
            "Deaths:[1.]\n",
            "Recovered:[1.]\n"
          ],
          "name": "stdout"
        }
      ]
    },
    {
      "cell_type": "markdown",
      "metadata": {
        "id": "olDqtcqQfsN7"
      },
      "source": [
        "**LDA preforms same for all the three models** i.e all the three targets. Here all of them have same output i.e either true or false. \n",
        "\n",
        "We have also noticed that **PCA dose not take output column** while **LDA takes target columns** into consideration while selecting the linear discriminant."
      ]
    },
    {
      "cell_type": "markdown",
      "metadata": {
        "id": "MzSIvVtQg1ce"
      },
      "source": [
        "# **CM3 - Decision Trees Classifier**\n",
        "\n"
      ]
    },
    {
      "cell_type": "code",
      "metadata": {
        "id": "w8k_X1jBpujQ"
      },
      "source": [
        "from sklearn.tree import DecisionTreeClassifier\n",
        "from sklearn.model_selection import cross_val_score\n",
        "from sklearn import metrics\n",
        "from sklearn.tree import export_text"
      ],
      "execution_count": null,
      "outputs": []
    },
    {
      "cell_type": "code",
      "metadata": {
        "colab": {
          "base_uri": "https://localhost:8080/",
          "height": 274
        },
        "id": "31JLKyTv3x3w",
        "outputId": "ca09d894-77f4-45ee-ea34-6a336bb39728"
      },
      "source": [
        "covid_data_zscore_norm.head()"
      ],
      "execution_count": null,
      "outputs": [
        {
          "output_type": "execute_result",
          "data": {
            "text/html": [
              "<div>\n",
              "<style scoped>\n",
              "    .dataframe tbody tr th:only-of-type {\n",
              "        vertical-align: middle;\n",
              "    }\n",
              "\n",
              "    .dataframe tbody tr th {\n",
              "        vertical-align: top;\n",
              "    }\n",
              "\n",
              "    .dataframe thead th {\n",
              "        text-align: right;\n",
              "    }\n",
              "</style>\n",
              "<table border=\"1\" class=\"dataframe\">\n",
              "  <thead>\n",
              "    <tr style=\"text-align: right;\">\n",
              "      <th></th>\n",
              "      <th>Day</th>\n",
              "      <th>State ID</th>\n",
              "      <th>Lat</th>\n",
              "      <th>Long_</th>\n",
              "      <th>Active</th>\n",
              "      <th>Incident_Rate</th>\n",
              "      <th>Total_Test_Results</th>\n",
              "      <th>Case_Fatality_Ratio</th>\n",
              "      <th>Testing_Rate</th>\n",
              "      <th>Resident Population 2020 Census</th>\n",
              "      <th>Population Density 2020 Census</th>\n",
              "      <th>Density Rank 2020 Census</th>\n",
              "      <th>SexRatio</th>\n",
              "      <th>Confirmed</th>\n",
              "      <th>Deaths</th>\n",
              "      <th>Recovered</th>\n",
              "    </tr>\n",
              "  </thead>\n",
              "  <tbody>\n",
              "    <tr>\n",
              "      <th>0</th>\n",
              "      <td>-1.67464</td>\n",
              "      <td>-1.670120</td>\n",
              "      <td>-1.178243</td>\n",
              "      <td>0.304476</td>\n",
              "      <td>-0.200629</td>\n",
              "      <td>0.143976</td>\n",
              "      <td>-0.483393</td>\n",
              "      <td>-0.476729</td>\n",
              "      <td>-1.301745</td>\n",
              "      <td>-0.128579</td>\n",
              "      <td>-0.217013</td>\n",
              "      <td>0.118745</td>\n",
              "      <td>-1.168255</td>\n",
              "      <td>True</td>\n",
              "      <td>False</td>\n",
              "      <td>False</td>\n",
              "    </tr>\n",
              "    <tr>\n",
              "      <th>1</th>\n",
              "      <td>-1.67464</td>\n",
              "      <td>-1.601218</td>\n",
              "      <td>3.607611</td>\n",
              "      <td>-3.031933</td>\n",
              "      <td>-0.448953</td>\n",
              "      <td>-0.290209</td>\n",
              "      <td>-0.569371</td>\n",
              "      <td>-1.799866</td>\n",
              "      <td>2.071154</td>\n",
              "      <td>-0.754174</td>\n",
              "      <td>-0.276752</td>\n",
              "      <td>1.614369</td>\n",
              "      <td>3.491260</td>\n",
              "      <td>True</td>\n",
              "      <td>True</td>\n",
              "      <td>False</td>\n",
              "    </tr>\n",
              "    <tr>\n",
              "      <th>2</th>\n",
              "      <td>-1.67464</td>\n",
              "      <td>-1.532317</td>\n",
              "      <td>-0.945708</td>\n",
              "      <td>-0.944926</td>\n",
              "      <td>0.389053</td>\n",
              "      <td>0.088511</td>\n",
              "      <td>-0.007491</td>\n",
              "      <td>0.074389</td>\n",
              "      <td>-1.268952</td>\n",
              "      <td>0.181561</td>\n",
              "      <td>-0.239163</td>\n",
              "      <td>0.508908</td>\n",
              "      <td>0.384916</td>\n",
              "      <td>True</td>\n",
              "      <td>True</td>\n",
              "      <td>True</td>\n",
              "    </tr>\n",
              "    <tr>\n",
              "      <th>3</th>\n",
              "      <td>-1.67464</td>\n",
              "      <td>-1.463415</td>\n",
              "      <td>-0.741458</td>\n",
              "      <td>0.025816</td>\n",
              "      <td>-0.482345</td>\n",
              "      <td>0.202178</td>\n",
              "      <td>-0.456457</td>\n",
              "      <td>-0.031299</td>\n",
              "      <td>-0.559153</td>\n",
              "      <td>-0.422031</td>\n",
              "      <td>-0.242214</td>\n",
              "      <td>0.573935</td>\n",
              "      <td>-0.546987</td>\n",
              "      <td>True</td>\n",
              "      <td>True</td>\n",
              "      <td>True</td>\n",
              "    </tr>\n",
              "    <tr>\n",
              "      <th>4</th>\n",
              "      <td>-1.67464</td>\n",
              "      <td>-1.394513</td>\n",
              "      <td>-0.552594</td>\n",
              "      <td>-1.365168</td>\n",
              "      <td>4.275439</td>\n",
              "      <td>-0.502417</td>\n",
              "      <td>4.022089</td>\n",
              "      <td>-0.792661</td>\n",
              "      <td>-0.177543</td>\n",
              "      <td>4.903416</td>\n",
              "      <td>-0.122735</td>\n",
              "      <td>-0.921689</td>\n",
              "      <td>0.384916</td>\n",
              "      <td>True</td>\n",
              "      <td>True</td>\n",
              "      <td>False</td>\n",
              "    </tr>\n",
              "  </tbody>\n",
              "</table>\n",
              "</div>"
            ],
            "text/plain": [
              "       Day  State ID       Lat  ...  Confirmed  Deaths  Recovered\n",
              "0 -1.67464 -1.670120 -1.178243  ...       True   False      False\n",
              "1 -1.67464 -1.601218  3.607611  ...       True    True      False\n",
              "2 -1.67464 -1.532317 -0.945708  ...       True    True       True\n",
              "3 -1.67464 -1.463415 -0.741458  ...       True    True       True\n",
              "4 -1.67464 -1.394513 -0.552594  ...       True    True      False\n",
              "\n",
              "[5 rows x 16 columns]"
            ]
          },
          "metadata": {
            "tags": []
          },
          "execution_count": 382
        }
      ]
    },
    {
      "cell_type": "code",
      "metadata": {
        "id": "KiGg-DaZztxO"
      },
      "source": [
        "X = covid_data_zscore_norm[['Day', 'State ID', 'Lat', 'Long_', 'Active', 'Incident_Rate',\n",
        "       'Total_Test_Results', 'Case_Fatality_Ratio', 'Testing_Rate',\n",
        "       'Resident Population 2020 Census', 'Population Density 2020 Census',\n",
        "       'Density Rank 2020 Census', 'SexRatio']]\n",
        "y = covid_data[['Confirmed', 'Deaths', 'Recovered']]"
      ],
      "execution_count": null,
      "outputs": []
    },
    {
      "cell_type": "code",
      "metadata": {
        "colab": {
          "base_uri": "https://localhost:8080/"
        },
        "id": "8Tu3_x-7thd-",
        "outputId": "52f5f706-2e71-4f53-c9a5-64d61b861d49"
      },
      "source": [
        "\n",
        "max_depth = [3, 5, 10, None]\n",
        "#empty list to store the cross Val scores.\n",
        "cv_scores = []\n",
        "\n",
        "for m in max_depth:\n",
        "  if m is not None:\n",
        "    dec_tree = DecisionTreeClassifier(random_state=0, max_depth=m)\n",
        "  else:\n",
        "    dec_tree = DecisionTreeClassifier(random_state=0, max_depth=m, min_samples_leaf=2)\n",
        "  scores = cross_val_score(dec_tree, X, y ,cv=10)\n",
        "  cv_scores.append(scores.mean())\n",
        "  \n",
        "print(\"Mean Accuracy for [3, 5, 10, None] is \"+str(cv_scores))\n"
      ],
      "execution_count": null,
      "outputs": [
        {
          "output_type": "stream",
          "text": [
            "Mean Accuracy for [3, 5, 10, None] is [0.7420289855072464, 0.8166666666666667, 0.8130434782608695, 0.7702898550724637]\n"
          ],
          "name": "stdout"
        }
      ]
    },
    {
      "cell_type": "code",
      "metadata": {
        "colab": {
          "base_uri": "https://localhost:8080/",
          "height": 295
        },
        "id": "lzoBcxBx2yty",
        "outputId": "6f24ec4d-5e61-47f5-97b2-a66b7073d374"
      },
      "source": [
        "#Graphical view \n",
        "plt.plot(max_depth, cv_scores)\n",
        "plt.xlabel(\"Max Depth\")\n",
        "plt.ylabel(\"Mean Accuracy\")\n",
        "plt.title(\"Max Depth vs Mean Accuracy plot\")\n",
        "plt.show()"
      ],
      "execution_count": null,
      "outputs": [
        {
          "output_type": "display_data",
          "data": {
            "image/png": "[encoded data removed]",
            "text/plain": [
              "<Figure size 432x288 with 1 Axes>"
            ]
          },
          "metadata": {
            "tags": [],
            "needs_background": "light"
          }
        }
      ]
    },
    {
      "cell_type": "markdown",
      "metadata": {
        "id": "a4OAg0k44kYc"
      },
      "source": [
        "**By considering the above output we can say that model best fits when Max Depth is 5**\n",
        "\n"
      ]
    },
    {
      "cell_type": "code",
      "metadata": {
        "colab": {
          "base_uri": "https://localhost:8080/"
        },
        "id": "hpfltaf35MOb",
        "outputId": "ccfa1082-bc29-4ab7-dad1-2c6c05451638"
      },
      "source": [
        "dec_tree = DecisionTreeClassifier(max_depth=5)\n",
        "dec_tree.fit(X, y)"
      ],
      "execution_count": null,
      "outputs": [
        {
          "output_type": "execute_result",
          "data": {
            "text/plain": [
              "DecisionTreeClassifier(ccp_alpha=0.0, class_weight=None, criterion='gini',\n",
              "                       max_depth=5, max_features=None, max_leaf_nodes=None,\n",
              "                       min_impurity_decrease=0.0, min_impurity_split=None,\n",
              "                       min_samples_leaf=1, min_samples_split=2,\n",
              "                       min_weight_fraction_leaf=0.0, presort='deprecated',\n",
              "                       random_state=None, splitter='best')"
            ]
          },
          "metadata": {
            "tags": []
          },
          "execution_count": 386
        }
      ]
    },
    {
      "cell_type": "markdown",
      "metadata": {
        "id": "wIGj31wg5eLD"
      },
      "source": [
        "Decision tree visualization "
      ]
    },
    {
      "cell_type": "code",
      "metadata": {
        "colab": {
          "base_uri": "https://localhost:8080/",
          "height": 1000
        },
        "id": "iNhqtF6M5dkS",
        "outputId": "123f8f0d-e390-4b18-96c9-2f6cb098345d"
      },
      "source": [
        "from sklearn import tree\n",
        "import graphviz\n",
        "data = tree.export_graphviz(dec_tree, filled=True, feature_names=list(covid_data_zscore_norm.columns)[:-3], leaves_parallel=True)\n",
        "graph = graphviz.Source(data, format=\"png\")\n",
        "png_bytes = graph.pipe(format='png')\n",
        "with open('dtree_pipe.png','wb') as f:\n",
        "    f.write(png_bytes)\n",
        "graph"
      ],
      "execution_count": null,
      "outputs": [
        {
          "output_type": "execute_result",
          "data": {
            "text/plain": [
              "<graphviz.files.Source at 0x7f1034643850>"
            ],
            "image/svg+xml": "<?xml version=\"1.0\" encoding=\"UTF-8\" standalone=\"no\"?>\n<!DOCTYPE svg PUBLIC \"-//W3C//DTD SVG 1.1//EN\"\n \"http://www.w3.org/Graphics/SVG/1.1/DTD/svg11.dtd\">\n<!-- Generated by graphviz version 2.40.1 (20161225.0304)\n -->\n<!-- Title: Tree Pages: 1 -->\n<svg width=\"2717pt\" height=\"769pt\"\n viewBox=\"0.00 0.00 2716.50 768.50\" xmlns=\"http://www.w3.org/2000/svg\" xmlns:xlink=\"http://www.w3.org/1999/xlink\">\n<g id=\"graph0\" class=\"graph\" transform=\"scale(1 1) rotate(0) translate(4 764.5)\">\n<title>Tree</title>\n<polygon fill=\"#ffffff\" stroke=\"transparent\" points=\"-4,4 -4,-764.5 2712.5,-764.5 2712.5,4 -4,4\"/>\n<!-- 0 -->\n<g id=\"node1\" class=\"node\">\n<title>0</title>\n<polygon fill=\"#fae7d9\" stroke=\"#000000\" points=\"1151,-760.5 1022,-760.5 1022,-662.5 1151,-662.5 1151,-760.5\"/>\n<text text-anchor=\"middle\" x=\"1086.5\" y=\"-745.3\" font-family=\"Times,serif\" font-size=\"14.00\" fill=\"#000000\">Long_ &lt;= &#45;1.166</text>\n<text text-anchor=\"middle\" x=\"1086.5\" y=\"-730.3\" font-family=\"Times,serif\" font-size=\"14.00\" fill=\"#000000\">gini = 0.239</text>\n<text text-anchor=\"middle\" x=\"1086.5\" y=\"-715.3\" font-family=\"Times,serif\" font-size=\"14.00\" fill=\"#000000\">samples = 1380</text>\n<text text-anchor=\"middle\" x=\"1086.5\" y=\"-700.3\" font-family=\"Times,serif\" font-size=\"14.00\" fill=\"#000000\">value = [[51, 1329]</text>\n<text text-anchor=\"middle\" x=\"1086.5\" y=\"-685.3\" font-family=\"Times,serif\" font-size=\"14.00\" fill=\"#000000\">[136, 1244]</text>\n<text text-anchor=\"middle\" x=\"1086.5\" y=\"-670.3\" font-family=\"Times,serif\" font-size=\"14.00\" fill=\"#000000\">[516, 864]]</text>\n</g>\n<!-- 1 -->\n<g id=\"node2\" class=\"node\">\n<title>1</title>\n<polygon fill=\"#eeab7c\" stroke=\"#000000\" points=\"1010.5,-626.5 822.5,-626.5 822.5,-528.5 1010.5,-528.5 1010.5,-626.5\"/>\n<text text-anchor=\"middle\" x=\"916.5\" y=\"-611.3\" font-family=\"Times,serif\" font-size=\"14.00\" fill=\"#000000\">Total_Test_Results &lt;= &#45;0.496</text>\n<text text-anchor=\"middle\" x=\"916.5\" y=\"-596.3\" font-family=\"Times,serif\" font-size=\"14.00\" fill=\"#000000\">gini = 0.1</text>\n<text text-anchor=\"middle\" x=\"916.5\" y=\"-581.3\" font-family=\"Times,serif\" font-size=\"14.00\" fill=\"#000000\">samples = 150</text>\n<text text-anchor=\"middle\" x=\"916.5\" y=\"-566.3\" font-family=\"Times,serif\" font-size=\"14.00\" fill=\"#000000\">value = [[1, 149]</text>\n<text text-anchor=\"middle\" x=\"916.5\" y=\"-551.3\" font-family=\"Times,serif\" font-size=\"14.00\" fill=\"#000000\">[26, 124]</text>\n<text text-anchor=\"middle\" x=\"916.5\" y=\"-536.3\" font-family=\"Times,serif\" font-size=\"14.00\" fill=\"#000000\">[150, 0]]</text>\n</g>\n<!-- 0&#45;&gt;1 -->\n<g id=\"edge1\" class=\"edge\">\n<title>0&#45;&gt;1</title>\n<path fill=\"none\" stroke=\"#000000\" d=\"M1024.1636,-662.3642C1012.0371,-652.8057 999.2466,-642.7238 986.8817,-632.9773\"/>\n<polygon fill=\"#000000\" stroke=\"#000000\" points=\"988.8491,-630.0716 978.8289,-626.6298 984.5158,-635.5691 988.8491,-630.0716\"/>\n<text text-anchor=\"middle\" x=\"981.7689\" y=\"-647.7564\" font-family=\"Times,serif\" font-size=\"14.00\" fill=\"#000000\">True</text>\n</g>\n<!-- 20 -->\n<g id=\"node21\" class=\"node\">\n<title>20</title>\n<polygon fill=\"#f8decc\" stroke=\"#000000\" points=\"1433.5,-626.5 1305.5,-626.5 1305.5,-528.5 1433.5,-528.5 1433.5,-626.5\"/>\n<text text-anchor=\"middle\" x=\"1369.5\" y=\"-611.3\" font-family=\"Times,serif\" font-size=\"14.00\" fill=\"#000000\">Lat &lt;= &#45;1.002</text>\n<text text-anchor=\"middle\" x=\"1369.5\" y=\"-596.3\" font-family=\"Times,serif\" font-size=\"14.00\" fill=\"#000000\">gini = 0.22</text>\n<text text-anchor=\"middle\" x=\"1369.5\" y=\"-581.3\" font-family=\"Times,serif\" font-size=\"14.00\" fill=\"#000000\">samples = 1230</text>\n<text text-anchor=\"middle\" x=\"1369.5\" y=\"-566.3\" font-family=\"Times,serif\" font-size=\"14.00\" fill=\"#000000\">value = [[50, 1180]</text>\n<text text-anchor=\"middle\" x=\"1369.5\" y=\"-551.3\" font-family=\"Times,serif\" font-size=\"14.00\" fill=\"#000000\">[110, 1120]</text>\n<text text-anchor=\"middle\" x=\"1369.5\" y=\"-536.3\" font-family=\"Times,serif\" font-size=\"14.00\" fill=\"#000000\">[366, 864]]</text>\n</g>\n<!-- 0&#45;&gt;20 -->\n<g id=\"edge20\" class=\"edge\">\n<title>0&#45;&gt;20</title>\n<path fill=\"none\" stroke=\"#000000\" d=\"M1151.0712,-680.9257C1194.2625,-660.4746 1251.1928,-633.5182 1296.1036,-612.2531\"/>\n<polygon fill=\"#000000\" stroke=\"#000000\" points=\"1297.666,-615.3859 1305.2062,-607.943 1294.6703,-609.0592 1297.666,-615.3859\"/>\n<text text-anchor=\"middle\" x=\"1296.7942\" y=\"-627.7853\" font-family=\"Times,serif\" font-size=\"14.00\" fill=\"#000000\">False</text>\n</g>\n<!-- 2 -->\n<g id=\"node3\" class=\"node\">\n<title>2</title>\n<polygon fill=\"#f3c6a5\" stroke=\"#000000\" points=\"792.5,-492.5 598.5,-492.5 598.5,-394.5 792.5,-394.5 792.5,-492.5\"/>\n<text text-anchor=\"middle\" x=\"695.5\" y=\"-477.3\" font-family=\"Times,serif\" font-size=\"14.00\" fill=\"#000000\">Case_Fatality_Ratio &lt;= &#45;0.499</text>\n<text text-anchor=\"middle\" x=\"695.5\" y=\"-462.3\" font-family=\"Times,serif\" font-size=\"14.00\" fill=\"#000000\">gini = 0.162</text>\n<text text-anchor=\"middle\" x=\"695.5\" y=\"-447.3\" font-family=\"Times,serif\" font-size=\"14.00\" fill=\"#000000\">samples = 60</text>\n<text text-anchor=\"middle\" x=\"695.5\" y=\"-432.3\" font-family=\"Times,serif\" font-size=\"14.00\" fill=\"#000000\">value = [[0, 60]</text>\n<text text-anchor=\"middle\" x=\"695.5\" y=\"-417.3\" font-family=\"Times,serif\" font-size=\"14.00\" fill=\"#000000\">[25, 35]</text>\n<text text-anchor=\"middle\" x=\"695.5\" y=\"-402.3\" font-family=\"Times,serif\" font-size=\"14.00\" fill=\"#000000\">[60, 0]]</text>\n</g>\n<!-- 1&#45;&gt;2 -->\n<g id=\"edge2\" class=\"edge\">\n<title>1&#45;&gt;2</title>\n<path fill=\"none\" stroke=\"#000000\" d=\"M835.4627,-528.3642C819.0976,-518.4416 801.8025,-507.9549 785.1616,-497.865\"/>\n<polygon fill=\"#000000\" stroke=\"#000000\" points=\"786.8932,-494.8218 776.5275,-492.6298 783.2638,-500.8074 786.8932,-494.8218\"/>\n</g>\n<!-- 15 -->\n<g id=\"node16\" class=\"node\">\n<title>15</title>\n<polygon fill=\"#e68743\" stroke=\"#000000\" points=\"970,-492.5 863,-492.5 863,-394.5 970,-394.5 970,-492.5\"/>\n<text text-anchor=\"middle\" x=\"916.5\" y=\"-477.3\" font-family=\"Times,serif\" font-size=\"14.00\" fill=\"#000000\">Day &lt;= 1.617</text>\n<text text-anchor=\"middle\" x=\"916.5\" y=\"-462.3\" font-family=\"Times,serif\" font-size=\"14.00\" fill=\"#000000\">gini = 0.015</text>\n<text text-anchor=\"middle\" x=\"916.5\" y=\"-447.3\" font-family=\"Times,serif\" font-size=\"14.00\" fill=\"#000000\">samples = 90</text>\n<text text-anchor=\"middle\" x=\"916.5\" y=\"-432.3\" font-family=\"Times,serif\" font-size=\"14.00\" fill=\"#000000\">value = [[1, 89]</text>\n<text text-anchor=\"middle\" x=\"916.5\" y=\"-417.3\" font-family=\"Times,serif\" font-size=\"14.00\" fill=\"#000000\">[1, 89]</text>\n<text text-anchor=\"middle\" x=\"916.5\" y=\"-402.3\" font-family=\"Times,serif\" font-size=\"14.00\" fill=\"#000000\">[90, 0]]</text>\n</g>\n<!-- 1&#45;&gt;15 -->\n<g id=\"edge15\" class=\"edge\">\n<title>1&#45;&gt;15</title>\n<path fill=\"none\" stroke=\"#000000\" d=\"M916.5,-528.3642C916.5,-520.0802 916.5,-511.403 916.5,-502.8918\"/>\n<polygon fill=\"#000000\" stroke=\"#000000\" points=\"920.0001,-502.6298 916.5,-492.6298 913.0001,-502.6299 920.0001,-502.6298\"/>\n</g>\n<!-- 3 -->\n<g id=\"node4\" class=\"node\">\n<title>3</title>\n<polygon fill=\"#f3c7a7\" stroke=\"#000000\" points=\"325.5,-358.5 137.5,-358.5 137.5,-260.5 325.5,-260.5 325.5,-358.5\"/>\n<text text-anchor=\"middle\" x=\"231.5\" y=\"-343.3\" font-family=\"Times,serif\" font-size=\"14.00\" fill=\"#000000\">Total_Test_Results &lt;= &#45;0.628</text>\n<text text-anchor=\"middle\" x=\"231.5\" y=\"-328.3\" font-family=\"Times,serif\" font-size=\"14.00\" fill=\"#000000\">gini = 0.165</text>\n<text text-anchor=\"middle\" x=\"231.5\" y=\"-313.3\" font-family=\"Times,serif\" font-size=\"14.00\" fill=\"#000000\">samples = 40</text>\n<text text-anchor=\"middle\" x=\"231.5\" y=\"-298.3\" font-family=\"Times,serif\" font-size=\"14.00\" fill=\"#000000\">value = [[0, 40]</text>\n<text text-anchor=\"middle\" x=\"231.5\" y=\"-283.3\" font-family=\"Times,serif\" font-size=\"14.00\" fill=\"#000000\">[22, 18]</text>\n<text text-anchor=\"middle\" x=\"231.5\" y=\"-268.3\" font-family=\"Times,serif\" font-size=\"14.00\" fill=\"#000000\">[40, 0]]</text>\n</g>\n<!-- 2&#45;&gt;3 -->\n<g id=\"edge3\" class=\"edge\">\n<title>2&#45;&gt;3</title>\n<path fill=\"none\" stroke=\"#000000\" d=\"M598.2304,-415.4092C521.3955,-393.2198 414.389,-362.3171 335.7903,-339.6183\"/>\n<polygon fill=\"#000000\" stroke=\"#000000\" points=\"336.4444,-336.1642 325.8659,-336.7522 334.5021,-342.8894 336.4444,-336.1642\"/>\n</g>\n<!-- 8 -->\n<g id=\"node9\" class=\"node\">\n<title>8</title>\n<polygon fill=\"#eca572\" stroke=\"#000000\" points=\"772.5,-358.5 618.5,-358.5 618.5,-260.5 772.5,-260.5 772.5,-358.5\"/>\n<text text-anchor=\"middle\" x=\"695.5\" y=\"-343.3\" font-family=\"Times,serif\" font-size=\"14.00\" fill=\"#000000\">Testing_Rate &lt;= &#45;0.771</text>\n<text text-anchor=\"middle\" x=\"695.5\" y=\"-328.3\" font-family=\"Times,serif\" font-size=\"14.00\" fill=\"#000000\">gini = 0.085</text>\n<text text-anchor=\"middle\" x=\"695.5\" y=\"-313.3\" font-family=\"Times,serif\" font-size=\"14.00\" fill=\"#000000\">samples = 20</text>\n<text text-anchor=\"middle\" x=\"695.5\" y=\"-298.3\" font-family=\"Times,serif\" font-size=\"14.00\" fill=\"#000000\">value = [[0, 20]</text>\n<text text-anchor=\"middle\" x=\"695.5\" y=\"-283.3\" font-family=\"Times,serif\" font-size=\"14.00\" fill=\"#000000\">[3, 17]</text>\n<text text-anchor=\"middle\" x=\"695.5\" y=\"-268.3\" font-family=\"Times,serif\" font-size=\"14.00\" fill=\"#000000\">[20, 0]]</text>\n</g>\n<!-- 2&#45;&gt;8 -->\n<g id=\"edge8\" class=\"edge\">\n<title>2&#45;&gt;8</title>\n<path fill=\"none\" stroke=\"#000000\" d=\"M695.5,-394.3642C695.5,-386.0802 695.5,-377.403 695.5,-368.8918\"/>\n<polygon fill=\"#000000\" stroke=\"#000000\" points=\"699.0001,-368.6298 695.5,-358.6298 692.0001,-368.6299 699.0001,-368.6298\"/>\n</g>\n<!-- 4 -->\n<g id=\"node5\" class=\"node\">\n<title>4</title>\n<polygon fill=\"#e58139\" stroke=\"#000000\" points=\"99,-83 0,-83 0,0 99,0 99,-83\"/>\n<text text-anchor=\"middle\" x=\"49.5\" y=\"-67.8\" font-family=\"Times,serif\" font-size=\"14.00\" fill=\"#000000\">gini = 0.0</text>\n<text text-anchor=\"middle\" x=\"49.5\" y=\"-52.8\" font-family=\"Times,serif\" font-size=\"14.00\" fill=\"#000000\">samples = 6</text>\n<text text-anchor=\"middle\" x=\"49.5\" y=\"-37.8\" font-family=\"Times,serif\" font-size=\"14.00\" fill=\"#000000\">value = [[0, 6]</text>\n<text text-anchor=\"middle\" x=\"49.5\" y=\"-22.8\" font-family=\"Times,serif\" font-size=\"14.00\" fill=\"#000000\">[6, 0]</text>\n<text text-anchor=\"middle\" x=\"49.5\" y=\"-7.8\" font-family=\"Times,serif\" font-size=\"14.00\" fill=\"#000000\">[6, 0]]</text>\n</g>\n<!-- 3&#45;&gt;4 -->\n<g id=\"edge4\" class=\"edge\">\n<title>3&#45;&gt;4</title>\n<path fill=\"none\" stroke=\"#000000\" d=\"M171.8827,-260.3013C149.1048,-241.504 128.5,-224.5 128.5,-224.5 128.5,-224.5 94.8916,-146.6476 71.5166,-92.5004\"/>\n<polygon fill=\"#000000\" stroke=\"#000000\" points=\"74.6031,-90.8194 67.4263,-83.0255 68.1764,-93.5938 74.6031,-90.8194\"/>\n</g>\n<!-- 5 -->\n<g id=\"node6\" class=\"node\">\n<title>5</title>\n<polygon fill=\"#f4c8a8\" stroke=\"#000000\" points=\"325.5,-224.5 137.5,-224.5 137.5,-126.5 325.5,-126.5 325.5,-224.5\"/>\n<text text-anchor=\"middle\" x=\"231.5\" y=\"-209.3\" font-family=\"Times,serif\" font-size=\"14.00\" fill=\"#000000\">Total_Test_Results &lt;= &#45;0.542</text>\n<text text-anchor=\"middle\" x=\"231.5\" y=\"-194.3\" font-family=\"Times,serif\" font-size=\"14.00\" fill=\"#000000\">gini = 0.166</text>\n<text text-anchor=\"middle\" x=\"231.5\" y=\"-179.3\" font-family=\"Times,serif\" font-size=\"14.00\" fill=\"#000000\">samples = 34</text>\n<text text-anchor=\"middle\" x=\"231.5\" y=\"-164.3\" font-family=\"Times,serif\" font-size=\"14.00\" fill=\"#000000\">value = [[0, 34]</text>\n<text text-anchor=\"middle\" x=\"231.5\" y=\"-149.3\" font-family=\"Times,serif\" font-size=\"14.00\" fill=\"#000000\">[16, 18]</text>\n<text text-anchor=\"middle\" x=\"231.5\" y=\"-134.3\" font-family=\"Times,serif\" font-size=\"14.00\" fill=\"#000000\">[34, 0]]</text>\n</g>\n<!-- 3&#45;&gt;5 -->\n<g id=\"edge5\" class=\"edge\">\n<title>3&#45;&gt;5</title>\n<path fill=\"none\" stroke=\"#000000\" d=\"M231.5,-260.3642C231.5,-252.0802 231.5,-243.403 231.5,-234.8918\"/>\n<polygon fill=\"#000000\" stroke=\"#000000\" points=\"235.0001,-234.6298 231.5,-224.6298 228.0001,-234.6299 235.0001,-234.6298\"/>\n</g>\n<!-- 6 -->\n<g id=\"node7\" class=\"node\">\n<title>6</title>\n<polygon fill=\"#f3c6a5\" stroke=\"#000000\" points=\"224,-83 117,-83 117,0 224,0 224,-83\"/>\n<text text-anchor=\"middle\" x=\"170.5\" y=\"-67.8\" font-family=\"Times,serif\" font-size=\"14.00\" fill=\"#000000\">gini = 0.162</text>\n<text text-anchor=\"middle\" x=\"170.5\" y=\"-52.8\" font-family=\"Times,serif\" font-size=\"14.00\" fill=\"#000000\">samples = 31</text>\n<text text-anchor=\"middle\" x=\"170.5\" y=\"-37.8\" font-family=\"Times,serif\" font-size=\"14.00\" fill=\"#000000\">value = [[0, 31]</text>\n<text text-anchor=\"middle\" x=\"170.5\" y=\"-22.8\" font-family=\"Times,serif\" font-size=\"14.00\" fill=\"#000000\">[13, 18]</text>\n<text text-anchor=\"middle\" x=\"170.5\" y=\"-7.8\" font-family=\"Times,serif\" font-size=\"14.00\" fill=\"#000000\">[31, 0]]</text>\n</g>\n<!-- 5&#45;&gt;6 -->\n<g id=\"edge6\" class=\"edge\">\n<title>5&#45;&gt;6</title>\n<path fill=\"none\" stroke=\"#000000\" d=\"M209.1322,-126.3642C204.085,-115.2768 198.7172,-103.4852 193.6389,-92.3297\"/>\n<polygon fill=\"#000000\" stroke=\"#000000\" points=\"196.7833,-90.7894 189.4547,-83.1381 190.4124,-93.6896 196.7833,-90.7894\"/>\n</g>\n<!-- 7 -->\n<g id=\"node8\" class=\"node\">\n<title>7</title>\n<polygon fill=\"#e58139\" stroke=\"#000000\" points=\"341,-83 242,-83 242,0 341,0 341,-83\"/>\n<text text-anchor=\"middle\" x=\"291.5\" y=\"-67.8\" font-family=\"Times,serif\" font-size=\"14.00\" fill=\"#000000\">gini = 0.0</text>\n<text text-anchor=\"middle\" x=\"291.5\" y=\"-52.8\" font-family=\"Times,serif\" font-size=\"14.00\" fill=\"#000000\">samples = 3</text>\n<text text-anchor=\"middle\" x=\"291.5\" y=\"-37.8\" font-family=\"Times,serif\" font-size=\"14.00\" fill=\"#000000\">value = [[0, 3]</text>\n<text text-anchor=\"middle\" x=\"291.5\" y=\"-22.8\" font-family=\"Times,serif\" font-size=\"14.00\" fill=\"#000000\">[3, 0]</text>\n<text text-anchor=\"middle\" x=\"291.5\" y=\"-7.8\" font-family=\"Times,serif\" font-size=\"14.00\" fill=\"#000000\">[3, 0]]</text>\n</g>\n<!-- 5&#45;&gt;7 -->\n<g id=\"edge7\" class=\"edge\">\n<title>5&#45;&gt;7</title>\n<path fill=\"none\" stroke=\"#000000\" d=\"M253.5011,-126.3642C258.4656,-115.2768 263.7454,-103.4852 268.7404,-92.3297\"/>\n<polygon fill=\"#000000\" stroke=\"#000000\" points=\"271.9638,-93.6953 272.8561,-83.1381 265.575,-90.8346 271.9638,-93.6953\"/>\n</g>\n<!-- 9 -->\n<g id=\"node10\" class=\"node\">\n<title>9</title>\n<polygon fill=\"#f4c8a8\" stroke=\"#000000\" points=\"610.5,-224.5 416.5,-224.5 416.5,-126.5 610.5,-126.5 610.5,-224.5\"/>\n<text text-anchor=\"middle\" x=\"513.5\" y=\"-209.3\" font-family=\"Times,serif\" font-size=\"14.00\" fill=\"#000000\">Case_Fatality_Ratio &lt;= &#45;0.484</text>\n<text text-anchor=\"middle\" x=\"513.5\" y=\"-194.3\" font-family=\"Times,serif\" font-size=\"14.00\" fill=\"#000000\">gini = 0.167</text>\n<text text-anchor=\"middle\" x=\"513.5\" y=\"-179.3\" font-family=\"Times,serif\" font-size=\"14.00\" fill=\"#000000\">samples = 2</text>\n<text text-anchor=\"middle\" x=\"513.5\" y=\"-164.3\" font-family=\"Times,serif\" font-size=\"14.00\" fill=\"#000000\">value = [[0, 2]</text>\n<text text-anchor=\"middle\" x=\"513.5\" y=\"-149.3\" font-family=\"Times,serif\" font-size=\"14.00\" fill=\"#000000\">[1, 1]</text>\n<text text-anchor=\"middle\" x=\"513.5\" y=\"-134.3\" font-family=\"Times,serif\" font-size=\"14.00\" fill=\"#000000\">[2, 0]]</text>\n</g>\n<!-- 8&#45;&gt;9 -->\n<g id=\"edge9\" class=\"edge\">\n<title>8&#45;&gt;9</title>\n<path fill=\"none\" stroke=\"#000000\" d=\"M628.7634,-260.3642C615.6572,-250.7147 601.8267,-240.5317 588.4717,-230.699\"/>\n<polygon fill=\"#000000\" stroke=\"#000000\" points=\"590.3565,-227.7404 580.2286,-224.6298 586.2062,-233.3773 590.3565,-227.7404\"/>\n</g>\n<!-- 12 -->\n<g id=\"node13\" class=\"node\">\n<title>12</title>\n<polygon fill=\"#eb9d65\" stroke=\"#000000\" points=\"816.5,-224.5 628.5,-224.5 628.5,-126.5 816.5,-126.5 816.5,-224.5\"/>\n<text text-anchor=\"middle\" x=\"722.5\" y=\"-209.3\" font-family=\"Times,serif\" font-size=\"14.00\" fill=\"#000000\">Total_Test_Results &lt;= &#45;0.619</text>\n<text text-anchor=\"middle\" x=\"722.5\" y=\"-194.3\" font-family=\"Times,serif\" font-size=\"14.00\" fill=\"#000000\">gini = 0.066</text>\n<text text-anchor=\"middle\" x=\"722.5\" y=\"-179.3\" font-family=\"Times,serif\" font-size=\"14.00\" fill=\"#000000\">samples = 18</text>\n<text text-anchor=\"middle\" x=\"722.5\" y=\"-164.3\" font-family=\"Times,serif\" font-size=\"14.00\" fill=\"#000000\">value = [[0, 18]</text>\n<text text-anchor=\"middle\" x=\"722.5\" y=\"-149.3\" font-family=\"Times,serif\" font-size=\"14.00\" fill=\"#000000\">[2, 16]</text>\n<text text-anchor=\"middle\" x=\"722.5\" y=\"-134.3\" font-family=\"Times,serif\" font-size=\"14.00\" fill=\"#000000\">[18, 0]]</text>\n</g>\n<!-- 8&#45;&gt;12 -->\n<g id=\"edge12\" class=\"edge\">\n<title>8&#45;&gt;12</title>\n<path fill=\"none\" stroke=\"#000000\" d=\"M705.4005,-260.3642C707.088,-251.9891 708.8565,-243.2123 710.5895,-234.6113\"/>\n<polygon fill=\"#000000\" stroke=\"#000000\" points=\"714.0564,-235.1242 712.6007,-224.6298 707.1944,-233.7415 714.0564,-235.1242\"/>\n</g>\n<!-- 10 -->\n<g id=\"node11\" class=\"node\">\n<title>10</title>\n<polygon fill=\"#e58139\" stroke=\"#000000\" points=\"458,-83 359,-83 359,0 458,0 458,-83\"/>\n<text text-anchor=\"middle\" x=\"408.5\" y=\"-67.8\" font-family=\"Times,serif\" font-size=\"14.00\" fill=\"#000000\">gini = 0.0</text>\n<text text-anchor=\"middle\" x=\"408.5\" y=\"-52.8\" font-family=\"Times,serif\" font-size=\"14.00\" fill=\"#000000\">samples = 1</text>\n<text text-anchor=\"middle\" x=\"408.5\" y=\"-37.8\" font-family=\"Times,serif\" font-size=\"14.00\" fill=\"#000000\">value = [[0, 1]</text>\n<text text-anchor=\"middle\" x=\"408.5\" y=\"-22.8\" font-family=\"Times,serif\" font-size=\"14.00\" fill=\"#000000\">[1, 0]</text>\n<text text-anchor=\"middle\" x=\"408.5\" y=\"-7.8\" font-family=\"Times,serif\" font-size=\"14.00\" fill=\"#000000\">[1, 0]]</text>\n</g>\n<!-- 9&#45;&gt;10 -->\n<g id=\"edge10\" class=\"edge\">\n<title>9&#45;&gt;10</title>\n<path fill=\"none\" stroke=\"#000000\" d=\"M474.9981,-126.3642C466.0495,-114.9442 456.5156,-102.7771 447.5439,-91.3275\"/>\n<polygon fill=\"#000000\" stroke=\"#000000\" points=\"450.0497,-88.8507 441.1269,-83.1381 444.5398,-93.1682 450.0497,-88.8507\"/>\n</g>\n<!-- 11 -->\n<g id=\"node12\" class=\"node\">\n<title>11</title>\n<polygon fill=\"#e58139\" stroke=\"#000000\" points=\"575,-83 476,-83 476,0 575,0 575,-83\"/>\n<text text-anchor=\"middle\" x=\"525.5\" y=\"-67.8\" font-family=\"Times,serif\" font-size=\"14.00\" fill=\"#000000\">gini = 0.0</text>\n<text text-anchor=\"middle\" x=\"525.5\" y=\"-52.8\" font-family=\"Times,serif\" font-size=\"14.00\" fill=\"#000000\">samples = 1</text>\n<text text-anchor=\"middle\" x=\"525.5\" y=\"-37.8\" font-family=\"Times,serif\" font-size=\"14.00\" fill=\"#000000\">value = [[0, 1]</text>\n<text text-anchor=\"middle\" x=\"525.5\" y=\"-22.8\" font-family=\"Times,serif\" font-size=\"14.00\" fill=\"#000000\">[0, 1]</text>\n<text text-anchor=\"middle\" x=\"525.5\" y=\"-7.8\" font-family=\"Times,serif\" font-size=\"14.00\" fill=\"#000000\">[1, 0]]</text>\n</g>\n<!-- 9&#45;&gt;11 -->\n<g id=\"edge11\" class=\"edge\">\n<title>9&#45;&gt;11</title>\n<path fill=\"none\" stroke=\"#000000\" d=\"M517.9002,-126.3642C518.8633,-115.6094 519.8858,-104.1921 520.858,-93.3354\"/>\n<polygon fill=\"#000000\" stroke=\"#000000\" points=\"524.3652,-93.4105 521.7712,-83.1381 517.3931,-92.7861 524.3652,-93.4105\"/>\n</g>\n<!-- 13 -->\n<g id=\"node14\" class=\"node\">\n<title>13</title>\n<polygon fill=\"#e58139\" stroke=\"#000000\" points=\"699.5,-83 593.5,-83 593.5,0 699.5,0 699.5,-83\"/>\n<text text-anchor=\"middle\" x=\"646.5\" y=\"-67.8\" font-family=\"Times,serif\" font-size=\"14.00\" fill=\"#000000\">gini = 0.0</text>\n<text text-anchor=\"middle\" x=\"646.5\" y=\"-52.8\" font-family=\"Times,serif\" font-size=\"14.00\" fill=\"#000000\">samples = 11</text>\n<text text-anchor=\"middle\" x=\"646.5\" y=\"-37.8\" font-family=\"Times,serif\" font-size=\"14.00\" fill=\"#000000\">value = [[0, 11]</text>\n<text text-anchor=\"middle\" x=\"646.5\" y=\"-22.8\" font-family=\"Times,serif\" font-size=\"14.00\" fill=\"#000000\">[0, 11]</text>\n<text text-anchor=\"middle\" x=\"646.5\" y=\"-7.8\" font-family=\"Times,serif\" font-size=\"14.00\" fill=\"#000000\">[11, 0]]</text>\n</g>\n<!-- 12&#45;&gt;13 -->\n<g id=\"edge13\" class=\"edge\">\n<title>12&#45;&gt;13</title>\n<path fill=\"none\" stroke=\"#000000\" d=\"M694.632,-126.3642C688.2807,-115.1659 681.522,-103.2493 675.1391,-91.9953\"/>\n<polygon fill=\"#000000\" stroke=\"#000000\" points=\"678.0935,-90.1098 670.1157,-83.1381 672.0047,-93.5632 678.0935,-90.1098\"/>\n</g>\n<!-- 14 -->\n<g id=\"node15\" class=\"node\">\n<title>14</title>\n<polygon fill=\"#f1bb94\" stroke=\"#000000\" points=\"817,-83 718,-83 718,0 817,0 817,-83\"/>\n<text text-anchor=\"middle\" x=\"767.5\" y=\"-67.8\" font-family=\"Times,serif\" font-size=\"14.00\" fill=\"#000000\">gini = 0.136</text>\n<text text-anchor=\"middle\" x=\"767.5\" y=\"-52.8\" font-family=\"Times,serif\" font-size=\"14.00\" fill=\"#000000\">samples = 7</text>\n<text text-anchor=\"middle\" x=\"767.5\" y=\"-37.8\" font-family=\"Times,serif\" font-size=\"14.00\" fill=\"#000000\">value = [[0, 7]</text>\n<text text-anchor=\"middle\" x=\"767.5\" y=\"-22.8\" font-family=\"Times,serif\" font-size=\"14.00\" fill=\"#000000\">[2, 5]</text>\n<text text-anchor=\"middle\" x=\"767.5\" y=\"-7.8\" font-family=\"Times,serif\" font-size=\"14.00\" fill=\"#000000\">[7, 0]]</text>\n</g>\n<!-- 12&#45;&gt;14 -->\n<g id=\"edge14\" class=\"edge\">\n<title>12&#45;&gt;14</title>\n<path fill=\"none\" stroke=\"#000000\" d=\"M739.0008,-126.3642C742.687,-115.3877 746.6049,-103.721 750.3179,-92.6646\"/>\n<polygon fill=\"#000000\" stroke=\"#000000\" points=\"753.6514,-93.7321 753.517,-83.1381 747.0156,-91.5036 753.6514,-93.7321\"/>\n</g>\n<!-- 16 -->\n<g id=\"node17\" class=\"node\">\n<title>16</title>\n<polygon fill=\"#e58139\" stroke=\"#000000\" points=\"942,-83 835,-83 835,0 942,0 942,-83\"/>\n<text text-anchor=\"middle\" x=\"888.5\" y=\"-67.8\" font-family=\"Times,serif\" font-size=\"14.00\" fill=\"#000000\">gini = 0.0</text>\n<text text-anchor=\"middle\" x=\"888.5\" y=\"-52.8\" font-family=\"Times,serif\" font-size=\"14.00\" fill=\"#000000\">samples = 87</text>\n<text text-anchor=\"middle\" x=\"888.5\" y=\"-37.8\" font-family=\"Times,serif\" font-size=\"14.00\" fill=\"#000000\">value = [[0, 87]</text>\n<text text-anchor=\"middle\" x=\"888.5\" y=\"-22.8\" font-family=\"Times,serif\" font-size=\"14.00\" fill=\"#000000\">[0, 87]</text>\n<text text-anchor=\"middle\" x=\"888.5\" y=\"-7.8\" font-family=\"Times,serif\" font-size=\"14.00\" fill=\"#000000\">[87, 0]]</text>\n</g>\n<!-- 15&#45;&gt;16 -->\n<g id=\"edge16\" class=\"edge\">\n<title>15&#45;&gt;16</title>\n<path fill=\"none\" stroke=\"#000000\" d=\"M913.0667,-394.2069C907.7419,-317.7591 897.5417,-171.3123 892.1108,-93.3412\"/>\n<polygon fill=\"#000000\" stroke=\"#000000\" points=\"895.5955,-92.9982 891.409,-83.2656 888.6124,-93.4847 895.5955,-92.9982\"/>\n</g>\n<!-- 17 -->\n<g id=\"node18\" class=\"node\">\n<title>17</title>\n<polygon fill=\"#ffffff\" stroke=\"#000000\" points=\"1068.5,-358.5 950.5,-358.5 950.5,-260.5 1068.5,-260.5 1068.5,-358.5\"/>\n<text text-anchor=\"middle\" x=\"1009.5\" y=\"-343.3\" font-family=\"Times,serif\" font-size=\"14.00\" fill=\"#000000\">Long_ &lt;= &#45;1.426</text>\n<text text-anchor=\"middle\" x=\"1009.5\" y=\"-328.3\" font-family=\"Times,serif\" font-size=\"14.00\" fill=\"#000000\">gini = 0.296</text>\n<text text-anchor=\"middle\" x=\"1009.5\" y=\"-313.3\" font-family=\"Times,serif\" font-size=\"14.00\" fill=\"#000000\">samples = 3</text>\n<text text-anchor=\"middle\" x=\"1009.5\" y=\"-298.3\" font-family=\"Times,serif\" font-size=\"14.00\" fill=\"#000000\">value = [[1, 2]</text>\n<text text-anchor=\"middle\" x=\"1009.5\" y=\"-283.3\" font-family=\"Times,serif\" font-size=\"14.00\" fill=\"#000000\">[1, 2]</text>\n<text text-anchor=\"middle\" x=\"1009.5\" y=\"-268.3\" font-family=\"Times,serif\" font-size=\"14.00\" fill=\"#000000\">[3, 0]]</text>\n</g>\n<!-- 15&#45;&gt;17 -->\n<g id=\"edge17\" class=\"edge\">\n<title>15&#45;&gt;17</title>\n<path fill=\"none\" stroke=\"#000000\" d=\"M950.6017,-394.3642C956.7933,-385.4429 963.3014,-376.0657 969.6413,-366.9309\"/>\n<polygon fill=\"#000000\" stroke=\"#000000\" points=\"972.5761,-368.8407 975.4024,-358.6298 966.8254,-364.8495 972.5761,-368.8407\"/>\n</g>\n<!-- 18 -->\n<g id=\"node19\" class=\"node\">\n<title>18</title>\n<polygon fill=\"#e58139\" stroke=\"#000000\" points=\"1059,-83 960,-83 960,0 1059,0 1059,-83\"/>\n<text text-anchor=\"middle\" x=\"1009.5\" y=\"-67.8\" font-family=\"Times,serif\" font-size=\"14.00\" fill=\"#000000\">gini = 0.0</text>\n<text text-anchor=\"middle\" x=\"1009.5\" y=\"-52.8\" font-family=\"Times,serif\" font-size=\"14.00\" fill=\"#000000\">samples = 1</text>\n<text text-anchor=\"middle\" x=\"1009.5\" y=\"-37.8\" font-family=\"Times,serif\" font-size=\"14.00\" fill=\"#000000\">value = [[1, 0]</text>\n<text text-anchor=\"middle\" x=\"1009.5\" y=\"-22.8\" font-family=\"Times,serif\" font-size=\"14.00\" fill=\"#000000\">[1, 0]</text>\n<text text-anchor=\"middle\" x=\"1009.5\" y=\"-7.8\" font-family=\"Times,serif\" font-size=\"14.00\" fill=\"#000000\">[1, 0]]</text>\n</g>\n<!-- 17&#45;&gt;18 -->\n<g id=\"edge18\" class=\"edge\">\n<title>17&#45;&gt;18</title>\n<path fill=\"none\" stroke=\"#000000\" d=\"M1009.5,-260.3447C1009.5,-213.0419 1009.5,-141.7765 1009.5,-93.5311\"/>\n<polygon fill=\"#000000\" stroke=\"#000000\" points=\"1013.0001,-93.3014 1009.5,-83.3014 1006.0001,-93.3014 1013.0001,-93.3014\"/>\n</g>\n<!-- 19 -->\n<g id=\"node20\" class=\"node\">\n<title>19</title>\n<polygon fill=\"#e58139\" stroke=\"#000000\" points=\"1176,-83 1077,-83 1077,0 1176,0 1176,-83\"/>\n<text text-anchor=\"middle\" x=\"1126.5\" y=\"-67.8\" font-family=\"Times,serif\" font-size=\"14.00\" fill=\"#000000\">gini = 0.0</text>\n<text text-anchor=\"middle\" x=\"1126.5\" y=\"-52.8\" font-family=\"Times,serif\" font-size=\"14.00\" fill=\"#000000\">samples = 2</text>\n<text text-anchor=\"middle\" x=\"1126.5\" y=\"-37.8\" font-family=\"Times,serif\" font-size=\"14.00\" fill=\"#000000\">value = [[0, 2]</text>\n<text text-anchor=\"middle\" x=\"1126.5\" y=\"-22.8\" font-family=\"Times,serif\" font-size=\"14.00\" fill=\"#000000\">[0, 2]</text>\n<text text-anchor=\"middle\" x=\"1126.5\" y=\"-7.8\" font-family=\"Times,serif\" font-size=\"14.00\" fill=\"#000000\">[2, 0]]</text>\n</g>\n<!-- 17&#45;&gt;19 -->\n<g id=\"edge19\" class=\"edge\">\n<title>17&#45;&gt;19</title>\n<path fill=\"none\" stroke=\"#000000\" d=\"M1030.9596,-260.3447C1051.7403,-212.7444 1083.1143,-140.8791 1104.1811,-92.6236\"/>\n<polygon fill=\"#000000\" stroke=\"#000000\" points=\"1107.4575,-93.8665 1108.2509,-83.3014 1101.0422,-91.0658 1107.4575,-93.8665\"/>\n</g>\n<!-- 21 -->\n<g id=\"node22\" class=\"node\">\n<title>21</title>\n<polygon fill=\"#efb287\" stroke=\"#000000\" points=\"1427.5,-492.5 1311.5,-492.5 1311.5,-394.5 1427.5,-394.5 1427.5,-492.5\"/>\n<text text-anchor=\"middle\" x=\"1369.5\" y=\"-477.3\" font-family=\"Times,serif\" font-size=\"14.00\" fill=\"#000000\">Active &lt;= &#45;0.455</text>\n<text text-anchor=\"middle\" x=\"1369.5\" y=\"-462.3\" font-family=\"Times,serif\" font-size=\"14.00\" fill=\"#000000\">gini = 0.116</text>\n<text text-anchor=\"middle\" x=\"1369.5\" y=\"-447.3\" font-family=\"Times,serif\" font-size=\"14.00\" fill=\"#000000\">samples = 150</text>\n<text text-anchor=\"middle\" x=\"1369.5\" y=\"-432.3\" font-family=\"Times,serif\" font-size=\"14.00\" fill=\"#000000\">value = [[7, 143]</text>\n<text text-anchor=\"middle\" x=\"1369.5\" y=\"-417.3\" font-family=\"Times,serif\" font-size=\"14.00\" fill=\"#000000\">[9, 141]</text>\n<text text-anchor=\"middle\" x=\"1369.5\" y=\"-402.3\" font-family=\"Times,serif\" font-size=\"14.00\" fill=\"#000000\">[138, 12]]</text>\n</g>\n<!-- 20&#45;&gt;21 -->\n<g id=\"edge21\" class=\"edge\">\n<title>20&#45;&gt;21</title>\n<path fill=\"none\" stroke=\"#000000\" d=\"M1369.5,-528.3642C1369.5,-520.0802 1369.5,-511.403 1369.5,-502.8918\"/>\n<polygon fill=\"#000000\" stroke=\"#000000\" points=\"1373.0001,-502.6298 1369.5,-492.6298 1366.0001,-502.6299 1373.0001,-502.6298\"/>\n</g>\n<!-- 28 -->\n<g id=\"node29\" class=\"node\">\n<title>28</title>\n<polygon fill=\"#f6d3ba\" stroke=\"#000000\" points=\"2008,-492.5 1877,-492.5 1877,-394.5 2008,-394.5 2008,-492.5\"/>\n<text text-anchor=\"middle\" x=\"1942.5\" y=\"-477.3\" font-family=\"Times,serif\" font-size=\"14.00\" fill=\"#000000\">SexRatio &lt;= &#45;0.702</text>\n<text text-anchor=\"middle\" x=\"1942.5\" y=\"-462.3\" font-family=\"Times,serif\" font-size=\"14.00\" fill=\"#000000\">gini = 0.193</text>\n<text text-anchor=\"middle\" x=\"1942.5\" y=\"-447.3\" font-family=\"Times,serif\" font-size=\"14.00\" fill=\"#000000\">samples = 1080</text>\n<text text-anchor=\"middle\" x=\"1942.5\" y=\"-432.3\" font-family=\"Times,serif\" font-size=\"14.00\" fill=\"#000000\">value = [[43, 1037]</text>\n<text text-anchor=\"middle\" x=\"1942.5\" y=\"-417.3\" font-family=\"Times,serif\" font-size=\"14.00\" fill=\"#000000\">[101, 979]</text>\n<text text-anchor=\"middle\" x=\"1942.5\" y=\"-402.3\" font-family=\"Times,serif\" font-size=\"14.00\" fill=\"#000000\">[228, 852]]</text>\n</g>\n<!-- 20&#45;&gt;28 -->\n<g id=\"edge28\" class=\"edge\">\n<title>20&#45;&gt;28</title>\n<path fill=\"none\" stroke=\"#000000\" d=\"M1433.5625,-562.5185C1540.0093,-537.6252 1752.8337,-487.8548 1866.6234,-461.2443\"/>\n<polygon fill=\"#000000\" stroke=\"#000000\" points=\"1867.7098,-464.5847 1876.6501,-458.8995 1866.1158,-457.7686 1867.7098,-464.5847\"/>\n</g>\n<!-- 22 -->\n<g id=\"node23\" class=\"node\">\n<title>22</title>\n<polygon fill=\"#e58139\" stroke=\"#000000\" points=\"1293,-83 1194,-83 1194,0 1293,0 1293,-83\"/>\n<text text-anchor=\"middle\" x=\"1243.5\" y=\"-67.8\" font-family=\"Times,serif\" font-size=\"14.00\" fill=\"#000000\">gini = 0.0</text>\n<text text-anchor=\"middle\" x=\"1243.5\" y=\"-52.8\" font-family=\"Times,serif\" font-size=\"14.00\" fill=\"#000000\">samples = 3</text>\n<text text-anchor=\"middle\" x=\"1243.5\" y=\"-37.8\" font-family=\"Times,serif\" font-size=\"14.00\" fill=\"#000000\">value = [[0, 3]</text>\n<text text-anchor=\"middle\" x=\"1243.5\" y=\"-22.8\" font-family=\"Times,serif\" font-size=\"14.00\" fill=\"#000000\">[0, 3]</text>\n<text text-anchor=\"middle\" x=\"1243.5\" y=\"-7.8\" font-family=\"Times,serif\" font-size=\"14.00\" fill=\"#000000\">[0, 3]]</text>\n</g>\n<!-- 21&#45;&gt;22 -->\n<g id=\"edge22\" class=\"edge\">\n<title>21&#45;&gt;22</title>\n<path fill=\"none\" stroke=\"#000000\" d=\"M1345.6501,-394.0551C1336.6304,-375.3558 1328.5,-358.5 1328.5,-358.5 1328.5,-358.5 1281.3799,-182.7697 1257.3062,-92.989\"/>\n<polygon fill=\"#000000\" stroke=\"#000000\" points=\"1260.6702,-92.0205 1254.6997,-83.2682 1253.9091,-93.8335 1260.6702,-92.0205\"/>\n</g>\n<!-- 23 -->\n<g id=\"node24\" class=\"node\">\n<title>23</title>\n<polygon fill=\"#eeae80\" stroke=\"#000000\" points=\"1527,-358.5 1338,-358.5 1338,-260.5 1527,-260.5 1527,-358.5\"/>\n<text text-anchor=\"middle\" x=\"1432.5\" y=\"-343.3\" font-family=\"Times,serif\" font-size=\"14.00\" fill=\"#000000\">Case_Fatality_Ratio &lt;= 1.116</text>\n<text text-anchor=\"middle\" x=\"1432.5\" y=\"-328.3\" font-family=\"Times,serif\" font-size=\"14.00\" fill=\"#000000\">gini = 0.107</text>\n<text text-anchor=\"middle\" x=\"1432.5\" y=\"-313.3\" font-family=\"Times,serif\" font-size=\"14.00\" fill=\"#000000\">samples = 147</text>\n<text text-anchor=\"middle\" x=\"1432.5\" y=\"-298.3\" font-family=\"Times,serif\" font-size=\"14.00\" fill=\"#000000\">value = [[7, 140]</text>\n<text text-anchor=\"middle\" x=\"1432.5\" y=\"-283.3\" font-family=\"Times,serif\" font-size=\"14.00\" fill=\"#000000\">[9, 138]</text>\n<text text-anchor=\"middle\" x=\"1432.5\" y=\"-268.3\" font-family=\"Times,serif\" font-size=\"14.00\" fill=\"#000000\">[138, 9]]</text>\n</g>\n<!-- 21&#45;&gt;23 -->\n<g id=\"edge23\" class=\"edge\">\n<title>21&#45;&gt;23</title>\n<path fill=\"none\" stroke=\"#000000\" d=\"M1392.6011,-394.3642C1396.6671,-385.716 1400.9344,-376.6394 1405.1042,-367.7704\"/>\n<polygon fill=\"#000000\" stroke=\"#000000\" points=\"1408.3143,-369.1687 1409.4016,-358.6298 1401.9795,-366.1904 1408.3143,-369.1687\"/>\n</g>\n<!-- 24 -->\n<g id=\"node25\" class=\"node\">\n<title>24</title>\n<polygon fill=\"#eeab7b\" stroke=\"#000000\" points=\"1507,-224.5 1358,-224.5 1358,-126.5 1507,-126.5 1507,-224.5\"/>\n<text text-anchor=\"middle\" x=\"1432.5\" y=\"-209.3\" font-family=\"Times,serif\" font-size=\"14.00\" fill=\"#000000\">Testing_Rate &lt;= 0.029</text>\n<text text-anchor=\"middle\" x=\"1432.5\" y=\"-194.3\" font-family=\"Times,serif\" font-size=\"14.00\" fill=\"#000000\">gini = 0.099</text>\n<text text-anchor=\"middle\" x=\"1432.5\" y=\"-179.3\" font-family=\"Times,serif\" font-size=\"14.00\" fill=\"#000000\">samples = 146</text>\n<text text-anchor=\"middle\" x=\"1432.5\" y=\"-164.3\" font-family=\"Times,serif\" font-size=\"14.00\" fill=\"#000000\">value = [[6, 140]</text>\n<text text-anchor=\"middle\" x=\"1432.5\" y=\"-149.3\" font-family=\"Times,serif\" font-size=\"14.00\" fill=\"#000000\">[8, 138]</text>\n<text text-anchor=\"middle\" x=\"1432.5\" y=\"-134.3\" font-family=\"Times,serif\" font-size=\"14.00\" fill=\"#000000\">[137, 9]]</text>\n</g>\n<!-- 23&#45;&gt;24 -->\n<g id=\"edge24\" class=\"edge\">\n<title>23&#45;&gt;24</title>\n<path fill=\"none\" stroke=\"#000000\" d=\"M1432.5,-260.3642C1432.5,-252.0802 1432.5,-243.403 1432.5,-234.8918\"/>\n<polygon fill=\"#000000\" stroke=\"#000000\" points=\"1436.0001,-234.6298 1432.5,-224.6298 1429.0001,-234.6299 1436.0001,-234.6298\"/>\n</g>\n<!-- 27 -->\n<g id=\"node28\" class=\"node\">\n<title>27</title>\n<polygon fill=\"#e58139\" stroke=\"#000000\" points=\"1666,-83 1567,-83 1567,0 1666,0 1666,-83\"/>\n<text text-anchor=\"middle\" x=\"1616.5\" y=\"-67.8\" font-family=\"Times,serif\" font-size=\"14.00\" fill=\"#000000\">gini = 0.0</text>\n<text text-anchor=\"middle\" x=\"1616.5\" y=\"-52.8\" font-family=\"Times,serif\" font-size=\"14.00\" fill=\"#000000\">samples = 1</text>\n<text text-anchor=\"middle\" x=\"1616.5\" y=\"-37.8\" font-family=\"Times,serif\" font-size=\"14.00\" fill=\"#000000\">value = [[1, 0]</text>\n<text text-anchor=\"middle\" x=\"1616.5\" y=\"-22.8\" font-family=\"Times,serif\" font-size=\"14.00\" fill=\"#000000\">[1, 0]</text>\n<text text-anchor=\"middle\" x=\"1616.5\" y=\"-7.8\" font-family=\"Times,serif\" font-size=\"14.00\" fill=\"#000000\">[1, 0]]</text>\n</g>\n<!-- 23&#45;&gt;27 -->\n<g id=\"edge27\" class=\"edge\">\n<title>23&#45;&gt;27</title>\n<path fill=\"none\" stroke=\"#000000\" d=\"M1480.7814,-260.0551C1499.0408,-241.3558 1515.5,-224.5 1515.5,-224.5 1515.5,-224.5 1558.8243,-146.0015 1588.7228,-91.829\"/>\n<polygon fill=\"#000000\" stroke=\"#000000\" points=\"1591.8137,-93.4719 1593.5815,-83.0255 1585.6852,-90.0894 1591.8137,-93.4719\"/>\n</g>\n<!-- 25 -->\n<g id=\"node26\" class=\"node\">\n<title>25</title>\n<polygon fill=\"#ea985d\" stroke=\"#000000\" points=\"1424,-83 1311,-83 1311,0 1424,0 1424,-83\"/>\n<text text-anchor=\"middle\" x=\"1367.5\" y=\"-67.8\" font-family=\"Times,serif\" font-size=\"14.00\" fill=\"#000000\">gini = 0.054</text>\n<text text-anchor=\"middle\" x=\"1367.5\" y=\"-52.8\" font-family=\"Times,serif\" font-size=\"14.00\" fill=\"#000000\">samples = 120</text>\n<text text-anchor=\"middle\" x=\"1367.5\" y=\"-37.8\" font-family=\"Times,serif\" font-size=\"14.00\" fill=\"#000000\">value = [[2, 118]</text>\n<text text-anchor=\"middle\" x=\"1367.5\" y=\"-22.8\" font-family=\"Times,serif\" font-size=\"14.00\" fill=\"#000000\">[3, 117]</text>\n<text text-anchor=\"middle\" x=\"1367.5\" y=\"-7.8\" font-family=\"Times,serif\" font-size=\"14.00\" fill=\"#000000\">[115, 5]]</text>\n</g>\n<!-- 24&#45;&gt;25 -->\n<g id=\"edge25\" class=\"edge\">\n<title>24&#45;&gt;25</title>\n<path fill=\"none\" stroke=\"#000000\" d=\"M1408.6655,-126.3642C1403.2872,-115.2768 1397.5675,-103.4852 1392.1562,-92.3297\"/>\n<polygon fill=\"#000000\" stroke=\"#000000\" points=\"1395.2111,-90.6079 1387.6976,-83.1381 1388.913,-93.663 1395.2111,-90.6079\"/>\n</g>\n<!-- 26 -->\n<g id=\"node27\" class=\"node\">\n<title>26</title>\n<polygon fill=\"#fdf7f2\" stroke=\"#000000\" points=\"1549,-83 1442,-83 1442,0 1549,0 1549,-83\"/>\n<text text-anchor=\"middle\" x=\"1495.5\" y=\"-67.8\" font-family=\"Times,serif\" font-size=\"14.00\" fill=\"#000000\">gini = 0.277</text>\n<text text-anchor=\"middle\" x=\"1495.5\" y=\"-52.8\" font-family=\"Times,serif\" font-size=\"14.00\" fill=\"#000000\">samples = 26</text>\n<text text-anchor=\"middle\" x=\"1495.5\" y=\"-37.8\" font-family=\"Times,serif\" font-size=\"14.00\" fill=\"#000000\">value = [[4, 22]</text>\n<text text-anchor=\"middle\" x=\"1495.5\" y=\"-22.8\" font-family=\"Times,serif\" font-size=\"14.00\" fill=\"#000000\">[5, 21]</text>\n<text text-anchor=\"middle\" x=\"1495.5\" y=\"-7.8\" font-family=\"Times,serif\" font-size=\"14.00\" fill=\"#000000\">[22, 4]]</text>\n</g>\n<!-- 24&#45;&gt;26 -->\n<g id=\"edge26\" class=\"edge\">\n<title>24&#45;&gt;26</title>\n<path fill=\"none\" stroke=\"#000000\" d=\"M1455.6011,-126.3642C1460.8139,-115.2768 1466.3577,-103.4852 1471.6024,-92.3297\"/>\n<polygon fill=\"#000000\" stroke=\"#000000\" points=\"1474.8365,-93.677 1475.9239,-83.1381 1468.5017,-90.6987 1474.8365,-93.677\"/>\n</g>\n<!-- 29 -->\n<g id=\"node30\" class=\"node\">\n<title>29</title>\n<polygon fill=\"#fae9dc\" stroke=\"#000000\" points=\"2003.5,-358.5 1881.5,-358.5 1881.5,-260.5 2003.5,-260.5 2003.5,-358.5\"/>\n<text text-anchor=\"middle\" x=\"1942.5\" y=\"-343.3\" font-family=\"Times,serif\" font-size=\"14.00\" fill=\"#000000\">Active &lt;= &#45;0.055</text>\n<text text-anchor=\"middle\" x=\"1942.5\" y=\"-328.3\" font-family=\"Times,serif\" font-size=\"14.00\" fill=\"#000000\">gini = 0.245</text>\n<text text-anchor=\"middle\" x=\"1942.5\" y=\"-313.3\" font-family=\"Times,serif\" font-size=\"14.00\" fill=\"#000000\">samples = 270</text>\n<text text-anchor=\"middle\" x=\"1942.5\" y=\"-298.3\" font-family=\"Times,serif\" font-size=\"14.00\" fill=\"#000000\">value = [[21, 249]</text>\n<text text-anchor=\"middle\" x=\"1942.5\" y=\"-283.3\" font-family=\"Times,serif\" font-size=\"14.00\" fill=\"#000000\">[13, 257]</text>\n<text text-anchor=\"middle\" x=\"1942.5\" y=\"-268.3\" font-family=\"Times,serif\" font-size=\"14.00\" fill=\"#000000\">[128, 142]]</text>\n</g>\n<!-- 28&#45;&gt;29 -->\n<g id=\"edge29\" class=\"edge\">\n<title>28&#45;&gt;29</title>\n<path fill=\"none\" stroke=\"#000000\" d=\"M1942.5,-394.3642C1942.5,-386.0802 1942.5,-377.403 1942.5,-368.8918\"/>\n<polygon fill=\"#000000\" stroke=\"#000000\" points=\"1946.0001,-368.6298 1942.5,-358.6298 1939.0001,-368.6299 1946.0001,-368.6298\"/>\n</g>\n<!-- 36 -->\n<g id=\"node37\" class=\"node\">\n<title>36</title>\n<polygon fill=\"#f3c3a0\" stroke=\"#000000\" points=\"2433.5,-358.5 2159.5,-358.5 2159.5,-260.5 2433.5,-260.5 2433.5,-358.5\"/>\n<text text-anchor=\"middle\" x=\"2296.5\" y=\"-343.3\" font-family=\"Times,serif\" font-size=\"14.00\" fill=\"#000000\">Resident Population 2020 Census &lt;= &#45;0.764</text>\n<text text-anchor=\"middle\" x=\"2296.5\" y=\"-328.3\" font-family=\"Times,serif\" font-size=\"14.00\" fill=\"#000000\">gini = 0.154</text>\n<text text-anchor=\"middle\" x=\"2296.5\" y=\"-313.3\" font-family=\"Times,serif\" font-size=\"14.00\" fill=\"#000000\">samples = 810</text>\n<text text-anchor=\"middle\" x=\"2296.5\" y=\"-298.3\" font-family=\"Times,serif\" font-size=\"14.00\" fill=\"#000000\">value = [[22, 788]</text>\n<text text-anchor=\"middle\" x=\"2296.5\" y=\"-283.3\" font-family=\"Times,serif\" font-size=\"14.00\" fill=\"#000000\">[88, 722]</text>\n<text text-anchor=\"middle\" x=\"2296.5\" y=\"-268.3\" font-family=\"Times,serif\" font-size=\"14.00\" fill=\"#000000\">[100, 710]]</text>\n</g>\n<!-- 28&#45;&gt;36 -->\n<g id=\"edge36\" class=\"edge\">\n<title>28&#45;&gt;36</title>\n<path fill=\"none\" stroke=\"#000000\" d=\"M2008.2551,-418.6097C2050.1371,-402.756 2105.9938,-381.6125 2157.3812,-362.1608\"/>\n<polygon fill=\"#000000\" stroke=\"#000000\" points=\"2158.8066,-365.3636 2166.9199,-358.5501 2156.3285,-358.817 2158.8066,-365.3636\"/>\n</g>\n<!-- 30 -->\n<g id=\"node31\" class=\"node\">\n<title>30</title>\n<polygon fill=\"#fbe9dd\" stroke=\"#000000\" points=\"1927.5,-224.5 1805.5,-224.5 1805.5,-126.5 1927.5,-126.5 1927.5,-224.5\"/>\n<text text-anchor=\"middle\" x=\"1866.5\" y=\"-209.3\" font-family=\"Times,serif\" font-size=\"14.00\" fill=\"#000000\">State ID &lt;= 0.81</text>\n<text text-anchor=\"middle\" x=\"1866.5\" y=\"-194.3\" font-family=\"Times,serif\" font-size=\"14.00\" fill=\"#000000\">gini = 0.245</text>\n<text text-anchor=\"middle\" x=\"1866.5\" y=\"-179.3\" font-family=\"Times,serif\" font-size=\"14.00\" fill=\"#000000\">samples = 177</text>\n<text text-anchor=\"middle\" x=\"1866.5\" y=\"-164.3\" font-family=\"Times,serif\" font-size=\"14.00\" fill=\"#000000\">value = [[21, 156]</text>\n<text text-anchor=\"middle\" x=\"1866.5\" y=\"-149.3\" font-family=\"Times,serif\" font-size=\"14.00\" fill=\"#000000\">[10, 167]</text>\n<text text-anchor=\"middle\" x=\"1866.5\" y=\"-134.3\" font-family=\"Times,serif\" font-size=\"14.00\" fill=\"#000000\">[124, 53]]</text>\n</g>\n<!-- 29&#45;&gt;30 -->\n<g id=\"edge30\" class=\"edge\">\n<title>29&#45;&gt;30</title>\n<path fill=\"none\" stroke=\"#000000\" d=\"M1914.632,-260.3642C1909.6754,-251.625 1904.4707,-242.4483 1899.3901,-233.4904\"/>\n<polygon fill=\"#000000\" stroke=\"#000000\" points=\"1902.3426,-231.6015 1894.3647,-224.6298 1896.2537,-235.0549 1902.3426,-231.6015\"/>\n</g>\n<!-- 33 -->\n<g id=\"node34\" class=\"node\">\n<title>33</title>\n<polygon fill=\"#e99659\" stroke=\"#000000\" points=\"2093.5,-224.5 1945.5,-224.5 1945.5,-126.5 2093.5,-126.5 2093.5,-224.5\"/>\n<text text-anchor=\"middle\" x=\"2019.5\" y=\"-209.3\" font-family=\"Times,serif\" font-size=\"14.00\" fill=\"#000000\">Testing_Rate &lt;= 0.111</text>\n<text text-anchor=\"middle\" x=\"2019.5\" y=\"-194.3\" font-family=\"Times,serif\" font-size=\"14.00\" fill=\"#000000\">gini = 0.048</text>\n<text text-anchor=\"middle\" x=\"2019.5\" y=\"-179.3\" font-family=\"Times,serif\" font-size=\"14.00\" fill=\"#000000\">samples = 93</text>\n<text text-anchor=\"middle\" x=\"2019.5\" y=\"-164.3\" font-family=\"Times,serif\" font-size=\"14.00\" fill=\"#000000\">value = [[0, 93]</text>\n<text text-anchor=\"middle\" x=\"2019.5\" y=\"-149.3\" font-family=\"Times,serif\" font-size=\"14.00\" fill=\"#000000\">[3, 90]</text>\n<text text-anchor=\"middle\" x=\"2019.5\" y=\"-134.3\" font-family=\"Times,serif\" font-size=\"14.00\" fill=\"#000000\">[4, 89]]</text>\n</g>\n<!-- 29&#45;&gt;33 -->\n<g id=\"edge33\" class=\"edge\">\n<title>29&#45;&gt;33</title>\n<path fill=\"none\" stroke=\"#000000\" d=\"M1970.7347,-260.3642C1975.7565,-251.625 1981.0297,-242.4483 1986.1771,-233.4904\"/>\n<polygon fill=\"#000000\" stroke=\"#000000\" points=\"1989.321,-235.0441 1991.2687,-224.6298 1983.2517,-231.5565 1989.321,-235.0441\"/>\n</g>\n<!-- 31 -->\n<g id=\"node32\" class=\"node\">\n<title>31</title>\n<polygon fill=\"#f2be99\" stroke=\"#000000\" points=\"1805,-83 1684,-83 1684,0 1805,0 1805,-83\"/>\n<text text-anchor=\"middle\" x=\"1744.5\" y=\"-67.8\" font-family=\"Times,serif\" font-size=\"14.00\" fill=\"#000000\">gini = 0.143</text>\n<text text-anchor=\"middle\" x=\"1744.5\" y=\"-52.8\" font-family=\"Times,serif\" font-size=\"14.00\" fill=\"#000000\">samples = 120</text>\n<text text-anchor=\"middle\" x=\"1744.5\" y=\"-37.8\" font-family=\"Times,serif\" font-size=\"14.00\" fill=\"#000000\">value = [[10, 110]</text>\n<text text-anchor=\"middle\" x=\"1744.5\" y=\"-22.8\" font-family=\"Times,serif\" font-size=\"14.00\" fill=\"#000000\">[10, 110]</text>\n<text text-anchor=\"middle\" x=\"1744.5\" y=\"-7.8\" font-family=\"Times,serif\" font-size=\"14.00\" fill=\"#000000\">[112, 8]]</text>\n</g>\n<!-- 30&#45;&gt;31 -->\n<g id=\"edge31\" class=\"edge\">\n<title>30&#45;&gt;31</title>\n<path fill=\"none\" stroke=\"#000000\" d=\"M1821.7645,-126.3642C1811.1652,-114.7224 1799.8591,-102.3043 1789.2588,-90.6613\"/>\n<polygon fill=\"#000000\" stroke=\"#000000\" points=\"1791.7297,-88.1763 1782.4093,-83.1381 1786.5535,-92.8889 1791.7297,-88.1763\"/>\n</g>\n<!-- 32 -->\n<g id=\"node33\" class=\"node\">\n<title>32</title>\n<polygon fill=\"#f8dcc8\" stroke=\"#000000\" points=\"1936,-83 1823,-83 1823,0 1936,0 1936,-83\"/>\n<text text-anchor=\"middle\" x=\"1879.5\" y=\"-67.8\" font-family=\"Times,serif\" font-size=\"14.00\" fill=\"#000000\">gini = 0.215</text>\n<text text-anchor=\"middle\" x=\"1879.5\" y=\"-52.8\" font-family=\"Times,serif\" font-size=\"14.00\" fill=\"#000000\">samples = 57</text>\n<text text-anchor=\"middle\" x=\"1879.5\" y=\"-37.8\" font-family=\"Times,serif\" font-size=\"14.00\" fill=\"#000000\">value = [[11, 46]</text>\n<text text-anchor=\"middle\" x=\"1879.5\" y=\"-22.8\" font-family=\"Times,serif\" font-size=\"14.00\" fill=\"#000000\">[0, 57]</text>\n<text text-anchor=\"middle\" x=\"1879.5\" y=\"-7.8\" font-family=\"Times,serif\" font-size=\"14.00\" fill=\"#000000\">[12, 45]]</text>\n</g>\n<!-- 30&#45;&gt;32 -->\n<g id=\"edge32\" class=\"edge\">\n<title>30&#45;&gt;32</title>\n<path fill=\"none\" stroke=\"#000000\" d=\"M1871.2669,-126.3642C1872.3103,-115.6094 1873.4179,-104.1921 1874.4712,-93.3354\"/>\n<polygon fill=\"#000000\" stroke=\"#000000\" points=\"1877.9784,-93.4294 1875.4605,-83.1381 1871.0111,-92.7534 1877.9784,-93.4294\"/>\n</g>\n<!-- 34 -->\n<g id=\"node35\" class=\"node\">\n<title>34</title>\n<polygon fill=\"#eeaa7a\" stroke=\"#000000\" points=\"2061,-83 1954,-83 1954,0 2061,0 2061,-83\"/>\n<text text-anchor=\"middle\" x=\"2007.5\" y=\"-67.8\" font-family=\"Times,serif\" font-size=\"14.00\" fill=\"#000000\">gini = 0.097</text>\n<text text-anchor=\"middle\" x=\"2007.5\" y=\"-52.8\" font-family=\"Times,serif\" font-size=\"14.00\" fill=\"#000000\">samples = 17</text>\n<text text-anchor=\"middle\" x=\"2007.5\" y=\"-37.8\" font-family=\"Times,serif\" font-size=\"14.00\" fill=\"#000000\">value = [[0, 17]</text>\n<text text-anchor=\"middle\" x=\"2007.5\" y=\"-22.8\" font-family=\"Times,serif\" font-size=\"14.00\" fill=\"#000000\">[3, 14]</text>\n<text text-anchor=\"middle\" x=\"2007.5\" y=\"-7.8\" font-family=\"Times,serif\" font-size=\"14.00\" fill=\"#000000\">[0, 17]]</text>\n</g>\n<!-- 33&#45;&gt;34 -->\n<g id=\"edge34\" class=\"edge\">\n<title>33&#45;&gt;34</title>\n<path fill=\"none\" stroke=\"#000000\" d=\"M2015.0998,-126.3642C2014.1367,-115.6094 2013.1142,-104.1921 2012.142,-93.3354\"/>\n<polygon fill=\"#000000\" stroke=\"#000000\" points=\"2015.6069,-92.7861 2011.2288,-83.1381 2008.6348,-93.4105 2015.6069,-92.7861\"/>\n</g>\n<!-- 35 -->\n<g id=\"node36\" class=\"node\">\n<title>35</title>\n<polygon fill=\"#e88f4f\" stroke=\"#000000\" points=\"2186,-83 2079,-83 2079,0 2186,0 2186,-83\"/>\n<text text-anchor=\"middle\" x=\"2132.5\" y=\"-67.8\" font-family=\"Times,serif\" font-size=\"14.00\" fill=\"#000000\">gini = 0.033</text>\n<text text-anchor=\"middle\" x=\"2132.5\" y=\"-52.8\" font-family=\"Times,serif\" font-size=\"14.00\" fill=\"#000000\">samples = 76</text>\n<text text-anchor=\"middle\" x=\"2132.5\" y=\"-37.8\" font-family=\"Times,serif\" font-size=\"14.00\" fill=\"#000000\">value = [[0, 76]</text>\n<text text-anchor=\"middle\" x=\"2132.5\" y=\"-22.8\" font-family=\"Times,serif\" font-size=\"14.00\" fill=\"#000000\">[0, 76]</text>\n<text text-anchor=\"middle\" x=\"2132.5\" y=\"-7.8\" font-family=\"Times,serif\" font-size=\"14.00\" fill=\"#000000\">[4, 72]]</text>\n</g>\n<!-- 33&#45;&gt;35 -->\n<g id=\"edge35\" class=\"edge\">\n<title>33&#45;&gt;35</title>\n<path fill=\"none\" stroke=\"#000000\" d=\"M2060.9354,-126.3642C2070.6592,-114.8333 2081.0253,-102.5408 2090.7623,-90.9942\"/>\n<polygon fill=\"#000000\" stroke=\"#000000\" points=\"2093.6162,-93.0392 2097.3872,-83.1381 2088.2649,-88.5265 2093.6162,-93.0392\"/>\n</g>\n<!-- 37 -->\n<g id=\"node38\" class=\"node\">\n<title>37</title>\n<polygon fill=\"#f5ceb3\" stroke=\"#000000\" points=\"2393.5,-224.5 2199.5,-224.5 2199.5,-126.5 2393.5,-126.5 2393.5,-224.5\"/>\n<text text-anchor=\"middle\" x=\"2296.5\" y=\"-209.3\" font-family=\"Times,serif\" font-size=\"14.00\" fill=\"#000000\">Case_Fatality_Ratio &lt;= &#45;0.714</text>\n<text text-anchor=\"middle\" x=\"2296.5\" y=\"-194.3\" font-family=\"Times,serif\" font-size=\"14.00\" fill=\"#000000\">gini = 0.182</text>\n<text text-anchor=\"middle\" x=\"2296.5\" y=\"-179.3\" font-family=\"Times,serif\" font-size=\"14.00\" fill=\"#000000\">samples = 60</text>\n<text text-anchor=\"middle\" x=\"2296.5\" y=\"-164.3\" font-family=\"Times,serif\" font-size=\"14.00\" fill=\"#000000\">value = [[1, 59]</text>\n<text text-anchor=\"middle\" x=\"2296.5\" y=\"-149.3\" font-family=\"Times,serif\" font-size=\"14.00\" fill=\"#000000\">[36, 24]</text>\n<text text-anchor=\"middle\" x=\"2296.5\" y=\"-134.3\" font-family=\"Times,serif\" font-size=\"14.00\" fill=\"#000000\">[1, 59]]</text>\n</g>\n<!-- 36&#45;&gt;37 -->\n<g id=\"edge37\" class=\"edge\">\n<title>36&#45;&gt;37</title>\n<path fill=\"none\" stroke=\"#000000\" d=\"M2296.5,-260.3642C2296.5,-252.0802 2296.5,-243.403 2296.5,-234.8918\"/>\n<polygon fill=\"#000000\" stroke=\"#000000\" points=\"2300.0001,-234.6298 2296.5,-224.6298 2293.0001,-234.6299 2300.0001,-234.6298\"/>\n</g>\n<!-- 40 -->\n<g id=\"node41\" class=\"node\">\n<title>40</title>\n<polygon fill=\"#f1bb95\" stroke=\"#000000\" points=\"2572.5,-224.5 2450.5,-224.5 2450.5,-126.5 2572.5,-126.5 2572.5,-224.5\"/>\n<text text-anchor=\"middle\" x=\"2511.5\" y=\"-209.3\" font-family=\"Times,serif\" font-size=\"14.00\" fill=\"#000000\">Active &lt;= &#45;0.361</text>\n<text text-anchor=\"middle\" x=\"2511.5\" y=\"-194.3\" font-family=\"Times,serif\" font-size=\"14.00\" fill=\"#000000\">gini = 0.138</text>\n<text text-anchor=\"middle\" x=\"2511.5\" y=\"-179.3\" font-family=\"Times,serif\" font-size=\"14.00\" fill=\"#000000\">samples = 750</text>\n<text text-anchor=\"middle\" x=\"2511.5\" y=\"-164.3\" font-family=\"Times,serif\" font-size=\"14.00\" fill=\"#000000\">value = [[21, 729]</text>\n<text text-anchor=\"middle\" x=\"2511.5\" y=\"-149.3\" font-family=\"Times,serif\" font-size=\"14.00\" fill=\"#000000\">[52, 698]</text>\n<text text-anchor=\"middle\" x=\"2511.5\" y=\"-134.3\" font-family=\"Times,serif\" font-size=\"14.00\" fill=\"#000000\">[99, 651]]</text>\n</g>\n<!-- 36&#45;&gt;40 -->\n<g id=\"edge40\" class=\"edge\">\n<title>36&#45;&gt;40</title>\n<path fill=\"none\" stroke=\"#000000\" d=\"M2375.3372,-260.3642C2397.0358,-246.8405 2420.4152,-232.2691 2441.5732,-219.0823\"/>\n<polygon fill=\"#000000\" stroke=\"#000000\" points=\"2443.5465,-221.9766 2450.1819,-213.7169 2439.8439,-216.036 2443.5465,-221.9766\"/>\n</g>\n<!-- 38 -->\n<g id=\"node39\" class=\"node\">\n<title>38</title>\n<polygon fill=\"#f1bc96\" stroke=\"#000000\" points=\"2311,-83 2204,-83 2204,0 2311,0 2311,-83\"/>\n<text text-anchor=\"middle\" x=\"2257.5\" y=\"-67.8\" font-family=\"Times,serif\" font-size=\"14.00\" fill=\"#000000\">gini = 0.14</text>\n<text text-anchor=\"middle\" x=\"2257.5\" y=\"-52.8\" font-family=\"Times,serif\" font-size=\"14.00\" fill=\"#000000\">samples = 29</text>\n<text text-anchor=\"middle\" x=\"2257.5\" y=\"-37.8\" font-family=\"Times,serif\" font-size=\"14.00\" fill=\"#000000\">value = [[1, 28]</text>\n<text text-anchor=\"middle\" x=\"2257.5\" y=\"-22.8\" font-family=\"Times,serif\" font-size=\"14.00\" fill=\"#000000\">[24, 5]</text>\n<text text-anchor=\"middle\" x=\"2257.5\" y=\"-7.8\" font-family=\"Times,serif\" font-size=\"14.00\" fill=\"#000000\">[1, 28]]</text>\n</g>\n<!-- 37&#45;&gt;38 -->\n<g id=\"edge38\" class=\"edge\">\n<title>37&#45;&gt;38</title>\n<path fill=\"none\" stroke=\"#000000\" d=\"M2282.1993,-126.3642C2279.0369,-115.4985 2275.6777,-103.9566 2272.4887,-92.9998\"/>\n<polygon fill=\"#000000\" stroke=\"#000000\" points=\"2275.7737,-91.7616 2269.6186,-83.1381 2269.0526,-93.7178 2275.7737,-91.7616\"/>\n</g>\n<!-- 39 -->\n<g id=\"node40\" class=\"node\">\n<title>39</title>\n<polygon fill=\"#f3c4a3\" stroke=\"#000000\" points=\"2436,-83 2329,-83 2329,0 2436,0 2436,-83\"/>\n<text text-anchor=\"middle\" x=\"2382.5\" y=\"-67.8\" font-family=\"Times,serif\" font-size=\"14.00\" fill=\"#000000\">gini = 0.158</text>\n<text text-anchor=\"middle\" x=\"2382.5\" y=\"-52.8\" font-family=\"Times,serif\" font-size=\"14.00\" fill=\"#000000\">samples = 31</text>\n<text text-anchor=\"middle\" x=\"2382.5\" y=\"-37.8\" font-family=\"Times,serif\" font-size=\"14.00\" fill=\"#000000\">value = [[0, 31]</text>\n<text text-anchor=\"middle\" x=\"2382.5\" y=\"-22.8\" font-family=\"Times,serif\" font-size=\"14.00\" fill=\"#000000\">[12, 19]</text>\n<text text-anchor=\"middle\" x=\"2382.5\" y=\"-7.8\" font-family=\"Times,serif\" font-size=\"14.00\" fill=\"#000000\">[0, 31]]</text>\n</g>\n<!-- 37&#45;&gt;39 -->\n<g id=\"edge39\" class=\"edge\">\n<title>37&#45;&gt;39</title>\n<path fill=\"none\" stroke=\"#000000\" d=\"M2328.0349,-126.3642C2335.293,-115.055 2343.0213,-103.0133 2350.307,-91.6612\"/>\n<polygon fill=\"#000000\" stroke=\"#000000\" points=\"2353.3213,-93.4445 2355.777,-83.1381 2347.4302,-89.6636 2353.3213,-93.4445\"/>\n</g>\n<!-- 41 -->\n<g id=\"node42\" class=\"node\">\n<title>41</title>\n<polygon fill=\"#eca26c\" stroke=\"#000000\" points=\"2568.5,-83 2454.5,-83 2454.5,0 2568.5,0 2568.5,-83\"/>\n<text text-anchor=\"middle\" x=\"2511.5\" y=\"-67.8\" font-family=\"Times,serif\" font-size=\"14.00\" fill=\"#000000\">gini = 0.077</text>\n<text text-anchor=\"middle\" x=\"2511.5\" y=\"-52.8\" font-family=\"Times,serif\" font-size=\"14.00\" fill=\"#000000\">samples = 449</text>\n<text text-anchor=\"middle\" x=\"2511.5\" y=\"-37.8\" font-family=\"Times,serif\" font-size=\"14.00\" fill=\"#000000\">value = [[6, 443]</text>\n<text text-anchor=\"middle\" x=\"2511.5\" y=\"-22.8\" font-family=\"Times,serif\" font-size=\"14.00\" fill=\"#000000\">[36, 413]</text>\n<text text-anchor=\"middle\" x=\"2511.5\" y=\"-7.8\" font-family=\"Times,serif\" font-size=\"14.00\" fill=\"#000000\">[13, 436]]</text>\n</g>\n<!-- 40&#45;&gt;41 -->\n<g id=\"edge41\" class=\"edge\">\n<title>40&#45;&gt;41</title>\n<path fill=\"none\" stroke=\"#000000\" d=\"M2511.5,-126.3642C2511.5,-115.6094 2511.5,-104.1921 2511.5,-93.3354\"/>\n<polygon fill=\"#000000\" stroke=\"#000000\" points=\"2515.0001,-93.1381 2511.5,-83.1381 2508.0001,-93.1382 2515.0001,-93.1381\"/>\n</g>\n<!-- 42 -->\n<g id=\"node43\" class=\"node\">\n<title>42</title>\n<polygon fill=\"#f7d7bf\" stroke=\"#000000\" points=\"2708.5,-83 2586.5,-83 2586.5,0 2708.5,0 2708.5,-83\"/>\n<text text-anchor=\"middle\" x=\"2647.5\" y=\"-67.8\" font-family=\"Times,serif\" font-size=\"14.00\" fill=\"#000000\">gini = 0.201</text>\n<text text-anchor=\"middle\" x=\"2647.5\" y=\"-52.8\" font-family=\"Times,serif\" font-size=\"14.00\" fill=\"#000000\">samples = 301</text>\n<text text-anchor=\"middle\" x=\"2647.5\" y=\"-37.8\" font-family=\"Times,serif\" font-size=\"14.00\" fill=\"#000000\">value = [[15, 286]</text>\n<text text-anchor=\"middle\" x=\"2647.5\" y=\"-22.8\" font-family=\"Times,serif\" font-size=\"14.00\" fill=\"#000000\">[16, 285]</text>\n<text text-anchor=\"middle\" x=\"2647.5\" y=\"-7.8\" font-family=\"Times,serif\" font-size=\"14.00\" fill=\"#000000\">[86, 215]]</text>\n</g>\n<!-- 40&#45;&gt;42 -->\n<g id=\"edge42\" class=\"edge\">\n<title>40&#45;&gt;42</title>\n<path fill=\"none\" stroke=\"#000000\" d=\"M2561.3691,-126.3642C2573.2972,-114.6115 2586.0283,-102.0677 2597.9423,-90.3289\"/>\n<polygon fill=\"#000000\" stroke=\"#000000\" points=\"2600.5736,-92.6498 2605.2404,-83.1381 2595.6606,-87.6635 2600.5736,-92.6498\"/>\n</g>\n</g>\n</svg>\n"
          },
          "metadata": {
            "tags": []
          },
          "execution_count": 387
        }
      ]
    },
    {
      "cell_type": "code",
      "metadata": {
        "colab": {
          "base_uri": "https://localhost:8080/"
        },
        "id": "s7BKrEVzOmx-",
        "outputId": "5dfd2c96-4443-400f-8900-4b4b840b8e8c"
      },
      "source": [
        "text_representation = export_text(dec_tree)\n",
        "print(text_representation)"
      ],
      "execution_count": null,
      "outputs": [
        {
          "output_type": "stream",
          "text": [
            "|--- feature_3 <= -1.17\n",
            "|   |--- feature_6 <= -0.50\n",
            "|   |   |--- feature_7 <= -0.50\n",
            "|   |   |   |--- feature_6 <= -0.63\n",
            "|   |   |   |   |--- class: 1\n",
            "|   |   |   |--- feature_6 >  -0.63\n",
            "|   |   |   |   |--- feature_6 <= -0.54\n",
            "|   |   |   |   |   |--- class: 2\n",
            "|   |   |   |   |--- feature_6 >  -0.54\n",
            "|   |   |   |   |   |--- class: 1\n",
            "|   |   |--- feature_7 >  -0.50\n",
            "|   |   |   |--- feature_8 <= -0.77\n",
            "|   |   |   |   |--- feature_7 <= -0.48\n",
            "|   |   |   |   |   |--- class: 1\n",
            "|   |   |   |   |--- feature_7 >  -0.48\n",
            "|   |   |   |   |   |--- class: 2\n",
            "|   |   |   |--- feature_8 >  -0.77\n",
            "|   |   |   |   |--- feature_6 <= -0.62\n",
            "|   |   |   |   |   |--- class: 2\n",
            "|   |   |   |   |--- feature_6 >  -0.62\n",
            "|   |   |   |   |   |--- class: 2\n",
            "|   |--- feature_6 >  -0.50\n",
            "|   |   |--- feature_0 <= 1.62\n",
            "|   |   |   |--- class: 2\n",
            "|   |   |--- feature_0 >  1.62\n",
            "|   |   |   |--- feature_3 <= -1.43\n",
            "|   |   |   |   |--- class: 0\n",
            "|   |   |   |--- feature_3 >  -1.43\n",
            "|   |   |   |   |--- class: 2\n",
            "|--- feature_3 >  -1.17\n",
            "|   |--- feature_2 <= -1.00\n",
            "|   |   |--- feature_4 <= -0.46\n",
            "|   |   |   |--- class: 0\n",
            "|   |   |--- feature_4 >  -0.46\n",
            "|   |   |   |--- feature_7 <= 1.12\n",
            "|   |   |   |   |--- feature_8 <= 0.03\n",
            "|   |   |   |   |   |--- class: 2\n",
            "|   |   |   |   |--- feature_8 >  0.03\n",
            "|   |   |   |   |   |--- class: 2\n",
            "|   |   |   |--- feature_7 >  1.12\n",
            "|   |   |   |   |--- class: 0\n",
            "|   |--- feature_2 >  -1.00\n",
            "|   |   |--- feature_12 <= -0.70\n",
            "|   |   |   |--- feature_4 <= -0.05\n",
            "|   |   |   |   |--- feature_1 <= 0.81\n",
            "|   |   |   |   |   |--- class: 2\n",
            "|   |   |   |   |--- feature_1 >  0.81\n",
            "|   |   |   |   |   |--- class: 2\n",
            "|   |   |   |--- feature_4 >  -0.05\n",
            "|   |   |   |   |--- feature_8 <= 0.11\n",
            "|   |   |   |   |   |--- class: 1\n",
            "|   |   |   |   |--- feature_8 >  0.11\n",
            "|   |   |   |   |   |--- class: 2\n",
            "|   |   |--- feature_12 >  -0.70\n",
            "|   |   |   |--- feature_9 <= -0.76\n",
            "|   |   |   |   |--- feature_7 <= -0.71\n",
            "|   |   |   |   |   |--- class: 1\n",
            "|   |   |   |   |--- feature_7 >  -0.71\n",
            "|   |   |   |   |   |--- class: 1\n",
            "|   |   |   |--- feature_9 >  -0.76\n",
            "|   |   |   |   |--- feature_4 <= -0.36\n",
            "|   |   |   |   |   |--- class: 1\n",
            "|   |   |   |   |--- feature_4 >  -0.36\n",
            "|   |   |   |   |   |--- class: 2\n",
            "\n"
          ],
          "name": "stdout"
        }
      ]
    },
    {
      "cell_type": "markdown",
      "metadata": {
        "id": "rc9Yr0xSWX7t"
      },
      "source": [
        "Conclusions:\n",
        "* We can see that right side of the tree is really heavy compard to the left side. \n",
        "* The main feature that separates the data is Lat and Long. It can concluded that people within same area are very likely to get infected which inturn would increase the target column.\n",
        "* Other featues used to split the data is Testing results, Active, total test resuls."
      ]
    },
    {
      "cell_type": "markdown",
      "metadata": {
        "id": "Qes7Eh0L8bz6"
      },
      "source": [
        "# **CM4 - Random Forest Classifier**"
      ]
    },
    {
      "cell_type": "code",
      "metadata": {
        "id": "BalQCiH8AsRM"
      },
      "source": [
        "from sklearn.ensemble import RandomForestClassifier"
      ],
      "execution_count": null,
      "outputs": []
    },
    {
      "cell_type": "code",
      "metadata": {
        "colab": {
          "base_uri": "https://localhost:8080/"
        },
        "id": "9riH4yBJBEvW",
        "outputId": "c49fb0b1-819e-4bd2-bc6f-9d990e465462"
      },
      "source": [
        "max_depth = [3, 5, 10, None]\n",
        "Number_of_trees = [5, 10, 50, 150, 200]\n",
        "Scores = []\n",
        "max_acc = 0\n",
        "max_dep = 0\n",
        "max_trees = 0\n",
        "for md in max_depth:\n",
        "  for n in Number_of_trees:\n",
        "    clf = RandomForestClassifier(max_depth=md, n_estimators=n, random_state=0)\n",
        "    clf.fit(X, y)\n",
        "    print(md, n)\n",
        "    accuracy = cross_val_score(clf, X, y, cv=5, scoring='accuracy')\n",
        "    print(accuracy.mean())\n",
        "    Scores.append(accuracy.mean())\n",
        "    if(accuracy.mean() > max_acc):\n",
        "      max_acc = accuracy.mean()\n",
        "      max_dep = md \n",
        "      max_trees = n\n",
        "\n",
        "print('Maximum Accuracy value is:', max_acc)\n",
        "print('The best value of maximum depth:', max_dep)\n",
        "print('The best value for number of trees:', max_trees)"
      ],
      "execution_count": null,
      "outputs": [
        {
          "output_type": "stream",
          "text": [
            "3 5\n",
            "0.7782608695652173\n",
            "3 10\n",
            "0.7905797101449276\n",
            "3 50\n",
            "0.8123188405797102\n",
            "3 150\n",
            "0.8101449275362318\n",
            "3 200\n",
            "0.8014492753623189\n",
            "5 5\n",
            "0.8057971014492754\n",
            "5 10\n",
            "0.8239130434782609\n",
            "5 50\n",
            "0.8376811594202899\n",
            "5 150\n",
            "0.8376811594202899\n",
            "5 200\n",
            "0.8376811594202899\n",
            "10 5\n",
            "0.8326086956521739\n",
            "10 10\n",
            "0.8275362318840578\n",
            "10 50\n",
            "0.8318840579710145\n",
            "10 150\n",
            "0.8318840579710145\n",
            "10 200\n",
            "0.8304347826086957\n",
            "None 5\n",
            "0.8130434782608695\n",
            "None 10\n",
            "0.8108695652173912\n",
            "None 50\n",
            "0.8239130434782609\n",
            "None 150\n",
            "0.8217391304347826\n",
            "None 200\n",
            "0.8202898550724639\n",
            "Maximum Accuracy value is: 0.8376811594202899\n",
            "The best value of maximum depth: 5\n",
            "The best value for number of trees: 50\n"
          ],
          "name": "stdout"
        }
      ]
    },
    {
      "cell_type": "code",
      "metadata": {
        "colab": {
          "base_uri": "https://localhost:8080/",
          "height": 279
        },
        "id": "WXg5HIRAElKF",
        "outputId": "7f0d4526-e0d2-4591-db0e-4cc326f6dc65"
      },
      "source": [
        "#Heat map for mean accuracies for different values of number of trees and max depth\n",
        "max_depth = [3,3,3,3,3, 5,5,5,5,5, 10,10,10,10,10, None,None,None,None,None]\n",
        "number_of_trees = [5,10,50,150,200, 5,10,50,150,200, 5,10,50,150,200, 5,10,50,150,200,]\n",
        "data = pd.DataFrame({'X': max_depth, 'Y': number_of_trees, 'Z' : Scores})\n",
        "data_pivoted = data.pivot(\"X\",\"Y\",\"Z\")\n",
        "ax = sns.heatmap(data_pivoted, annot=True)\n",
        "plt.show()"
      ],
      "execution_count": null,
      "outputs": [
        {
          "output_type": "display_data",
          "data": {
            "image/png": "[encoded data removed]",
            "text/plain": [
              "<Figure size 432x288 with 2 Axes>"
            ]
          },
          "metadata": {
            "tags": [],
            "needs_background": "light"
          }
        }
      ]
    },
    {
      "cell_type": "markdown",
      "metadata": {
        "id": "dtlRo-laGLxE"
      },
      "source": [
        "**We can observe that the maximum accuracy is achieved for maximum depth = 5 and number of trees = 50.**"
      ]
    },
    {
      "cell_type": "markdown",
      "metadata": {
        "id": "ZpzRwZG40D4Z"
      },
      "source": [
        "Now we will perform the same for features that we obtained through PCA. "
      ]
    },
    {
      "cell_type": "code",
      "metadata": {
        "id": "EJfQ9-PJ1DWa"
      },
      "source": [
        "x = covid_data_pca[['Day', 'State ID', 'Active', 'Incident_Rate', 'Total_Test_Results',\n",
        "       'Case_Fatality_Ratio', 'Testing_Rate', 'PC1', 'PC2', 'PC3', 'PC4']]\n",
        "Y = covid_data_pca[['Confirmed', 'Deaths', 'Recovered']]"
      ],
      "execution_count": null,
      "outputs": []
    },
    {
      "cell_type": "code",
      "metadata": {
        "colab": {
          "base_uri": "https://localhost:8080/"
        },
        "id": "1NePfXKw0bp8",
        "outputId": "05a940e0-e81c-4e21-d4b1-2a1e4c85423e"
      },
      "source": [
        "max_depth_pca = [3, 5, 10, None]\n",
        "Number_of_trees_pca = [5, 10, 50, 150, 200]\n",
        "Scores_pca = []\n",
        "max_acc_pca = 0\n",
        "max_dep_pca = 0\n",
        "max_trees_pca = 0\n",
        "for mdp in max_depth_pca:\n",
        "  for np in Number_of_trees_pca:\n",
        "    clf_pca = RandomForestClassifier(max_depth=mdp, n_estimators=np, random_state=0)\n",
        "    clf_pca.fit(x, Y)\n",
        "    print(mdp, np)\n",
        "    accuracy = cross_val_score(clf_pca, x, Y, cv=5, scoring='accuracy')\n",
        "    print(accuracy.mean())\n",
        "    Scores_pca.append(accuracy.mean())\n",
        "    if(accuracy.mean() > max_acc_pca):\n",
        "      max_acc_pca = accuracy.mean()\n",
        "      max_dep_pca = mdp \n",
        "      max_trees_pca = np\n",
        "\n",
        "print('Maximum Accuracy value is:', max_acc_pca)\n",
        "print('The best value of maximum depth:', max_dep_pca)\n",
        "print('The best value for number of trees:', max_trees_pca)"
      ],
      "execution_count": null,
      "outputs": [
        {
          "output_type": "stream",
          "text": [
            "3 5\n",
            "0.768840579710145\n",
            "3 10\n",
            "0.7927536231884058\n",
            "3 50\n",
            "0.7985507246376812\n",
            "3 150\n",
            "0.8014492753623188\n",
            "3 200\n",
            "0.8\n",
            "5 5\n",
            "0.8478260869565217\n",
            "5 10\n",
            "0.8427536231884059\n",
            "5 50\n",
            "0.8514492753623187\n",
            "5 150\n",
            "0.8543478260869565\n",
            "5 200\n",
            "0.8586956521739131\n",
            "10 5\n",
            "0.8217391304347826\n",
            "10 10\n",
            "0.8188405797101449\n",
            "10 50\n",
            "0.8340579710144926\n",
            "10 150\n",
            "0.8311594202898551\n",
            "10 200\n",
            "0.8304347826086957\n",
            "None 5\n",
            "0.8137681159420289\n",
            "None 10\n",
            "0.8195652173913043\n",
            "None 50\n",
            "0.822463768115942\n",
            "None 150\n",
            "0.8231884057971015\n",
            "None 200\n",
            "0.822463768115942\n",
            "Maximum Accuracy value is: 0.8586956521739131\n",
            "The best value of maximum depth: 5\n",
            "The best value for number of trees: 200\n"
          ],
          "name": "stdout"
        }
      ]
    },
    {
      "cell_type": "markdown",
      "metadata": {
        "id": "c6v9Zc_UDKv-"
      },
      "source": [
        "* **We can observe that the maximum accuracy is achieved for maximum depth = 5 and number of trees = 200 on data where PCA is performed.**\n",
        "* **We also observe that the accuracy of normalized data is 83.7% whereas on PCA data, it is 85.8%.**"
      ]
    },
    {
      "cell_type": "markdown",
      "metadata": {
        "id": "JlpP5tNtBSkn"
      },
      "source": [
        "# **CM5 - Gradient Tree Bosting**"
      ]
    },
    {
      "cell_type": "markdown",
      "metadata": {
        "id": "lXwNFLs2rRBO"
      },
      "source": [
        "Since Gradient tree boosting classifier dos'nt support multiple target columns, we will perform it on 3 different dataset where each dataset will have single target column. The features will remain same for all the dataset"
      ]
    },
    {
      "cell_type": "code",
      "metadata": {
        "id": "ctWnCoJnBdbY"
      },
      "source": [
        "from sklearn.ensemble import GradientBoostingClassifier\n"
      ],
      "execution_count": null,
      "outputs": []
    },
    {
      "cell_type": "code",
      "metadata": {
        "id": "ybZIi_rBtzM8"
      },
      "source": [
        "#X is the features\n",
        "#Preparing target columns\n",
        "y_confirmed = y.drop(columns=[\"Deaths\", \"Recovered\"])\n",
        "y_deaths = y.drop(columns=[\"Confirmed\", \"Recovered\"])\n",
        "y_recovered = y.drop(columns=[\"Deaths\", \"Confirmed\"])"
      ],
      "execution_count": null,
      "outputs": []
    },
    {
      "cell_type": "code",
      "metadata": {
        "id": "UF8vloo307Ox"
      },
      "source": [
        "import warnings\n",
        "warnings.filterwarnings('ignore')"
      ],
      "execution_count": null,
      "outputs": []
    },
    {
      "cell_type": "code",
      "metadata": {
        "colab": {
          "base_uri": "https://localhost:8080/",
          "height": 413
        },
        "id": "SK2Cn5h6svbL",
        "outputId": "d50d3748-167f-4288-f17a-0f59cc310878"
      },
      "source": [
        "#Using cross validation to fine tune the number of trees parameter\n",
        "number_of_estimators = [5, 10, 50, 150, 200]\n",
        "Scores = []\n",
        "max_acc = 0\n",
        "max_trees = 0\n",
        "\n",
        "for k in number_of_estimators:\n",
        "  clf_confirmed = GradientBoostingClassifier(n_estimators=k, random_state=0)\n",
        "  clf_confirmed.fit(X, y_confirmed)\n",
        "  accuracy = cross_val_score(clf_confirmed, X, y_confirmed, cv=10, scoring='accuracy')\n",
        "  print(accuracy.mean())\n",
        "  Scores.append(accuracy.mean())\n",
        "  if(accuracy.mean() > max_acc):\n",
        "    max_acc = accuracy.mean()\n",
        "    max_trees = k\n",
        "\n",
        "print('The maximum accuracy value is: ', max_acc)\n",
        "print('Best value of number of trees is:', max_trees)\n",
        "\n",
        "plt.plot(number_of_estimators, Scores)\n",
        "plt.xlabel(\"Number of Estimators\")\n",
        "plt.ylabel(\"Mean accuracy\")\n",
        "plt.title(\"Number of estimators vs Mean Accuracy for Gradient Tree Boosting - Confirmed \")\n",
        "plt.show()"
      ],
      "execution_count": null,
      "outputs": [
        {
          "output_type": "stream",
          "text": [
            "0.8623188405797102\n",
            "0.8608695652173912\n",
            "0.8420289855072465\n",
            "0.846376811594203\n",
            "0.8391304347826087\n",
            "The maximum accuracy value is:  0.8623188405797102\n",
            "Best value of number of trees is: 5\n"
          ],
          "name": "stdout"
        },
        {
          "output_type": "display_data",
          "data": {
            "image/png": "[encoded data removed]",
            "text/plain": [
              "<Figure size 432x288 with 1 Axes>"
            ]
          },
          "metadata": {
            "tags": [],
            "needs_background": "light"
          }
        }
      ]
    },
    {
      "cell_type": "code",
      "metadata": {
        "colab": {
          "base_uri": "https://localhost:8080/",
          "height": 413
        },
        "id": "Ilvj9jWix4ca",
        "outputId": "84cc906f-cf72-446c-8547-0beabb16a6d9"
      },
      "source": [
        "number_of_estimators = [5, 10, 50, 150, 200]\n",
        "Scores = []\n",
        "max_acc = 0\n",
        "max_trees = 0\n",
        "\n",
        "for k in number_of_estimators:\n",
        "  clf_deaths = GradientBoostingClassifier(n_estimators=k, random_state=0)\n",
        "  clf_deaths.fit(X, y_deaths)\n",
        "  accuracy = cross_val_score(clf_deaths, X, y_deaths, cv=10, scoring='accuracy')\n",
        "  print(accuracy.mean())\n",
        "  Scores.append(accuracy.mean())\n",
        "  if(accuracy.mean() > max_acc):\n",
        "    max_acc = accuracy.mean()\n",
        "    max_trees = k\n",
        "\n",
        "print('The maximum accuracy value is: ', max_acc)\n",
        "print('Best value of number of trees is:', max_trees)\n",
        "\n",
        "plt.plot(number_of_estimators, Scores)\n",
        "plt.xlabel(\"Number of Estimators\")\n",
        "plt.ylabel(\"Mean accuracy\")\n",
        "plt.title(\"Number of estimators vs Mean Accuracy for Gradient Tree Boosting - Deaths \")\n",
        "plt.show()"
      ],
      "execution_count": null,
      "outputs": [
        {
          "output_type": "stream",
          "text": [
            "0.832608695652174\n",
            "0.8413043478260869\n",
            "0.8362318840579711\n",
            "0.8297101449275361\n",
            "0.8231884057971014\n",
            "The maximum accuracy value is:  0.8413043478260869\n",
            "Best value of number of trees is: 10\n"
          ],
          "name": "stdout"
        },
        {
          "output_type": "display_data",
          "data": {
            "image/png": "[encoded data removed]",
            "text/plain": [
              "<Figure size 432x288 with 1 Axes>"
            ]
          },
          "metadata": {
            "tags": [],
            "needs_background": "light"
          }
        }
      ]
    },
    {
      "cell_type": "code",
      "metadata": {
        "colab": {
          "base_uri": "https://localhost:8080/",
          "height": 413
        },
        "id": "gtqSAB-YyDbu",
        "outputId": "fc1eda9c-e218-42c2-d1a4-50ee63cde177"
      },
      "source": [
        "number_of_estimators = [5, 10, 50, 150, 200]\n",
        "Scores = []\n",
        "max_acc = 0\n",
        "max_trees = 0\n",
        "\n",
        "for k in number_of_estimators:\n",
        "  clf_recovered = GradientBoostingClassifier(n_estimators=k, random_state=0)\n",
        "  clf_recovered.fit(X, y_recovered)\n",
        "  accuracy = cross_val_score(clf_recovered, X, y_recovered, cv=10, scoring='accuracy')\n",
        "  print(accuracy.mean())\n",
        "  Scores.append(accuracy.mean())\n",
        "  if(accuracy.mean() > max_acc):\n",
        "    max_acc = accuracy.mean()\n",
        "    max_trees = k\n",
        "\n",
        "print('The maximum accuracy value is: ', max_acc)\n",
        "print('Best value of number of trees is:', max_trees)\n",
        "\n",
        "plt.plot(number_of_estimators, Scores)\n",
        "plt.xlabel(\"Number of Estimators\")\n",
        "plt.ylabel(\"Mean accuracy\")\n",
        "plt.title(\"Number of estimators vs Mean Accuracy for Gradient Tree Boosting - Recovered \")\n",
        "plt.show()"
      ],
      "execution_count": null,
      "outputs": [
        {
          "output_type": "stream",
          "text": [
            "0.8282608695652174\n",
            "0.8695652173913043\n",
            "0.9376811594202898\n",
            "0.9376811594202898\n",
            "0.9355072463768115\n",
            "The maximum accuracy value is:  0.9376811594202898\n",
            "Best value of number of trees is: 50\n"
          ],
          "name": "stdout"
        },
        {
          "output_type": "display_data",
          "data": {
            "image/png": "[encoded data removed]",
            "text/plain": [
              "<Figure size 432x288 with 1 Axes>"
            ]
          },
          "metadata": {
            "tags": [],
            "needs_background": "light"
          }
        }
      ]
    },
    {
      "cell_type": "markdown",
      "metadata": {
        "id": "opULYuEGc4CX"
      },
      "source": [
        "* We have observed that the **accuracy for Recovered** cases dataset is **really high ** compared to other 2 dataset. \n",
        "* number of trees vary in each of them."
      ]
    },
    {
      "cell_type": "markdown",
      "metadata": {
        "id": "GlSKVKB309OC"
      },
      "source": [
        "Now we will perform Gradient boosting on PCA data."
      ]
    },
    {
      "cell_type": "code",
      "metadata": {
        "id": "DLLBqutE1Ckj"
      },
      "source": [
        "#Preparing x and Y data \n",
        "x = covid_data_pca[['Day', 'State ID', 'Active', 'Incident_Rate', 'Total_Test_Results',\n",
        "       'Case_Fatality_Ratio', 'Testing_Rate', 'PC1', 'PC2', 'PC3', 'PC4']]\n",
        "Y_confirmed = Y.drop(columns=[\"Deaths\", \"Recovered\"])\n",
        "Y_deaths = Y.drop(columns=[\"Confirmed\", \"Recovered\"])\n",
        "Y_recovered = Y.drop(columns=[\"Deaths\", \"Confirmed\"])"
      ],
      "execution_count": null,
      "outputs": []
    },
    {
      "cell_type": "code",
      "metadata": {
        "colab": {
          "base_uri": "https://localhost:8080/",
          "height": 413
        },
        "id": "IWV568uS2csV",
        "outputId": "58515686-352b-43ea-fe68-e664170361f5"
      },
      "source": [
        "#Using cross validation to fine tune the number of trees parameter\n",
        "number_of_estimators = [5, 10, 50, 150, 200]\n",
        "Scores = []\n",
        "max_acc = 0\n",
        "max_trees = 0\n",
        "\n",
        "for k in number_of_estimators:\n",
        "  clf = GradientBoostingClassifier(n_estimators=k, random_state=0)\n",
        "  clf.fit(x, Y_confirmed)\n",
        "  accuracy = cross_val_score(clf, x, Y_confirmed, cv=10, scoring='accuracy')\n",
        "  print(accuracy.mean())\n",
        "  Scores.append(accuracy.mean())\n",
        "  if(accuracy.mean() > max_acc):\n",
        "    max_acc = accuracy.mean()\n",
        "    max_trees = k\n",
        "\n",
        "print('The maximum accuracy value is: ', max_acc)\n",
        "print('Best value of number of trees is:', max_trees)\n",
        "\n",
        "plt.plot(number_of_estimators, Scores)\n",
        "plt.xlabel(\"Number of Estimators\")\n",
        "plt.ylabel(\"Mean accuracy\")\n",
        "plt.title(\"Number of estimators vs Mean Accuracy for Gradient Tree Boosting - Confirmed(PCA) \")\n",
        "plt.show()"
      ],
      "execution_count": null,
      "outputs": [
        {
          "output_type": "stream",
          "text": [
            "0.8623188405797102\n",
            "0.8615942028985508\n",
            "0.85\n",
            "0.8144927536231885\n",
            "0.8072463768115943\n",
            "The maximum accuracy value is:  0.8623188405797102\n",
            "Best value of number of trees is: 5\n"
          ],
          "name": "stdout"
        },
        {
          "output_type": "display_data",
          "data": {
            "image/png": "[encoded data removed]",
            "text/plain": [
              "<Figure size 432x288 with 1 Axes>"
            ]
          },
          "metadata": {
            "tags": [],
            "needs_background": "light"
          }
        }
      ]
    },
    {
      "cell_type": "code",
      "metadata": {
        "colab": {
          "base_uri": "https://localhost:8080/",
          "height": 413
        },
        "id": "YkEF-H-Z27Mt",
        "outputId": "5e6ebf7f-f502-4da0-9631-cd82a8dc8001"
      },
      "source": [
        "#Using cross validation to fine tune the number of trees parameter\n",
        "number_of_estimators = [5, 10, 50, 150, 200]\n",
        "Scores = []\n",
        "max_acc = 0\n",
        "max_trees = 0\n",
        "\n",
        "for k in number_of_estimators:\n",
        "  clf = GradientBoostingClassifier(n_estimators=k, random_state=0)\n",
        "  clf.fit(x, Y_deaths)\n",
        "  accuracy = cross_val_score(clf, x, Y_deaths, cv=10, scoring='accuracy')\n",
        "  print(accuracy.mean())\n",
        "  Scores.append(accuracy.mean())\n",
        "  if(accuracy.mean() > max_acc):\n",
        "    max_acc = accuracy.mean()\n",
        "    max_trees = k\n",
        "\n",
        "print('The maximum accuracy value is: ', max_acc)\n",
        "print('Best value of number of trees is:', max_trees)\n",
        "\n",
        "plt.plot(number_of_estimators, Scores)\n",
        "plt.xlabel(\"Number of Estimators\")\n",
        "plt.ylabel(\"Mean accuracy\")\n",
        "plt.title(\"Number of estimators vs Mean Accuracy for Gradient Tree Boosting - Deaths(PCA) \")\n",
        "plt.show()"
      ],
      "execution_count": null,
      "outputs": [
        {
          "output_type": "stream",
          "text": [
            "0.8318840579710145\n",
            "0.8478260869565218\n",
            "0.8340579710144927\n",
            "0.826086956521739\n",
            "0.8231884057971014\n",
            "The maximum accuracy value is:  0.8478260869565218\n",
            "Best value of number of trees is: 10\n"
          ],
          "name": "stdout"
        },
        {
          "output_type": "display_data",
          "data": {
            "image/png": "[encoded data removed]",
            "text/plain": [
              "<Figure size 432x288 with 1 Axes>"
            ]
          },
          "metadata": {
            "tags": [],
            "needs_background": "light"
          }
        }
      ]
    },
    {
      "cell_type": "code",
      "metadata": {
        "colab": {
          "base_uri": "https://localhost:8080/",
          "height": 413
        },
        "id": "rYl4XZeA3IVu",
        "outputId": "694310d2-1836-4a1a-b99a-65f0ab76de77"
      },
      "source": [
        "#Using cross validation to fine tune the number of trees parameter\n",
        "number_of_estimators = [5, 10, 50, 150, 200]\n",
        "Scores = []\n",
        "max_acc = 0\n",
        "max_trees = 0\n",
        "\n",
        "for k in number_of_estimators:\n",
        "  clf = GradientBoostingClassifier(n_estimators=k, random_state=0)\n",
        "  clf.fit(x, Y_recovered)\n",
        "  accuracy = cross_val_score(clf, x, Y_recovered, cv=10, scoring='accuracy')\n",
        "  print(accuracy.mean())\n",
        "  Scores.append(accuracy.mean())\n",
        "  if(accuracy.mean() > max_acc):\n",
        "    max_acc = accuracy.mean()\n",
        "    max_trees = k\n",
        "\n",
        "print('The maximum accuracy value is: ', max_acc)\n",
        "print('Best value of number of trees is:', max_trees)\n",
        "\n",
        "plt.plot(number_of_estimators, Scores)\n",
        "plt.xlabel(\"Number of Estimators\")\n",
        "plt.ylabel(\"Mean accuracy\")\n",
        "plt.title(\"Number of estimators vs Mean Accuracy for Gradient Tree Boosting - Recovered(PCA) \")\n",
        "plt.show()"
      ],
      "execution_count": null,
      "outputs": [
        {
          "output_type": "stream",
          "text": [
            "0.8492753623188406\n",
            "0.8992753623188406\n",
            "0.9420289855072463\n",
            "0.9362318840579709\n",
            "0.9304347826086957\n",
            "The maximum accuracy value is:  0.9420289855072463\n",
            "Best value of number of trees is: 50\n"
          ],
          "name": "stdout"
        },
        {
          "output_type": "display_data",
          "data": {
            "image/png": "[encoded data removed]",
            "text/plain": [
              "<Figure size 432x288 with 1 Axes>"
            ]
          },
          "metadata": {
            "tags": [],
            "needs_background": "light"
          }
        }
      ]
    },
    {
      "cell_type": "markdown",
      "metadata": {
        "id": "m4ahPIY5dVxt"
      },
      "source": [
        "* The same is observed in this case too. The accuracy for recovered cases dataset is high.\n",
        "* The number of trees reamin the same as that we in the previour data without PCA."
      ]
    },
    {
      "cell_type": "markdown",
      "metadata": {
        "id": "7wINR9j-Y4_d"
      },
      "source": [
        "# **CM6 - Naive Bayes Classifier**"
      ]
    },
    {
      "cell_type": "code",
      "metadata": {
        "id": "HjD9T_4xZOlM"
      },
      "source": [
        "from sklearn.naive_bayes import GaussianNB"
      ],
      "execution_count": null,
      "outputs": []
    },
    {
      "cell_type": "code",
      "metadata": {
        "colab": {
          "base_uri": "https://localhost:8080/",
          "height": 497
        },
        "id": "TahInPQECTeg",
        "outputId": "2fdf0e7d-5f9a-4955-bae9-8ca765cb4c78"
      },
      "source": [
        "var_smoothning = [1e-10, 1e-9, 1e-5, 1e-3, 1e-1]\n",
        "Scores = []\n",
        "max_acc = 0\n",
        "best_var = 0\n",
        "for var in var_smoothning:\n",
        "  print(var)\n",
        "  gnb = GaussianNB(var_smoothing=var)\n",
        "  gnb.fit(X,y_confirmed)\n",
        "  accuracy = cross_val_score(gnb, X, y_confirmed, cv=10, scoring='accuracy')\n",
        "  print(accuracy.mean())\n",
        "  Scores.append(accuracy.mean())\n",
        "  if(accuracy.mean() > max_acc):\n",
        "    max_acc = accuracy.mean()\n",
        "    best_var = var\n",
        "\n",
        "print('Maximum accuracy value is:', max_acc)\n",
        "print('Best value for var smoothning is:', best_var)\n",
        "\n",
        "plt.plot(var_smoothning, Scores)\n",
        "plt.xlabel(\"Var Smoothning\")\n",
        "plt.ylabel(\"Maximum accuracy\")\n",
        "plt.title(\"Var Smoothning vs Maximum Accuracy for Naive Bayes - Confirmed \")\n",
        "plt.show()"
      ],
      "execution_count": null,
      "outputs": [
        {
          "output_type": "stream",
          "text": [
            "1e-10\n",
            "0.731159420289855\n",
            "1e-09\n",
            "0.731159420289855\n",
            "1e-05\n",
            "0.731159420289855\n",
            "0.001\n",
            "0.7297101449275362\n",
            "0.1\n",
            "0.7876811594202898\n",
            "Maximum accuracy value is: 0.7876811594202898\n",
            "Best value for var smoothning is: 0.1\n"
          ],
          "name": "stdout"
        },
        {
          "output_type": "display_data",
          "data": {
            "image/png": "[encoded data removed]",
            "text/plain": [
              "<Figure size 432x288 with 1 Axes>"
            ]
          },
          "metadata": {
            "tags": [],
            "needs_background": "light"
          }
        }
      ]
    },
    {
      "cell_type": "code",
      "metadata": {
        "colab": {
          "base_uri": "https://localhost:8080/",
          "height": 497
        },
        "id": "3JQZpe2TFz5w",
        "outputId": "2a91dcfa-4b66-4c93-a249-a763548a118d"
      },
      "source": [
        "var_smoothning = [1e-10, 1e-9, 1e-5, 1e-3, 1e-1]\n",
        "Scores = []\n",
        "max_acc = 0\n",
        "best_var = 0\n",
        "for var in var_smoothning:\n",
        "  print(var)\n",
        "  gnb = GaussianNB(var_smoothing=var)\n",
        "  gnb.fit(X,y_deaths)\n",
        "  accuracy = cross_val_score(gnb, X, y_deaths, cv=10, scoring='accuracy')\n",
        "  print(accuracy.mean())\n",
        "  Scores.append(accuracy.mean())\n",
        "  if(accuracy.mean() > max_acc):\n",
        "    max_acc = accuracy.mean()\n",
        "    best_var = var\n",
        "\n",
        "print('Maximum accuracy value is:', max_acc)\n",
        "print('Best value for var smoothning is:', best_var)\n",
        "\n",
        "plt.plot(var_smoothning, Scores)\n",
        "plt.xlabel(\"Var Smoothning\")\n",
        "plt.ylabel(\"Maximum accuracy\")\n",
        "plt.title(\"Var Smoothning vs Maximum Accuracy for Naive Bayes - Deaths \")\n",
        "plt.show()"
      ],
      "execution_count": null,
      "outputs": [
        {
          "output_type": "stream",
          "text": [
            "1e-10\n",
            "0.6405797101449275\n",
            "1e-09\n",
            "0.6405797101449275\n",
            "1e-05\n",
            "0.6405797101449275\n",
            "0.001\n",
            "0.6413043478260869\n",
            "0.1\n",
            "0.731159420289855\n",
            "Maximum accuracy value is: 0.731159420289855\n",
            "Best value for var smoothning is: 0.1\n"
          ],
          "name": "stdout"
        },
        {
          "output_type": "display_data",
          "data": {
            "image/png": "[encoded data removed]",
            "text/plain": [
              "<Figure size 432x288 with 1 Axes>"
            ]
          },
          "metadata": {
            "tags": [],
            "needs_background": "light"
          }
        }
      ]
    },
    {
      "cell_type": "code",
      "metadata": {
        "colab": {
          "base_uri": "https://localhost:8080/",
          "height": 497
        },
        "id": "Vtm4PmxXF0wi",
        "outputId": "87b7f26c-288b-4bec-8ed9-b454705c4176"
      },
      "source": [
        "var_smoothning = [1e-10, 1e-9, 1e-5, 1e-3, 1e-1]\n",
        "Scores = []\n",
        "max_acc = 0\n",
        "best_var = 0\n",
        "for var in var_smoothning:\n",
        "  print(var)\n",
        "  gnb = GaussianNB(var_smoothing=var)\n",
        "  gnb.fit(X,y_recovered)\n",
        "  accuracy = cross_val_score(gnb, X, y_recovered, cv=10, scoring='accuracy')\n",
        "  print(accuracy.mean())\n",
        "  Scores.append(accuracy.mean())\n",
        "  if(accuracy.mean() > max_acc):\n",
        "    max_acc = accuracy.mean()\n",
        "    best_var = var\n",
        "\n",
        "print('Maximum accuracy value is:', max_acc)\n",
        "print('Best value for var smoothning is:', best_var)\n",
        "\n",
        "plt.plot(var_smoothning, Scores)\n",
        "plt.xlabel(\"Var Smoothning\")\n",
        "plt.ylabel(\"Maximum accuracy\")\n",
        "plt.title(\"Var Smoothning vs Maximum Accuracy for Naive Bayes - Recovered \")\n",
        "plt.show()"
      ],
      "execution_count": null,
      "outputs": [
        {
          "output_type": "stream",
          "text": [
            "1e-10\n",
            "0.7086956521739131\n",
            "1e-09\n",
            "0.7086956521739131\n",
            "1e-05\n",
            "0.7086956521739131\n",
            "0.001\n",
            "0.7086956521739131\n",
            "0.1\n",
            "0.6956521739130433\n",
            "Maximum accuracy value is: 0.7086956521739131\n",
            "Best value for var smoothning is: 1e-10\n"
          ],
          "name": "stdout"
        },
        {
          "output_type": "display_data",
          "data": {
            "image/png": "[encoded data removed]",
            "text/plain": [
              "<Figure size 432x288 with 1 Axes>"
            ]
          },
          "metadata": {
            "tags": [],
            "needs_background": "light"
          }
        }
      ]
    },
    {
      "cell_type": "markdown",
      "metadata": {
        "id": "DVhbJdxPduIL"
      },
      "source": [
        "We observe that value for var smoothning is same for Confirmed data and deaths data whereas there is totally opposite trend going on in the data for Recovered."
      ]
    },
    {
      "cell_type": "markdown",
      "metadata": {
        "id": "OcH_JAH6ZA-D"
      },
      "source": [
        "# **CM7 - Interpretation**"
      ]
    },
    {
      "cell_type": "markdown",
      "metadata": {
        "id": "KVL7G5Es9sy4"
      },
      "source": [
        "Now we will compare the performance of Naive Bayes(NB) to decesion tree approaches.\n",
        "We will be using model of:\n",
        "* Naive Bayes\n",
        "* Decision Tree\n",
        "* Random Forest\n",
        "* Gradient tree Boosting\n",
        "\n",
        "Not all the models accept multitaget values so we will prepare a model differently for individual target values and compare the model. \n",
        "There are multiple ways to compare the results. we will be using Accuracy, F1-score"
      ]
    },
    {
      "cell_type": "code",
      "metadata": {
        "id": "dH7lJpxlEsj3"
      },
      "source": [
        "from sklearn.metrics import f1_score\n",
        "from sklearn.metrics import precision_score\n",
        "from sklearn.metrics import recall_score\n",
        "from sklearn.metrics import accuracy_score"
      ],
      "execution_count": null,
      "outputs": []
    },
    {
      "cell_type": "code",
      "metadata": {
        "colab": {
          "base_uri": "https://localhost:8080/"
        },
        "id": "NopDNLlmCqW9",
        "outputId": "5724f8db-7d6c-4ff6-b62a-415ccecce629"
      },
      "source": [
        "# Models for Confirmed.\n",
        "#1.Naive Bayes\n",
        "nbm_confirmed = GaussianNB(var_smoothing=0.1)\n",
        "nbm_confirmed.fit(X,y_confirmed)\n",
        "nbm_pred_confirmed = nbm.predict(X)\n",
        "print('F1 Score for Naive Bayes - Confirmed: '+str(f1_score(y_confirmed,nbm_pred_confirmed)))\n",
        "print('Accuracy for Naive Bayes - Confirmed: '+str(accuracy_score(y_confirmed,nbm_pred_confirmed)))\n",
        "print('Precesion for Naive Bayes - Confirmed: '+str(precision_score(y_confirmed,nbm_pred_confirmed)))\n",
        "print('Recall for Naive Bayes - Confirmed: '+str(recall_score(y_confirmed, nbm_pred_confirmed)))\n",
        "print('')\n",
        "\n",
        "#2.Decision tree\n",
        "dtm_confirmed = DecisionTreeClassifier(max_depth=5)\n",
        "dtm_confirmed.fit(X,y_confirmed)\n",
        "dtm_pred_confirmed = dtm_confirmed.predict(X)\n",
        "print('F1 Score for Decision tree - Confirmed: '+str(f1_score(y_confirmed,dtm_pred_confirmed)))\n",
        "print('Accuracy for Decision tree - Confirmed: '+str(accuracy_score(y_confirmed,dtm_pred_confirmed)))\n",
        "print('Precesion for Decision tree - Confirmed: '+str(precision_score(y_confirmed,dtm_pred_confirmed)))\n",
        "print('Recall for Decision tree - Confirmed: '+str(recall_score(y_confirmed, dtm_pred_confirmed)))\n",
        "print('')\n",
        "\n",
        "#3.Random Forest\n",
        "rfm_confirmed = RandomForestClassifier(max_depth=5, n_estimators=50)\n",
        "rfm_confirmed.fit(X,y_confirmed)\n",
        "rfm_pred_confirmed = rfm_confirmed.predict(X)\n",
        "print('F1 Score for Random Forest - Confirmed: '+str(f1_score(y_confirmed,rfm_pred_confirmed)))\n",
        "print('Accuracy for Random Forest - Confirmed: '+str(accuracy_score(y_confirmed,rfm_pred_confirmed)))\n",
        "print('Precesion for Random Forest - Confirmed: '+str(precision_score(y_confirmed,rfm_pred_confirmed)))\n",
        "print('Recall for Random Forest - Confirmed: '+str(recall_score(y_confirmed, rfm_pred_confirmed)))\n",
        "print('')\n",
        "\n",
        "#4.Gradient Boosting\n",
        "gbm_confirmed = GradientBoostingClassifier(n_estimators=5)\n",
        "gbm_confirmed.fit(X,y_confirmed)\n",
        "dtm_pred_confirmed = dtm_confirmed.predict(X)\n",
        "print('F1 Score for Decision tree - Confirmed: '+str(f1_score(y_confirmed,dtm_pred_confirmed)))\n",
        "print('Accuracy for Decision tree - Confirmed: '+str(accuracy_score(y_confirmed,dtm_pred_confirmed)))\n",
        "print('Precesion for Decision tree - Confirmed: '+str(precision_score(y_confirmed,dtm_pred_confirmed)))\n",
        "print('Recall for Decision tree - Confirmed: '+str(recall_score(y_confirmed, dtm_pred_confirmed)))\n",
        "print('')"
      ],
      "execution_count": null,
      "outputs": [
        {
          "output_type": "stream",
          "text": [
            "F1 Score for Naive Bayes - Confirmed: 0.8666386201093816\n",
            "Accuracy for Naive Bayes - Confirmed: 0.7702898550724637\n",
            "Precesion for Naive Bayes - Confirmed: 0.982824427480916\n",
            "Recall for Naive Bayes - Confirmed: 0.7750188111361926\n",
            "\n",
            "F1 Score for Decision tree - Confirmed: 0.9855394883203559\n",
            "Accuracy for Decision tree - Confirmed: 0.9717391304347827\n",
            "Precesion for Decision tree - Confirmed: 0.9714912280701754\n",
            "Recall for Decision tree - Confirmed: 1.0\n",
            "\n",
            "F1 Score for Random Forest - Confirmed: 0.9840799703813403\n",
            "Accuracy for Random Forest - Confirmed: 0.9688405797101449\n",
            "Precesion for Random Forest - Confirmed: 0.9686588921282799\n",
            "Recall for Random Forest - Confirmed: 1.0\n",
            "\n",
            "F1 Score for Decision tree - Confirmed: 0.9855394883203559\n",
            "Accuracy for Decision tree - Confirmed: 0.9717391304347827\n",
            "Precesion for Decision tree - Confirmed: 0.9714912280701754\n",
            "Recall for Decision tree - Confirmed: 1.0\n",
            "\n"
          ],
          "name": "stdout"
        }
      ]
    },
    {
      "cell_type": "code",
      "metadata": {
        "colab": {
          "base_uri": "https://localhost:8080/"
        },
        "id": "0w4gr_MCM5qu",
        "outputId": "7b5cfd82-dcbb-43f2-886a-9e2f01b2d4e7"
      },
      "source": [
        "# Models for Deaths.\n",
        "#1.Naive Bayes\n",
        "nbm_deaths = GaussianNB(var_smoothing=0.1)\n",
        "nbm_deaths.fit(X,y_deaths)\n",
        "nbm_pred_deaths = nbm.predict(X)\n",
        "print('F1 Score for Naive Bayes - Deaths: '+str(f1_score(y_deaths,nbm_pred_deaths)))\n",
        "print('Accuracy for Naive Bayes - Deaths: '+str(accuracy_score(y_deaths,nbm_pred_deaths)))\n",
        "print('Precesion for Naive Bayes - Deaths: '+str(precision_score(y_deaths,nbm_pred_deaths)))\n",
        "print('Recall for Naive Bayes - Deaths: '+str(recall_score(y_deaths, nbm_pred_deaths)))\n",
        "print('')\n",
        "\n",
        "#2.Decision tree\n",
        "dtm_deaths = DecisionTreeClassifier(max_depth=5)\n",
        "dtm_deaths.fit(X,y_deaths)\n",
        "dtm_pred_deaths = dtm_deaths.predict(X)\n",
        "print('F1 Score for Decision tree - deaths: '+str(f1_score(y_deaths,dtm_pred_deaths)))\n",
        "print('Accuracy for Decision tree - deaths: '+str(accuracy_score(y_deaths,dtm_pred_deaths)))\n",
        "print('Precesion for Decision tree - deaths: '+str(precision_score(y_deaths,dtm_pred_deaths)))\n",
        "print('Recall for Decision tree - deaths: '+str(recall_score(y_deaths, dtm_pred_deaths)))\n",
        "print('')\n",
        "\n",
        "#3.Random Forest\n",
        "rfm_deaths = RandomForestClassifier(max_depth=5, n_estimators=50)\n",
        "rfm_deaths.fit(X,y_deaths)\n",
        "rfm_pred_deaths = rfm_deaths.predict(X)\n",
        "print('F1 Score for Random Forest - deaths: '+str(f1_score(y_deaths,rfm_pred_deaths)))\n",
        "print('Accuracy for Random Forest - deaths: '+str(accuracy_score(y_deaths,rfm_pred_deaths)))\n",
        "print('Precesion for Random Forest - deaths: '+str(precision_score(y_deaths,rfm_pred_deaths)))\n",
        "print('Recall for Random Forest - deaths: '+str(recall_score(y_deaths, rfm_pred_deaths)))\n",
        "print('')\n",
        "\n",
        "#4.Gradient Boosting\n",
        "gbm_deaths = GradientBoostingClassifier(n_estimators=10)\n",
        "gbm_deaths.fit(X,y_deaths)\n",
        "dtm_pred_deaths = dtm_deaths.predict(X)\n",
        "print('F1 Score for Decision tree - deaths: '+str(f1_score(y_deaths,dtm_pred_deaths)))\n",
        "print('Accuracy for Decision tree - deaths: '+str(accuracy_score(y_deaths,dtm_pred_deaths)))\n",
        "print('Precesion for Decision tree - deaths: '+str(precision_score(y_deaths,dtm_pred_deaths)))\n",
        "print('Recall for Decision tree - deaths: '+str(recall_score(y_deaths, dtm_pred_deaths)))\n",
        "print('')"
      ],
      "execution_count": null,
      "outputs": [
        {
          "output_type": "stream",
          "text": [
            "F1 Score for Naive Bayes - Deaths: 0.8132635253054101\n",
            "Accuracy for Naive Bayes - Deaths: 0.6898550724637681\n",
            "Precesion for Naive Bayes - Deaths: 0.8893129770992366\n",
            "Recall for Naive Bayes - Deaths: 0.7491961414790996\n",
            "\n",
            "F1 Score for Decision tree - deaths: 0.964355660007834\n",
            "Accuracy for Decision tree - deaths: 0.9340579710144927\n",
            "Precesion for Decision tree - deaths: 0.9404125286478228\n",
            "Recall for Decision tree - deaths: 0.9895498392282959\n",
            "\n",
            "F1 Score for Random Forest - deaths: 0.9618973561430793\n",
            "Accuracy for Random Forest - deaths: 0.9289855072463769\n",
            "Precesion for Random Forest - deaths: 0.9314759036144579\n",
            "Recall for Random Forest - deaths: 0.9943729903536977\n",
            "\n",
            "F1 Score for Decision tree - deaths: 0.964355660007834\n",
            "Accuracy for Decision tree - deaths: 0.9340579710144927\n",
            "Precesion for Decision tree - deaths: 0.9404125286478228\n",
            "Recall for Decision tree - deaths: 0.9895498392282959\n",
            "\n"
          ],
          "name": "stdout"
        }
      ]
    },
    {
      "cell_type": "code",
      "metadata": {
        "colab": {
          "base_uri": "https://localhost:8080/"
        },
        "id": "kSMN0qyJPKe-",
        "outputId": "12a92923-7c01-49b9-b64d-432469121273"
      },
      "source": [
        "# Models for recovered.\n",
        "#1.Naive Bayes\n",
        "nbm_recovered = GaussianNB(var_smoothing=1e-10)\n",
        "nbm_recovered.fit(X,y_recovered)\n",
        "nbm_pred_recovered = nbm.predict(X)\n",
        "print('F1 Score for Naive Bayes - recovered: '+str(f1_score(y_recovered,nbm_pred_recovered)))\n",
        "print('Accuracy for Naive Bayes - recovered: '+str(accuracy_score(y_recovered,nbm_pred_recovered)))\n",
        "print('Precesion for Naive Bayes - recovered: '+str(precision_score(y_recovered,nbm_pred_recovered)))\n",
        "print('Recall for Naive Bayes - recovered: '+str(recall_score(y_recovered, nbm_pred_recovered)))\n",
        "print('')\n",
        "\n",
        "#2.Decision tree\n",
        "dtm_recovered = DecisionTreeClassifier(max_depth=5)\n",
        "dtm_recovered.fit(X,y_recovered)\n",
        "dtm_pred_recovered = dtm_recovered.predict(X)\n",
        "print('F1 Score for Decision tree - recovered: '+str(f1_score(y_recovered,dtm_pred_recovered)))\n",
        "print('Accuracy for Decision tree - recovered: '+str(accuracy_score(y_recovered,dtm_pred_recovered)))\n",
        "print('Precesion for Decision tree - recovered: '+str(precision_score(y_recovered,dtm_pred_recovered)))\n",
        "print('Recall for Decision tree - recovered: '+str(recall_score(y_recovered, dtm_pred_recovered)))\n",
        "print('')\n",
        "\n",
        "#3.Random Forest\n",
        "rfm_recovered = RandomForestClassifier(max_depth=5, n_estimators=50)\n",
        "rfm_recovered.fit(X,y_recovered)\n",
        "rfm_pred_recovered = rfm_recovered.predict(X)\n",
        "print('F1 Score for Random Forest - recovered: '+str(f1_score(y_recovered,rfm_pred_recovered)))\n",
        "print('Accuracy for Random Forest - recovered: '+str(accuracy_score(y_recovered,rfm_pred_recovered)))\n",
        "print('Precesion for Random Forest - recovered: '+str(precision_score(y_recovered,rfm_pred_recovered)))\n",
        "print('Recall for Random Forest - recovered: '+str(recall_score(y_recovered, rfm_pred_recovered)))\n",
        "print('')\n",
        "\n",
        "#4.Gradient Boosting\n",
        "gbm_recovered = GradientBoostingClassifier(n_estimators=50)\n",
        "gbm_recovered.fit(X,y_recovered)\n",
        "dtm_pred_recovered = dtm_recovered.predict(X)\n",
        "print('F1 Score for Decision tree - recovered: '+str(f1_score(y_recovered,dtm_pred_recovered)))\n",
        "print('Accuracy for Decision tree - recovered: '+str(accuracy_score(y_recovered,dtm_pred_recovered)))\n",
        "print('Precesion for Decision tree - recovered: '+str(precision_score(y_recovered,dtm_pred_recovered)))\n",
        "print('Recall for Decision tree - recovered: '+str(recall_score(y_recovered, dtm_pred_recovered)))\n",
        "print('')"
      ],
      "execution_count": null,
      "outputs": [
        {
          "output_type": "stream",
          "text": [
            "F1 Score for Naive Bayes - recovered: 0.7311715481171549\n",
            "Accuracy for Naive Bayes - recovered: 0.6275362318840579\n",
            "Precesion for Naive Bayes - recovered: 0.6669847328244275\n",
            "Recall for Naive Bayes - recovered: 0.8090277777777778\n",
            "\n",
            "F1 Score for Decision tree - recovered: 0.9282977558839627\n",
            "Accuracy for Decision tree - recovered: 0.9050724637681159\n",
            "Precesion for Decision tree - recovered: 0.8805815160955348\n",
            "Recall for Decision tree - recovered: 0.9814814814814815\n",
            "\n",
            "F1 Score for Random Forest - recovered: 0.9490196078431373\n",
            "Accuracy for Random Forest - recovered: 0.9340579710144927\n",
            "Precesion for Random Forest - recovered: 0.9196525515743756\n",
            "Recall for Random Forest - recovered: 0.9803240740740741\n",
            "\n",
            "F1 Score for Decision tree - recovered: 0.9282977558839627\n",
            "Accuracy for Decision tree - recovered: 0.9050724637681159\n",
            "Precesion for Decision tree - recovered: 0.8805815160955348\n",
            "Recall for Decision tree - recovered: 0.9814814814814815\n",
            "\n"
          ],
          "name": "stdout"
        }
      ]
    },
    {
      "cell_type": "markdown",
      "metadata": {
        "id": "XYl5wfaSemY_"
      },
      "source": [
        "* Precesion is a measure to determine the rate of False positives. Here the precision for Naive Bayes is Bad compared to other models for every target. We cannot rely much on Naive Bayes. \n",
        "\n",
        "* Recall is score for correctly detected positive observations. Naive Bayes model for Recall is also not good compared to other models as it have score of appromximately 70% whereas for all the other model it is more than 98%. Surprisingly for Confirmed it is 100% for all other target.\n",
        "\n",
        "* F1 score seeks the balance between Precesion and recall. The score for all the models is almost same and good.\n",
        "\n",
        "* Accuracy is also low for Naive Bayes. For other models it is 90% or more than that.   \n"
      ]
    },
    {
      "cell_type": "markdown",
      "metadata": {
        "id": "066yZF3MZLfT"
      },
      "source": [
        "# **CM8 - Kaggle Competetion**"
      ]
    },
    {
      "cell_type": "code",
      "metadata": {
        "id": "RniXcg-mJN8v"
      },
      "source": [
        "kaggle_data = pd.read_csv('/content/dkmacovid_kaggletest_features.csv')\n"
      ],
      "execution_count": null,
      "outputs": []
    },
    {
      "cell_type": "code",
      "metadata": {
        "colab": {
          "base_uri": "https://localhost:8080/",
          "height": 274
        },
        "id": "Mbt0K74_JkGt",
        "outputId": "871807db-d6d8-4d1f-c210-a152acbd63bf"
      },
      "source": [
        "kaggle_data.head()"
      ],
      "execution_count": null,
      "outputs": [
        {
          "output_type": "execute_result",
          "data": {
            "text/html": [
              "<div>\n",
              "<style scoped>\n",
              "    .dataframe tbody tr th:only-of-type {\n",
              "        vertical-align: middle;\n",
              "    }\n",
              "\n",
              "    .dataframe tbody tr th {\n",
              "        vertical-align: top;\n",
              "    }\n",
              "\n",
              "    .dataframe thead th {\n",
              "        text-align: right;\n",
              "    }\n",
              "</style>\n",
              "<table border=\"1\" class=\"dataframe\">\n",
              "  <thead>\n",
              "    <tr style=\"text-align: right;\">\n",
              "      <th></th>\n",
              "      <th>Id</th>\n",
              "      <th>Day</th>\n",
              "      <th>State ID</th>\n",
              "      <th>State</th>\n",
              "      <th>Lat</th>\n",
              "      <th>Long_</th>\n",
              "      <th>Active</th>\n",
              "      <th>Incident_Rate</th>\n",
              "      <th>Total_Test_Results</th>\n",
              "      <th>Case_Fatality_Ratio</th>\n",
              "      <th>Testing_Rate</th>\n",
              "      <th>Resident Population 2020 Census</th>\n",
              "      <th>Population Density 2020 Census</th>\n",
              "      <th>Density Rank 2020 Census</th>\n",
              "      <th>SexRatio</th>\n",
              "    </tr>\n",
              "  </thead>\n",
              "  <tbody>\n",
              "    <tr>\n",
              "      <th>0</th>\n",
              "      <td>0</td>\n",
              "      <td>2</td>\n",
              "      <td>14</td>\n",
              "      <td>Illinois</td>\n",
              "      <td>40.3495</td>\n",
              "      <td>-88.9861</td>\n",
              "      <td>957138</td>\n",
              "      <td>7697.015291</td>\n",
              "      <td>13436652</td>\n",
              "      <td>1.867428</td>\n",
              "      <td>106035.6834</td>\n",
              "      <td>12,812,508</td>\n",
              "      <td>230.8</td>\n",
              "      <td>14</td>\n",
              "      <td>97</td>\n",
              "    </tr>\n",
              "    <tr>\n",
              "      <th>1</th>\n",
              "      <td>5</td>\n",
              "      <td>3</td>\n",
              "      <td>14</td>\n",
              "      <td>Illinois</td>\n",
              "      <td>40.3495</td>\n",
              "      <td>-88.9861</td>\n",
              "      <td>961499</td>\n",
              "      <td>7732.282519</td>\n",
              "      <td>13482117</td>\n",
              "      <td>1.869933</td>\n",
              "      <td>106394.4716</td>\n",
              "      <td>12,812,508</td>\n",
              "      <td>230.8</td>\n",
              "      <td>14</td>\n",
              "      <td>97</td>\n",
              "    </tr>\n",
              "    <tr>\n",
              "      <th>2</th>\n",
              "      <td>10</td>\n",
              "      <td>4</td>\n",
              "      <td>14</td>\n",
              "      <td>Illinois</td>\n",
              "      <td>40.3495</td>\n",
              "      <td>-88.9861</td>\n",
              "      <td>966468</td>\n",
              "      <td>7772.205747</td>\n",
              "      <td>13530371</td>\n",
              "      <td>1.869466</td>\n",
              "      <td>106775.2693</td>\n",
              "      <td>12,812,508</td>\n",
              "      <td>230.8</td>\n",
              "      <td>14</td>\n",
              "      <td>97</td>\n",
              "    </tr>\n",
              "    <tr>\n",
              "      <th>3</th>\n",
              "      <td>15</td>\n",
              "      <td>5</td>\n",
              "      <td>14</td>\n",
              "      <td>Illinois</td>\n",
              "      <td>40.3495</td>\n",
              "      <td>-88.9861</td>\n",
              "      <td>973157</td>\n",
              "      <td>7826.175891</td>\n",
              "      <td>13617454</td>\n",
              "      <td>1.871700</td>\n",
              "      <td>107462.4870</td>\n",
              "      <td>12,812,508</td>\n",
              "      <td>230.8</td>\n",
              "      <td>14</td>\n",
              "      <td>97</td>\n",
              "    </tr>\n",
              "    <tr>\n",
              "      <th>4</th>\n",
              "      <td>20</td>\n",
              "      <td>6</td>\n",
              "      <td>14</td>\n",
              "      <td>Illinois</td>\n",
              "      <td>40.3495</td>\n",
              "      <td>-88.9861</td>\n",
              "      <td>980553</td>\n",
              "      <td>7885.906848</td>\n",
              "      <td>13698428</td>\n",
              "      <td>1.874835</td>\n",
              "      <td>108101.4954</td>\n",
              "      <td>12,812,508</td>\n",
              "      <td>230.8</td>\n",
              "      <td>14</td>\n",
              "      <td>97</td>\n",
              "    </tr>\n",
              "  </tbody>\n",
              "</table>\n",
              "</div>"
            ],
            "text/plain": [
              "   Id  Day  ...  Density Rank 2020 Census SexRatio\n",
              "0   0    2  ...                        14       97\n",
              "1   5    3  ...                        14       97\n",
              "2  10    4  ...                        14       97\n",
              "3  15    5  ...                        14       97\n",
              "4  20    6  ...                        14       97\n",
              "\n",
              "[5 rows x 15 columns]"
            ]
          },
          "metadata": {
            "tags": []
          },
          "execution_count": 413
        }
      ]
    },
    {
      "cell_type": "code",
      "metadata": {
        "colab": {
          "base_uri": "https://localhost:8080/"
        },
        "id": "Zqdy9qpuKK4f",
        "outputId": "22335028-65c6-4f5c-94af-46deebbdcdb4"
      },
      "source": [
        "kaggle_data.isnull().sum()"
      ],
      "execution_count": null,
      "outputs": [
        {
          "output_type": "execute_result",
          "data": {
            "text/plain": [
              "Id                                 0\n",
              "Day                                0\n",
              "State ID                           0\n",
              "State                              0\n",
              "Lat                                0\n",
              "Long_                              0\n",
              "Active                             0\n",
              "Incident_Rate                      0\n",
              "Total_Test_Results                 0\n",
              "Case_Fatality_Ratio                0\n",
              "Testing_Rate                       0\n",
              "Resident Population 2020 Census    0\n",
              "Population Density 2020 Census     0\n",
              "Density Rank 2020 Census           0\n",
              "SexRatio                           0\n",
              "dtype: int64"
            ]
          },
          "metadata": {
            "tags": []
          },
          "execution_count": 414
        }
      ]
    },
    {
      "cell_type": "markdown",
      "metadata": {
        "id": "3q32bKGnKSqM"
      },
      "source": [
        "There are no missing values in this too"
      ]
    },
    {
      "cell_type": "code",
      "metadata": {
        "colab": {
          "base_uri": "https://localhost:8080/",
          "height": 366
        },
        "id": "sfld0s2QOPwc",
        "outputId": "7029cb23-ca29-4142-c8b0-3328000740c9"
      },
      "source": [
        "kaggle_data.describe()"
      ],
      "execution_count": null,
      "outputs": [
        {
          "output_type": "execute_result",
          "data": {
            "text/html": [
              "<div>\n",
              "<style scoped>\n",
              "    .dataframe tbody tr th:only-of-type {\n",
              "        vertical-align: middle;\n",
              "    }\n",
              "\n",
              "    .dataframe tbody tr th {\n",
              "        vertical-align: top;\n",
              "    }\n",
              "\n",
              "    .dataframe thead th {\n",
              "        text-align: right;\n",
              "    }\n",
              "</style>\n",
              "<table border=\"1\" class=\"dataframe\">\n",
              "  <thead>\n",
              "    <tr style=\"text-align: right;\">\n",
              "      <th></th>\n",
              "      <th>Id</th>\n",
              "      <th>Day</th>\n",
              "      <th>State ID</th>\n",
              "      <th>Lat</th>\n",
              "      <th>Long_</th>\n",
              "      <th>Active</th>\n",
              "      <th>Incident_Rate</th>\n",
              "      <th>Total_Test_Results</th>\n",
              "      <th>Case_Fatality_Ratio</th>\n",
              "      <th>Testing_Rate</th>\n",
              "      <th>Population Density 2020 Census</th>\n",
              "      <th>Density Rank 2020 Census</th>\n",
              "      <th>SexRatio</th>\n",
              "    </tr>\n",
              "  </thead>\n",
              "  <tbody>\n",
              "    <tr>\n",
              "      <th>count</th>\n",
              "      <td>150.000000</td>\n",
              "      <td>150.000000</td>\n",
              "      <td>150.000000</td>\n",
              "      <td>150.000000</td>\n",
              "      <td>150.000000</td>\n",
              "      <td>1.500000e+02</td>\n",
              "      <td>150.000000</td>\n",
              "      <td>1.500000e+02</td>\n",
              "      <td>150.000000</td>\n",
              "      <td>150.000000</td>\n",
              "      <td>150.000000</td>\n",
              "      <td>150.000000</td>\n",
              "      <td>150.000000</td>\n",
              "    </tr>\n",
              "    <tr>\n",
              "      <th>mean</th>\n",
              "      <td>74.500000</td>\n",
              "      <td>16.500000</td>\n",
              "      <td>33.000000</td>\n",
              "      <td>39.312840</td>\n",
              "      <td>-97.588580</td>\n",
              "      <td>3.609323e+05</td>\n",
              "      <td>7775.700177</td>\n",
              "      <td>8.362489e+06</td>\n",
              "      <td>1.487583</td>\n",
              "      <td>70500.154408</td>\n",
              "      <td>136.600000</td>\n",
              "      <td>24.800000</td>\n",
              "      <td>98.000000</td>\n",
              "    </tr>\n",
              "    <tr>\n",
              "      <th>std</th>\n",
              "      <td>43.445368</td>\n",
              "      <td>8.684438</td>\n",
              "      <td>14.855004</td>\n",
              "      <td>5.580716</td>\n",
              "      <td>12.557531</td>\n",
              "      <td>3.669136e+05</td>\n",
              "      <td>2277.110150</td>\n",
              "      <td>5.821601e+06</td>\n",
              "      <td>0.221819</td>\n",
              "      <td>28462.514113</td>\n",
              "      <td>58.862335</td>\n",
              "      <td>7.782272</td>\n",
              "      <td>1.794847</td>\n",
              "    </tr>\n",
              "    <tr>\n",
              "      <th>min</th>\n",
              "      <td>0.000000</td>\n",
              "      <td>2.000000</td>\n",
              "      <td>14.000000</td>\n",
              "      <td>31.054500</td>\n",
              "      <td>-121.490500</td>\n",
              "      <td>3.218300e+04</td>\n",
              "      <td>3240.386963</td>\n",
              "      <td>1.175920e+06</td>\n",
              "      <td>1.153721</td>\n",
              "      <td>37270.805400</td>\n",
              "      <td>57.100000</td>\n",
              "      <td>14.000000</td>\n",
              "      <td>95.000000</td>\n",
              "    </tr>\n",
              "    <tr>\n",
              "      <th>25%</th>\n",
              "      <td>37.250000</td>\n",
              "      <td>9.000000</td>\n",
              "      <td>16.000000</td>\n",
              "      <td>35.747800</td>\n",
              "      <td>-97.563500</td>\n",
              "      <td>4.558575e+04</td>\n",
              "      <td>6745.728816</td>\n",
              "      <td>4.016032e+06</td>\n",
              "      <td>1.360612</td>\n",
              "      <td>50385.737530</td>\n",
              "      <td>111.600000</td>\n",
              "      <td>22.000000</td>\n",
              "      <td>97.000000</td>\n",
              "    </tr>\n",
              "    <tr>\n",
              "      <th>50%</th>\n",
              "      <td>74.500000</td>\n",
              "      <td>16.500000</td>\n",
              "      <td>43.000000</td>\n",
              "      <td>40.349500</td>\n",
              "      <td>-93.210500</td>\n",
              "      <td>2.840515e+05</td>\n",
              "      <td>8418.269166</td>\n",
              "      <td>6.112604e+06</td>\n",
              "      <td>1.411763</td>\n",
              "      <td>57236.909720</td>\n",
              "      <td>115.900000</td>\n",
              "      <td>24.000000</td>\n",
              "      <td>99.000000</td>\n",
              "    </tr>\n",
              "    <tr>\n",
              "      <th>75%</th>\n",
              "      <td>111.750000</td>\n",
              "      <td>24.000000</td>\n",
              "      <td>44.000000</td>\n",
              "      <td>42.011500</td>\n",
              "      <td>-88.986100</td>\n",
              "      <td>4.099355e+05</td>\n",
              "      <td>9617.127621</td>\n",
              "      <td>1.466381e+07</td>\n",
              "      <td>1.553478</td>\n",
              "      <td>91999.757215</td>\n",
              "      <td>167.600000</td>\n",
              "      <td>26.000000</td>\n",
              "      <td>99.000000</td>\n",
              "    </tr>\n",
              "    <tr>\n",
              "      <th>max</th>\n",
              "      <td>149.000000</td>\n",
              "      <td>31.000000</td>\n",
              "      <td>48.000000</td>\n",
              "      <td>47.400900</td>\n",
              "      <td>-86.692300</td>\n",
              "      <td>1.105048e+06</td>\n",
              "      <td>10658.111800</td>\n",
              "      <td>1.739912e+07</td>\n",
              "      <td>1.887632</td>\n",
              "      <td>126574.483700</td>\n",
              "      <td>230.800000</td>\n",
              "      <td>38.000000</td>\n",
              "      <td>100.000000</td>\n",
              "    </tr>\n",
              "  </tbody>\n",
              "</table>\n",
              "</div>"
            ],
            "text/plain": [
              "               Id         Day  ...  Density Rank 2020 Census    SexRatio\n",
              "count  150.000000  150.000000  ...                150.000000  150.000000\n",
              "mean    74.500000   16.500000  ...                 24.800000   98.000000\n",
              "std     43.445368    8.684438  ...                  7.782272    1.794847\n",
              "min      0.000000    2.000000  ...                 14.000000   95.000000\n",
              "25%     37.250000    9.000000  ...                 22.000000   97.000000\n",
              "50%     74.500000   16.500000  ...                 24.000000   99.000000\n",
              "75%    111.750000   24.000000  ...                 26.000000   99.000000\n",
              "max    149.000000   31.000000  ...                 38.000000  100.000000\n",
              "\n",
              "[8 rows x 13 columns]"
            ]
          },
          "metadata": {
            "tags": []
          },
          "execution_count": 415
        }
      ]
    },
    {
      "cell_type": "code",
      "metadata": {
        "id": "LFMx2ApVgcJj"
      },
      "source": [
        "kaggle_data['Resident Population 2020 Census']=kaggle_data['Resident Population 2020 Census'].str.replace(',','')\n",
        "kaggle_data[\"Resident Population 2020 Census\"] = kaggle_data[\"Resident Population 2020 Census\"].astype(\"float\")"
      ],
      "execution_count": null,
      "outputs": []
    },
    {
      "cell_type": "code",
      "metadata": {
        "id": "l6XjIcKiRXJ3"
      },
      "source": [
        "kaggle_data.drop(columns=['State'], axis=1, inplace=True)"
      ],
      "execution_count": null,
      "outputs": []
    },
    {
      "cell_type": "code",
      "metadata": {
        "colab": {
          "base_uri": "https://localhost:8080/",
          "height": 487
        },
        "id": "2oQ55DCxWzIV",
        "outputId": "255f4b6b-92cb-4d2c-95d7-8298a561ebdb"
      },
      "source": [
        "kaggle_data"
      ],
      "execution_count": null,
      "outputs": [
        {
          "output_type": "execute_result",
          "data": {
            "text/html": [
              "<div>\n",
              "<style scoped>\n",
              "    .dataframe tbody tr th:only-of-type {\n",
              "        vertical-align: middle;\n",
              "    }\n",
              "\n",
              "    .dataframe tbody tr th {\n",
              "        vertical-align: top;\n",
              "    }\n",
              "\n",
              "    .dataframe thead th {\n",
              "        text-align: right;\n",
              "    }\n",
              "</style>\n",
              "<table border=\"1\" class=\"dataframe\">\n",
              "  <thead>\n",
              "    <tr style=\"text-align: right;\">\n",
              "      <th></th>\n",
              "      <th>Id</th>\n",
              "      <th>Day</th>\n",
              "      <th>State ID</th>\n",
              "      <th>Lat</th>\n",
              "      <th>Long_</th>\n",
              "      <th>Active</th>\n",
              "      <th>Incident_Rate</th>\n",
              "      <th>Total_Test_Results</th>\n",
              "      <th>Case_Fatality_Ratio</th>\n",
              "      <th>Testing_Rate</th>\n",
              "      <th>Resident Population 2020 Census</th>\n",
              "      <th>Population Density 2020 Census</th>\n",
              "      <th>Density Rank 2020 Census</th>\n",
              "      <th>SexRatio</th>\n",
              "    </tr>\n",
              "  </thead>\n",
              "  <tbody>\n",
              "    <tr>\n",
              "      <th>0</th>\n",
              "      <td>0</td>\n",
              "      <td>2</td>\n",
              "      <td>14</td>\n",
              "      <td>40.3495</td>\n",
              "      <td>-88.9861</td>\n",
              "      <td>957138</td>\n",
              "      <td>7697.015291</td>\n",
              "      <td>13436652</td>\n",
              "      <td>1.867428</td>\n",
              "      <td>106035.68340</td>\n",
              "      <td>12812508.0</td>\n",
              "      <td>230.8</td>\n",
              "      <td>14</td>\n",
              "      <td>97</td>\n",
              "    </tr>\n",
              "    <tr>\n",
              "      <th>1</th>\n",
              "      <td>5</td>\n",
              "      <td>3</td>\n",
              "      <td>14</td>\n",
              "      <td>40.3495</td>\n",
              "      <td>-88.9861</td>\n",
              "      <td>961499</td>\n",
              "      <td>7732.282519</td>\n",
              "      <td>13482117</td>\n",
              "      <td>1.869933</td>\n",
              "      <td>106394.47160</td>\n",
              "      <td>12812508.0</td>\n",
              "      <td>230.8</td>\n",
              "      <td>14</td>\n",
              "      <td>97</td>\n",
              "    </tr>\n",
              "    <tr>\n",
              "      <th>2</th>\n",
              "      <td>10</td>\n",
              "      <td>4</td>\n",
              "      <td>14</td>\n",
              "      <td>40.3495</td>\n",
              "      <td>-88.9861</td>\n",
              "      <td>966468</td>\n",
              "      <td>7772.205747</td>\n",
              "      <td>13530371</td>\n",
              "      <td>1.869466</td>\n",
              "      <td>106775.26930</td>\n",
              "      <td>12812508.0</td>\n",
              "      <td>230.8</td>\n",
              "      <td>14</td>\n",
              "      <td>97</td>\n",
              "    </tr>\n",
              "    <tr>\n",
              "      <th>3</th>\n",
              "      <td>15</td>\n",
              "      <td>5</td>\n",
              "      <td>14</td>\n",
              "      <td>40.3495</td>\n",
              "      <td>-88.9861</td>\n",
              "      <td>973157</td>\n",
              "      <td>7826.175891</td>\n",
              "      <td>13617454</td>\n",
              "      <td>1.871700</td>\n",
              "      <td>107462.48700</td>\n",
              "      <td>12812508.0</td>\n",
              "      <td>230.8</td>\n",
              "      <td>14</td>\n",
              "      <td>97</td>\n",
              "    </tr>\n",
              "    <tr>\n",
              "      <th>4</th>\n",
              "      <td>20</td>\n",
              "      <td>6</td>\n",
              "      <td>14</td>\n",
              "      <td>40.3495</td>\n",
              "      <td>-88.9861</td>\n",
              "      <td>980553</td>\n",
              "      <td>7885.906848</td>\n",
              "      <td>13698428</td>\n",
              "      <td>1.874835</td>\n",
              "      <td>108101.49540</td>\n",
              "      <td>12812508.0</td>\n",
              "      <td>230.8</td>\n",
              "      <td>14</td>\n",
              "      <td>97</td>\n",
              "    </tr>\n",
              "    <tr>\n",
              "      <th>...</th>\n",
              "      <td>...</td>\n",
              "      <td>...</td>\n",
              "      <td>...</td>\n",
              "      <td>...</td>\n",
              "      <td>...</td>\n",
              "      <td>...</td>\n",
              "      <td>...</td>\n",
              "      <td>...</td>\n",
              "      <td>...</td>\n",
              "      <td>...</td>\n",
              "      <td>...</td>\n",
              "      <td>...</td>\n",
              "      <td>...</td>\n",
              "      <td>...</td>\n",
              "    </tr>\n",
              "    <tr>\n",
              "      <th>145</th>\n",
              "      <td>129</td>\n",
              "      <td>27</td>\n",
              "      <td>48</td>\n",
              "      <td>47.4009</td>\n",
              "      <td>-121.4905</td>\n",
              "      <td>301078</td>\n",
              "      <td>4009.104264</td>\n",
              "      <td>4446844</td>\n",
              "      <td>1.379349</td>\n",
              "      <td>58396.67084</td>\n",
              "      <td>7705281.0</td>\n",
              "      <td>115.9</td>\n",
              "      <td>24</td>\n",
              "      <td>100</td>\n",
              "    </tr>\n",
              "    <tr>\n",
              "      <th>146</th>\n",
              "      <td>134</td>\n",
              "      <td>28</td>\n",
              "      <td>48</td>\n",
              "      <td>47.4009</td>\n",
              "      <td>-121.4905</td>\n",
              "      <td>303566</td>\n",
              "      <td>4042.197310</td>\n",
              "      <td>4470215</td>\n",
              "      <td>1.378452</td>\n",
              "      <td>58703.58257</td>\n",
              "      <td>7705281.0</td>\n",
              "      <td>115.9</td>\n",
              "      <td>24</td>\n",
              "      <td>100</td>\n",
              "    </tr>\n",
              "    <tr>\n",
              "      <th>147</th>\n",
              "      <td>139</td>\n",
              "      <td>29</td>\n",
              "      <td>48</td>\n",
              "      <td>47.4009</td>\n",
              "      <td>-121.4905</td>\n",
              "      <td>305516</td>\n",
              "      <td>4068.356574</td>\n",
              "      <td>4495463</td>\n",
              "      <td>1.383146</td>\n",
              "      <td>59035.14337</td>\n",
              "      <td>7705281.0</td>\n",
              "      <td>115.9</td>\n",
              "      <td>24</td>\n",
              "      <td>100</td>\n",
              "    </tr>\n",
              "    <tr>\n",
              "      <th>148</th>\n",
              "      <td>144</td>\n",
              "      <td>30</td>\n",
              "      <td>48</td>\n",
              "      <td>47.4009</td>\n",
              "      <td>-121.4905</td>\n",
              "      <td>307312</td>\n",
              "      <td>4091.941935</td>\n",
              "      <td>4524221</td>\n",
              "      <td>1.375174</td>\n",
              "      <td>59412.79805</td>\n",
              "      <td>7705281.0</td>\n",
              "      <td>115.9</td>\n",
              "      <td>24</td>\n",
              "      <td>100</td>\n",
              "    </tr>\n",
              "    <tr>\n",
              "      <th>149</th>\n",
              "      <td>149</td>\n",
              "      <td>31</td>\n",
              "      <td>48</td>\n",
              "      <td>47.4009</td>\n",
              "      <td>-121.4905</td>\n",
              "      <td>307312</td>\n",
              "      <td>4091.941935</td>\n",
              "      <td>4548239</td>\n",
              "      <td>1.375174</td>\n",
              "      <td>59728.20629</td>\n",
              "      <td>7705281.0</td>\n",
              "      <td>115.9</td>\n",
              "      <td>24</td>\n",
              "      <td>100</td>\n",
              "    </tr>\n",
              "  </tbody>\n",
              "</table>\n",
              "<p>150 rows × 14 columns</p>\n",
              "</div>"
            ],
            "text/plain": [
              "      Id  Day  ...  Density Rank 2020 Census  SexRatio\n",
              "0      0    2  ...                        14        97\n",
              "1      5    3  ...                        14        97\n",
              "2     10    4  ...                        14        97\n",
              "3     15    5  ...                        14        97\n",
              "4     20    6  ...                        14        97\n",
              "..   ...  ...  ...                       ...       ...\n",
              "145  129   27  ...                        24       100\n",
              "146  134   28  ...                        24       100\n",
              "147  139   29  ...                        24       100\n",
              "148  144   30  ...                        24       100\n",
              "149  149   31  ...                        24       100\n",
              "\n",
              "[150 rows x 14 columns]"
            ]
          },
          "metadata": {
            "tags": []
          },
          "execution_count": 418
        }
      ]
    },
    {
      "cell_type": "code",
      "metadata": {
        "id": "VS3pRCt6KFUO"
      },
      "source": [
        "#Normalizing the data \n",
        "kaggle_data_zscore_norm = ((kaggle_data.iloc[:, 1:]-kaggle_data.iloc[:, 1:].mean())/kaggle_data.iloc[:, 1:].std())"
      ],
      "execution_count": null,
      "outputs": []
    },
    {
      "cell_type": "code",
      "metadata": {
        "id": "5A89FSLCToM0"
      },
      "source": [
        "kaggle_data_zscore_norm[\"Id\"] = kaggle_data[\"Id\"]"
      ],
      "execution_count": null,
      "outputs": []
    },
    {
      "cell_type": "code",
      "metadata": {
        "id": "z14yVCDge_DL"
      },
      "source": [
        "kaggle_data_zscore_norm = kaggle_data_zscore_norm[['Day','Id',\t'Lat',\t'Long_',\t'Active',\t'Incident_Rate'\t,'Total_Test_Results','Case_Fatality_Ratio'\t,'Testing_Rate',\t'Resident Population 2020 Census',\t'Population Density 2020 Census',\t'Density Rank 2020 Census',\t'SexRatio']]"
      ],
      "execution_count": null,
      "outputs": []
    },
    {
      "cell_type": "code",
      "metadata": {
        "colab": {
          "base_uri": "https://localhost:8080/",
          "height": 487
        },
        "id": "scVMw42yf-5o",
        "outputId": "79d3a143-ec98-42b4-ca86-9ebf3d0abb3c"
      },
      "source": [
        "kaggle_data_zscore_norm"
      ],
      "execution_count": null,
      "outputs": [
        {
          "output_type": "execute_result",
          "data": {
            "text/html": [
              "<div>\n",
              "<style scoped>\n",
              "    .dataframe tbody tr th:only-of-type {\n",
              "        vertical-align: middle;\n",
              "    }\n",
              "\n",
              "    .dataframe tbody tr th {\n",
              "        vertical-align: top;\n",
              "    }\n",
              "\n",
              "    .dataframe thead th {\n",
              "        text-align: right;\n",
              "    }\n",
              "</style>\n",
              "<table border=\"1\" class=\"dataframe\">\n",
              "  <thead>\n",
              "    <tr style=\"text-align: right;\">\n",
              "      <th></th>\n",
              "      <th>Day</th>\n",
              "      <th>Id</th>\n",
              "      <th>Lat</th>\n",
              "      <th>Long_</th>\n",
              "      <th>Active</th>\n",
              "      <th>Incident_Rate</th>\n",
              "      <th>Total_Test_Results</th>\n",
              "      <th>Case_Fatality_Ratio</th>\n",
              "      <th>Testing_Rate</th>\n",
              "      <th>Resident Population 2020 Census</th>\n",
              "      <th>Population Density 2020 Census</th>\n",
              "      <th>Density Rank 2020 Census</th>\n",
              "      <th>SexRatio</th>\n",
              "    </tr>\n",
              "  </thead>\n",
              "  <tbody>\n",
              "    <tr>\n",
              "      <th>0</th>\n",
              "      <td>-1.669653</td>\n",
              "      <td>0</td>\n",
              "      <td>0.185758</td>\n",
              "      <td>0.685045</td>\n",
              "      <td>1.624921</td>\n",
              "      <td>-0.034555</td>\n",
              "      <td>0.871610</td>\n",
              "      <td>1.712406</td>\n",
              "      <td>1.248503</td>\n",
              "      <td>0.093862</td>\n",
              "      <td>1.600344</td>\n",
              "      <td>-1.387770</td>\n",
              "      <td>-0.557150</td>\n",
              "    </tr>\n",
              "    <tr>\n",
              "      <th>1</th>\n",
              "      <td>-1.554505</td>\n",
              "      <td>5</td>\n",
              "      <td>0.185758</td>\n",
              "      <td>0.685045</td>\n",
              "      <td>1.636807</td>\n",
              "      <td>-0.019067</td>\n",
              "      <td>0.879419</td>\n",
              "      <td>1.723699</td>\n",
              "      <td>1.261108</td>\n",
              "      <td>0.093862</td>\n",
              "      <td>1.600344</td>\n",
              "      <td>-1.387770</td>\n",
              "      <td>-0.557150</td>\n",
              "    </tr>\n",
              "    <tr>\n",
              "      <th>2</th>\n",
              "      <td>-1.439356</td>\n",
              "      <td>10</td>\n",
              "      <td>0.185758</td>\n",
              "      <td>0.685045</td>\n",
              "      <td>1.650350</td>\n",
              "      <td>-0.001535</td>\n",
              "      <td>0.887708</td>\n",
              "      <td>1.721594</td>\n",
              "      <td>1.274487</td>\n",
              "      <td>0.093862</td>\n",
              "      <td>1.600344</td>\n",
              "      <td>-1.387770</td>\n",
              "      <td>-0.557150</td>\n",
              "    </tr>\n",
              "    <tr>\n",
              "      <th>3</th>\n",
              "      <td>-1.324208</td>\n",
              "      <td>15</td>\n",
              "      <td>0.185758</td>\n",
              "      <td>0.685045</td>\n",
              "      <td>1.668580</td>\n",
              "      <td>0.022167</td>\n",
              "      <td>0.902667</td>\n",
              "      <td>1.731661</td>\n",
              "      <td>1.298632</td>\n",
              "      <td>0.093862</td>\n",
              "      <td>1.600344</td>\n",
              "      <td>-1.387770</td>\n",
              "      <td>-0.557150</td>\n",
              "    </tr>\n",
              "    <tr>\n",
              "      <th>4</th>\n",
              "      <td>-1.209059</td>\n",
              "      <td>20</td>\n",
              "      <td>0.185758</td>\n",
              "      <td>0.685045</td>\n",
              "      <td>1.688737</td>\n",
              "      <td>0.048398</td>\n",
              "      <td>0.916576</td>\n",
              "      <td>1.745796</td>\n",
              "      <td>1.321083</td>\n",
              "      <td>0.093862</td>\n",
              "      <td>1.600344</td>\n",
              "      <td>-1.387770</td>\n",
              "      <td>-0.557150</td>\n",
              "    </tr>\n",
              "    <tr>\n",
              "      <th>...</th>\n",
              "      <td>...</td>\n",
              "      <td>...</td>\n",
              "      <td>...</td>\n",
              "      <td>...</td>\n",
              "      <td>...</td>\n",
              "      <td>...</td>\n",
              "      <td>...</td>\n",
              "      <td>...</td>\n",
              "      <td>...</td>\n",
              "      <td>...</td>\n",
              "      <td>...</td>\n",
              "      <td>...</td>\n",
              "      <td>...</td>\n",
              "    </tr>\n",
              "    <tr>\n",
              "      <th>145</th>\n",
              "      <td>1.209059</td>\n",
              "      <td>129</td>\n",
              "      <td>1.449287</td>\n",
              "      <td>-1.903393</td>\n",
              "      <td>-0.163129</td>\n",
              "      <td>-1.654112</td>\n",
              "      <td>-0.672606</td>\n",
              "      <td>-0.487940</td>\n",
              "      <td>-0.425243</td>\n",
              "      <td>-0.463803</td>\n",
              "      <td>-0.351668</td>\n",
              "      <td>-0.102798</td>\n",
              "      <td>1.114301</td>\n",
              "    </tr>\n",
              "    <tr>\n",
              "      <th>146</th>\n",
              "      <td>1.324208</td>\n",
              "      <td>134</td>\n",
              "      <td>1.449287</td>\n",
              "      <td>-1.903393</td>\n",
              "      <td>-0.156348</td>\n",
              "      <td>-1.639579</td>\n",
              "      <td>-0.668592</td>\n",
              "      <td>-0.491981</td>\n",
              "      <td>-0.414460</td>\n",
              "      <td>-0.463803</td>\n",
              "      <td>-0.351668</td>\n",
              "      <td>-0.102798</td>\n",
              "      <td>1.114301</td>\n",
              "    </tr>\n",
              "    <tr>\n",
              "      <th>147</th>\n",
              "      <td>1.439356</td>\n",
              "      <td>139</td>\n",
              "      <td>1.449287</td>\n",
              "      <td>-1.903393</td>\n",
              "      <td>-0.151034</td>\n",
              "      <td>-1.628091</td>\n",
              "      <td>-0.664255</td>\n",
              "      <td>-0.470821</td>\n",
              "      <td>-0.402811</td>\n",
              "      <td>-0.463803</td>\n",
              "      <td>-0.351668</td>\n",
              "      <td>-0.102798</td>\n",
              "      <td>1.114301</td>\n",
              "    </tr>\n",
              "    <tr>\n",
              "      <th>148</th>\n",
              "      <td>1.554505</td>\n",
              "      <td>144</td>\n",
              "      <td>1.449287</td>\n",
              "      <td>-1.903393</td>\n",
              "      <td>-0.146139</td>\n",
              "      <td>-1.617734</td>\n",
              "      <td>-0.659315</td>\n",
              "      <td>-0.506762</td>\n",
              "      <td>-0.389542</td>\n",
              "      <td>-0.463803</td>\n",
              "      <td>-0.351668</td>\n",
              "      <td>-0.102798</td>\n",
              "      <td>1.114301</td>\n",
              "    </tr>\n",
              "    <tr>\n",
              "      <th>149</th>\n",
              "      <td>1.669653</td>\n",
              "      <td>149</td>\n",
              "      <td>1.449287</td>\n",
              "      <td>-1.903393</td>\n",
              "      <td>-0.146139</td>\n",
              "      <td>-1.617734</td>\n",
              "      <td>-0.655189</td>\n",
              "      <td>-0.506762</td>\n",
              "      <td>-0.378461</td>\n",
              "      <td>-0.463803</td>\n",
              "      <td>-0.351668</td>\n",
              "      <td>-0.102798</td>\n",
              "      <td>1.114301</td>\n",
              "    </tr>\n",
              "  </tbody>\n",
              "</table>\n",
              "<p>150 rows × 13 columns</p>\n",
              "</div>"
            ],
            "text/plain": [
              "          Day   Id  ...  Density Rank 2020 Census  SexRatio\n",
              "0   -1.669653    0  ...                 -1.387770 -0.557150\n",
              "1   -1.554505    5  ...                 -1.387770 -0.557150\n",
              "2   -1.439356   10  ...                 -1.387770 -0.557150\n",
              "3   -1.324208   15  ...                 -1.387770 -0.557150\n",
              "4   -1.209059   20  ...                 -1.387770 -0.557150\n",
              "..        ...  ...  ...                       ...       ...\n",
              "145  1.209059  129  ...                 -0.102798  1.114301\n",
              "146  1.324208  134  ...                 -0.102798  1.114301\n",
              "147  1.439356  139  ...                 -0.102798  1.114301\n",
              "148  1.554505  144  ...                 -0.102798  1.114301\n",
              "149  1.669653  149  ...                 -0.102798  1.114301\n",
              "\n",
              "[150 rows x 13 columns]"
            ]
          },
          "metadata": {
            "tags": []
          },
          "execution_count": 422
        }
      ]
    },
    {
      "cell_type": "code",
      "metadata": {
        "id": "G0D7Nn5fz2iu"
      },
      "source": [
        "pca = PCA(n_components=4)\n",
        "principal_components = pca.fit_transform(kaggle_data_zscore_norm[[\"Lat\", \"Long_\", \"SexRatio\", \"Resident Population 2020 Census\", \"Population Density 2020 Census\", \"Density Rank 2020 Census\"]])"
      ],
      "execution_count": null,
      "outputs": []
    },
    {
      "cell_type": "code",
      "metadata": {
        "colab": {
          "base_uri": "https://localhost:8080/",
          "height": 203
        },
        "id": "QPTDo1QT2AXN",
        "outputId": "b201f27c-edd0-42b2-e4c4-cdc12ce5369b"
      },
      "source": [
        "kaggle_data_pca = pd.DataFrame(kaggle_data_zscore_norm)\n",
        "kaggle_data_pca.drop(columns=[\"Lat\", \"Long_\", \"SexRatio\", \"Resident Population 2020 Census\", \"Population Density 2020 Census\", \"Density Rank 2020 Census\"], inplace=True)\n",
        "kaggle_data_pca[\"PC1\"] = principal_components[:, 0]\n",
        "kaggle_data_pca[\"PC2\"] = principal_components[:, 1]\n",
        "kaggle_data_pca[\"PC3\"] = principal_components[:, 2]\n",
        "kaggle_data_pca[\"PC4\"] = principal_components[:, 3]\n",
        "#We have to change the order of the column as we want our target column to appear at the end.\n",
        "kaggle_data_pca = kaggle_data_pca[['Day', 'Id', 'Active', 'Incident_Rate', 'Total_Test_Results',\n",
        "       'Case_Fatality_Ratio', 'Testing_Rate', 'PC1', 'PC2', 'PC3', 'PC4']]\n",
        "#our final dataset after the PCA is:\n",
        "kaggle_data_pca.head()"
      ],
      "execution_count": null,
      "outputs": [
        {
          "output_type": "execute_result",
          "data": {
            "text/html": [
              "<div>\n",
              "<style scoped>\n",
              "    .dataframe tbody tr th:only-of-type {\n",
              "        vertical-align: middle;\n",
              "    }\n",
              "\n",
              "    .dataframe tbody tr th {\n",
              "        vertical-align: top;\n",
              "    }\n",
              "\n",
              "    .dataframe thead th {\n",
              "        text-align: right;\n",
              "    }\n",
              "</style>\n",
              "<table border=\"1\" class=\"dataframe\">\n",
              "  <thead>\n",
              "    <tr style=\"text-align: right;\">\n",
              "      <th></th>\n",
              "      <th>Day</th>\n",
              "      <th>Id</th>\n",
              "      <th>Active</th>\n",
              "      <th>Incident_Rate</th>\n",
              "      <th>Total_Test_Results</th>\n",
              "      <th>Case_Fatality_Ratio</th>\n",
              "      <th>Testing_Rate</th>\n",
              "      <th>PC1</th>\n",
              "      <th>PC2</th>\n",
              "      <th>PC3</th>\n",
              "      <th>PC4</th>\n",
              "    </tr>\n",
              "  </thead>\n",
              "  <tbody>\n",
              "    <tr>\n",
              "      <th>0</th>\n",
              "      <td>-1.669653</td>\n",
              "      <td>0</td>\n",
              "      <td>1.624921</td>\n",
              "      <td>-0.034555</td>\n",
              "      <td>0.871610</td>\n",
              "      <td>1.712406</td>\n",
              "      <td>1.248503</td>\n",
              "      <td>-1.885007</td>\n",
              "      <td>-1.070875</td>\n",
              "      <td>-0.555358</td>\n",
              "      <td>-0.549163</td>\n",
              "    </tr>\n",
              "    <tr>\n",
              "      <th>1</th>\n",
              "      <td>-1.554505</td>\n",
              "      <td>5</td>\n",
              "      <td>1.636807</td>\n",
              "      <td>-0.019067</td>\n",
              "      <td>0.879419</td>\n",
              "      <td>1.723699</td>\n",
              "      <td>1.261108</td>\n",
              "      <td>-1.885007</td>\n",
              "      <td>-1.070875</td>\n",
              "      <td>-0.555358</td>\n",
              "      <td>-0.549163</td>\n",
              "    </tr>\n",
              "    <tr>\n",
              "      <th>2</th>\n",
              "      <td>-1.439356</td>\n",
              "      <td>10</td>\n",
              "      <td>1.650350</td>\n",
              "      <td>-0.001535</td>\n",
              "      <td>0.887708</td>\n",
              "      <td>1.721594</td>\n",
              "      <td>1.274487</td>\n",
              "      <td>-1.885007</td>\n",
              "      <td>-1.070875</td>\n",
              "      <td>-0.555358</td>\n",
              "      <td>-0.549163</td>\n",
              "    </tr>\n",
              "    <tr>\n",
              "      <th>3</th>\n",
              "      <td>-1.324208</td>\n",
              "      <td>15</td>\n",
              "      <td>1.668580</td>\n",
              "      <td>0.022167</td>\n",
              "      <td>0.902667</td>\n",
              "      <td>1.731661</td>\n",
              "      <td>1.298632</td>\n",
              "      <td>-1.885007</td>\n",
              "      <td>-1.070875</td>\n",
              "      <td>-0.555358</td>\n",
              "      <td>-0.549163</td>\n",
              "    </tr>\n",
              "    <tr>\n",
              "      <th>4</th>\n",
              "      <td>-1.209059</td>\n",
              "      <td>20</td>\n",
              "      <td>1.688737</td>\n",
              "      <td>0.048398</td>\n",
              "      <td>0.916576</td>\n",
              "      <td>1.745796</td>\n",
              "      <td>1.321083</td>\n",
              "      <td>-1.885007</td>\n",
              "      <td>-1.070875</td>\n",
              "      <td>-0.555358</td>\n",
              "      <td>-0.549163</td>\n",
              "    </tr>\n",
              "  </tbody>\n",
              "</table>\n",
              "</div>"
            ],
            "text/plain": [
              "        Day  Id    Active  ...       PC2       PC3       PC4\n",
              "0 -1.669653   0  1.624921  ... -1.070875 -0.555358 -0.549163\n",
              "1 -1.554505   5  1.636807  ... -1.070875 -0.555358 -0.549163\n",
              "2 -1.439356  10  1.650350  ... -1.070875 -0.555358 -0.549163\n",
              "3 -1.324208  15  1.668580  ... -1.070875 -0.555358 -0.549163\n",
              "4 -1.209059  20  1.688737  ... -1.070875 -0.555358 -0.549163\n",
              "\n",
              "[5 rows x 11 columns]"
            ]
          },
          "metadata": {
            "tags": []
          },
          "execution_count": 424
        }
      ]
    },
    {
      "cell_type": "code",
      "metadata": {
        "id": "wh11wdnV51so"
      },
      "source": [
        "confirmed = []\n",
        "deaths = []\n",
        "recovered = []"
      ],
      "execution_count": null,
      "outputs": []
    },
    {
      "cell_type": "code",
      "metadata": {
        "id": "6qFXHyAggoBy"
      },
      "source": [
        "gradient_boosting_model_confirmed = GradientBoostingClassifier(n_estimators=5)\n",
        "gradient_boosting_model_confirmed.fit(x, Y_confirmed)\n",
        "pred = gradient_boosting_model_confirmed.predict(kaggle_data_pca)\n",
        "pred\n",
        "\n",
        "confirmed = pred.astype(int)"
      ],
      "execution_count": null,
      "outputs": []
    },
    {
      "cell_type": "code",
      "metadata": {
        "id": "pH8-1pgBjxSb"
      },
      "source": [
        "gradient_boosting_model_deaths = GradientBoostingClassifier(n_estimators=10)\n",
        "gradient_boosting_model_deaths.fit(x, Y_deaths)\n",
        "pred = gradient_boosting_model_deaths.predict(kaggle_data_pca)\n",
        "pred\n",
        "\n",
        "deaths = pred.astype(int)"
      ],
      "execution_count": null,
      "outputs": []
    },
    {
      "cell_type": "code",
      "metadata": {
        "id": "W0Z9mFs_l-R4"
      },
      "source": [],
      "execution_count": null,
      "outputs": []
    },
    {
      "cell_type": "code",
      "metadata": {
        "id": "I5vjq6jqkP4f"
      },
      "source": [
        "gradient_boosting_model_recovered = GradientBoostingClassifier(n_estimators=50)\n",
        "gradient_boosting_model_recovered.fit(x, Y_recovered)\n",
        "pred = gradient_boosting_model_recovered.predict(kaggle_data_pca)\n",
        "pred\n",
        "\n",
        "recovered = pred.astype(int)"
      ],
      "execution_count": null,
      "outputs": []
    },
    {
      "cell_type": "code",
      "metadata": {
        "colab": {
          "base_uri": "https://localhost:8080/",
          "height": 203
        },
        "id": "pI9k8GgyoH1z",
        "outputId": "ffb309d1-4a2b-44c3-ff7b-8232e6c81728"
      },
      "source": [
        "final_result = pd.DataFrame(kaggle_data)\n",
        "final_result.drop(columns=['Day', 'State ID', 'Lat', 'Long_', 'Active', 'Incident_Rate','Total_Test_Results', \n",
        "                           'Case_Fatality_Ratio', 'Testing_Rate','Resident Population 2020 Census', 'Population Density 2020 Census','Density Rank 2020 Census', 'SexRatio'], inplace=True, axis=1)\n",
        "final_result['confirmed'] = confirmed\n",
        "final_result['deaths'] = deaths\n",
        "final_result['recovered'] = recovered\n",
        "final_result.head()"
      ],
      "execution_count": null,
      "outputs": [
        {
          "output_type": "execute_result",
          "data": {
            "text/html": [
              "<div>\n",
              "<style scoped>\n",
              "    .dataframe tbody tr th:only-of-type {\n",
              "        vertical-align: middle;\n",
              "    }\n",
              "\n",
              "    .dataframe tbody tr th {\n",
              "        vertical-align: top;\n",
              "    }\n",
              "\n",
              "    .dataframe thead th {\n",
              "        text-align: right;\n",
              "    }\n",
              "</style>\n",
              "<table border=\"1\" class=\"dataframe\">\n",
              "  <thead>\n",
              "    <tr style=\"text-align: right;\">\n",
              "      <th></th>\n",
              "      <th>Id</th>\n",
              "      <th>confirmed</th>\n",
              "      <th>deaths</th>\n",
              "      <th>recovered</th>\n",
              "    </tr>\n",
              "  </thead>\n",
              "  <tbody>\n",
              "    <tr>\n",
              "      <th>0</th>\n",
              "      <td>0</td>\n",
              "      <td>1</td>\n",
              "      <td>1</td>\n",
              "      <td>1</td>\n",
              "    </tr>\n",
              "    <tr>\n",
              "      <th>1</th>\n",
              "      <td>5</td>\n",
              "      <td>1</td>\n",
              "      <td>1</td>\n",
              "      <td>1</td>\n",
              "    </tr>\n",
              "    <tr>\n",
              "      <th>2</th>\n",
              "      <td>10</td>\n",
              "      <td>1</td>\n",
              "      <td>1</td>\n",
              "      <td>1</td>\n",
              "    </tr>\n",
              "    <tr>\n",
              "      <th>3</th>\n",
              "      <td>15</td>\n",
              "      <td>1</td>\n",
              "      <td>1</td>\n",
              "      <td>1</td>\n",
              "    </tr>\n",
              "    <tr>\n",
              "      <th>4</th>\n",
              "      <td>20</td>\n",
              "      <td>1</td>\n",
              "      <td>1</td>\n",
              "      <td>1</td>\n",
              "    </tr>\n",
              "  </tbody>\n",
              "</table>\n",
              "</div>"
            ],
            "text/plain": [
              "   Id  confirmed  deaths  recovered\n",
              "0   0          1       1          1\n",
              "1   5          1       1          1\n",
              "2  10          1       1          1\n",
              "3  15          1       1          1\n",
              "4  20          1       1          1"
            ]
          },
          "metadata": {
            "tags": []
          },
          "execution_count": 429
        }
      ]
    },
    {
      "cell_type": "code",
      "metadata": {
        "id": "CHUxFjnGqlBz"
      },
      "source": [
        "final_result.to_csv('Kaggle_result4.csv')"
      ],
      "execution_count": null,
      "outputs": []
    }
  ]
}