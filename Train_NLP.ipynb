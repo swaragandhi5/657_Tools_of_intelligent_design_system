{
  "cells": [
    {
      "cell_type": "markdown",
      "metadata": {
        "id": "view-in-github",
        "colab_type": "text"
      },
      "source": [
        "<a href=\"https://colab.research.google.com/github/swaragandhi5/657_Tools_of_intelligent_design_system/blob/main/Train_NLP.ipynb\" target=\"_parent\"><img src=\"https://colab.research.google.com/assets/colab-badge.svg\" alt=\"Open In Colab\"/></a>"
      ]
    },
    {
      "cell_type": "code",
      "execution_count": null,
      "id": "d390224f",
      "metadata": {
        "scrolled": true,
        "id": "d390224f"
      },
      "outputs": [],
      "source": [
        "# import required packages\n",
        "import os\n",
        "import pandas as pd\n",
        "import numpy as np\n",
        "from tensorflow.keras.utils import get_file\n",
        "import glob"
      ]
    },
    {
      "cell_type": "code",
      "execution_count": null,
      "id": "c52f31a2",
      "metadata": {
        "id": "c52f31a2",
        "outputId": "97ca3437-95cd-4b38-fb2a-eee1ae61153f"
      },
      "outputs": [
        {
          "name": "stdout",
          "output_type": "stream",
          "text": [
            "Requirement already satisfied: nltk in c:\\users\\swara\\appdata\\local\\programs\\python\\python39\\lib\\site-packages (3.7)\n",
            "Requirement already satisfied: tqdm in c:\\users\\swara\\appdata\\local\\programs\\python\\python39\\lib\\site-packages (from nltk) (4.64.0)\n",
            "Requirement already satisfied: regex>=2021.8.3 in c:\\users\\swara\\appdata\\local\\programs\\python\\python39\\lib\\site-packages (from nltk) (2022.6.2)\n",
            "Requirement already satisfied: joblib in c:\\users\\swara\\appdata\\local\\programs\\python\\python39\\lib\\site-packages (from nltk) (1.1.0)\n",
            "Requirement already satisfied: click in c:\\users\\swara\\appdata\\local\\programs\\python\\python39\\lib\\site-packages (from nltk) (8.1.3)\n",
            "Requirement already satisfied: colorama in c:\\users\\swara\\appdata\\local\\programs\\python\\python39\\lib\\site-packages (from click->nltk) (0.4.5)\n"
          ]
        }
      ],
      "source": [
        "import sys\n",
        "!{sys.executable} -m pip install nltk"
      ]
    },
    {
      "cell_type": "code",
      "execution_count": null,
      "id": "eb538522",
      "metadata": {
        "id": "eb538522",
        "outputId": "5db83a97-5f9f-4fcd-fff7-95fd05f520f9"
      },
      "outputs": [
        {
          "name": "stderr",
          "output_type": "stream",
          "text": [
            "[nltk_data] Downloading package stopwords to\n",
            "[nltk_data]     C:\\Users\\swara\\AppData\\Roaming\\nltk_data...\n",
            "[nltk_data]   Package stopwords is already up-to-date!\n"
          ]
        }
      ],
      "source": [
        "import nltk\n",
        "nltk.download('stopwords')\n",
        "from nltk.corpus import stopwords\n",
        "from nltk.tokenize import word_tokenize\n",
        "import re"
      ]
    },
    {
      "cell_type": "code",
      "execution_count": null,
      "id": "238c844e",
      "metadata": {
        "id": "238c844e"
      },
      "outputs": [],
      "source": [
        "import tensorflow as tf\n",
        "from tensorflow import keras\n",
        "from keras.preprocessing.text import Tokenizer\n",
        "from keras_preprocessing.sequence import pad_sequences"
      ]
    },
    {
      "cell_type": "code",
      "execution_count": null,
      "id": "432ed4be",
      "metadata": {
        "id": "432ed4be"
      },
      "outputs": [],
      "source": [
        "from sklearn.model_selection import train_test_split"
      ]
    },
    {
      "cell_type": "code",
      "execution_count": null,
      "id": "b6e6eeb1",
      "metadata": {
        "id": "b6e6eeb1"
      },
      "outputs": [],
      "source": [
        "import warnings\n",
        "warnings.simplefilter(action='ignore', category=FutureWarning)\n",
        "warnings.simplefilter(action='ignore', category=pd.errors.PerformanceWarning)"
      ]
    },
    {
      "cell_type": "code",
      "execution_count": null,
      "id": "5e6c1c61",
      "metadata": {
        "id": "5e6c1c61"
      },
      "outputs": [],
      "source": [
        "#Creating dataset with reviews and sentiments as column\n",
        "def load_training_data(train_list):\n",
        "    df_train_data = pd.DataFrame(columns=['Reviews','Feedback'])\n",
        "    for folder in train_list:\n",
        "        if folder == 'neg' or folder == 'pos':\n",
        "            file_list = os.listdir(Path+'/'+folder)\n",
        "            for subfile in file_list:\n",
        "                fetch_data = open(Path+'/'+folder+'/'+subfile, encoding=\"utf8\")\n",
        "                if folder == 'neg':\n",
        "                    df_train_data = df_train_data.append({'Reviews': fetch_data.read(), 'Feedback': 0}, ignore_index=True)\n",
        "                else:\n",
        "                    df_train_data = df_train_data.append({'Reviews': fetch_data.read(), 'Feedback': 1}, ignore_index=True)\n",
        "                    \n",
        "                    \n",
        "    return df_train_data"
      ]
    },
    {
      "cell_type": "code",
      "execution_count": null,
      "id": "a023194f",
      "metadata": {
        "id": "a023194f"
      },
      "outputs": [],
      "source": [
        "#Removing html tags \n",
        "def review_to_words(review, string = True):\n",
        "    print(\"Removing special characters from training dataset:\")\n",
        "    REPLACE_NO_SPACE = re.compile(\"(\\.)|(\\;)|(\\:)|(\\!)|(\\')|(\\?)|(\\,)|(\\\")|(\\()|(\\))|(\\[)|(\\])|(\\*)|(\\d+)\")\n",
        "    REPLACE_WITH_SPACE = re.compile(\"(<br\\s*/><br\\s*/>)|(\\-)|(\\/)\")\n",
        "    NON_LETTERS = re.compile(\"[^a-zA-Z]\")\n",
        "    NO_SPACE = \"\"\n",
        "    SPACE = \" \"\n",
        "    review = [REPLACE_NO_SPACE.sub(NO_SPACE, line.lower()) for line in review]\n",
        "    review = [REPLACE_WITH_SPACE.sub(SPACE, line) for line in review]\n",
        "    review = [NON_LETTERS.sub(SPACE, line) for line in review]  \n",
        "    return review"
      ]
    },
    {
      "cell_type": "code",
      "execution_count": null,
      "id": "f93eb076",
      "metadata": {
        "id": "f93eb076",
        "outputId": "512ff6b4-8c16-4757-a07b-d07053809b94"
      },
      "outputs": [
        {
          "name": "stdout",
          "output_type": "stream",
          "text": [
            "Model: \"sequential\"\n",
            "_________________________________________________________________\n",
            " Layer (type)                Output Shape              Param #   \n",
            "=================================================================\n",
            " embedding (Embedding)       (None, None, 16)          1448656   \n",
            "                                                                 \n",
            " dropout (Dropout)           (None, None, 16)          0         \n",
            "                                                                 \n",
            " conv1d (Conv1D)             (None, None, 16)          528       \n",
            "                                                                 \n",
            " global_average_pooling1d (G  (None, 16)               0         \n",
            " lobalAveragePooling1D)                                          \n",
            "                                                                 \n",
            " dropout_1 (Dropout)         (None, 16)                0         \n",
            "                                                                 \n",
            " dense (Dense)               (None, 32)                544       \n",
            "                                                                 \n",
            " dropout_2 (Dropout)         (None, 32)                0         \n",
            "                                                                 \n",
            " dense_1 (Dense)             (None, 1)                 33        \n",
            "                                                                 \n",
            "=================================================================\n",
            "Total params: 1,449,761\n",
            "Trainable params: 1,449,761\n",
            "Non-trainable params: 0\n",
            "_________________________________________________________________\n",
            "Epoch 1/20\n",
            "35/35 [==============================] - 9s 207ms/step - loss: 0.6931 - acc: 0.5051 - val_loss: 0.6930 - val_acc: 0.5073\n",
            "Epoch 2/20\n",
            "35/35 [==============================] - 7s 198ms/step - loss: 0.6930 - acc: 0.5075 - val_loss: 0.6927 - val_acc: 0.4997\n",
            "Epoch 3/20\n",
            "35/35 [==============================] - 7s 199ms/step - loss: 0.6920 - acc: 0.5430 - val_loss: 0.6907 - val_acc: 0.5004\n",
            "Epoch 4/20\n",
            "35/35 [==============================] - 7s 198ms/step - loss: 0.6867 - acc: 0.5950 - val_loss: 0.6807 - val_acc: 0.5773\n",
            "Epoch 5/20\n",
            "35/35 [==============================] - 7s 199ms/step - loss: 0.6639 - acc: 0.7235 - val_loss: 0.6409 - val_acc: 0.7736\n",
            "Epoch 6/20\n",
            "35/35 [==============================] - 7s 199ms/step - loss: 0.5943 - acc: 0.7985 - val_loss: 0.5495 - val_acc: 0.8303\n",
            "Epoch 7/20\n",
            "35/35 [==============================] - 7s 198ms/step - loss: 0.4854 - acc: 0.8444 - val_loss: 0.4458 - val_acc: 0.8563\n",
            "Epoch 8/20\n",
            "35/35 [==============================] - 7s 199ms/step - loss: 0.3856 - acc: 0.8694 - val_loss: 0.3740 - val_acc: 0.8701\n",
            "Epoch 9/20\n",
            "35/35 [==============================] - 7s 199ms/step - loss: 0.3170 - acc: 0.8915 - val_loss: 0.3333 - val_acc: 0.8745\n",
            "Epoch 10/20\n",
            "35/35 [==============================] - 7s 198ms/step - loss: 0.2718 - acc: 0.9046 - val_loss: 0.3107 - val_acc: 0.8780\n",
            "Epoch 11/20\n",
            "35/35 [==============================] - 7s 199ms/step - loss: 0.2389 - acc: 0.9168 - val_loss: 0.2951 - val_acc: 0.8869\n",
            "Epoch 12/20\n",
            "35/35 [==============================] - 7s 198ms/step - loss: 0.2087 - acc: 0.9294 - val_loss: 0.2869 - val_acc: 0.8892\n",
            "Epoch 13/20\n",
            "35/35 [==============================] - 7s 199ms/step - loss: 0.1860 - acc: 0.9375 - val_loss: 0.2811 - val_acc: 0.8907\n",
            "Epoch 14/20\n",
            "35/35 [==============================] - 7s 198ms/step - loss: 0.1691 - acc: 0.9421 - val_loss: 0.2774 - val_acc: 0.8925\n",
            "Epoch 15/20\n",
            "35/35 [==============================] - 7s 198ms/step - loss: 0.1562 - acc: 0.9485 - val_loss: 0.2764 - val_acc: 0.8939\n",
            "Epoch 16/20\n",
            "35/35 [==============================] - 7s 199ms/step - loss: 0.1425 - acc: 0.9515 - val_loss: 0.2757 - val_acc: 0.8936\n",
            "Epoch 17/20\n",
            "35/35 [==============================] - 7s 200ms/step - loss: 0.1263 - acc: 0.9586 - val_loss: 0.2772 - val_acc: 0.8943\n",
            "Epoch 18/20\n",
            "35/35 [==============================] - 7s 199ms/step - loss: 0.1173 - acc: 0.9613 - val_loss: 0.2788 - val_acc: 0.8955\n",
            "Epoch 19/20\n",
            "35/35 [==============================] - 7s 197ms/step - loss: 0.1116 - acc: 0.9641 - val_loss: 0.2816 - val_acc: 0.8960\n",
            "Epoch 20/20\n",
            "35/35 [==============================] - 7s 203ms/step - loss: 0.0994 - acc: 0.9659 - val_loss: 0.2829 - val_acc: 0.8944\n",
            "The final training Validation accuracy is  96.59428596496582\n"
          ]
        }
      ],
      "source": [
        "if __name__ == \"__main__\": \n",
        "\t# 1. load your training data\n",
        "    #Path = 'C:/Users/swara/OneDrive/Documents/aclImdb_v1.tar/aclImdb/train'\n",
        "    #train_list = os.listdir(Path)\n",
        "    \n",
        "    #training_data_df = load_training_data(train_list)\n",
        "    \n",
        "\n",
        "    #2. Removing stopwords\n",
        "    #stopword = set(stopwords.words(\"english\"))\n",
        "    #training_data_df['Reviews_stopwords'] = training_data_df['Reviews'].apply(lambda x: ' '.join([word for word in x.split() if word not in (stopword)]))\n",
        "    \n",
        "        \n",
        "    #3. cleaning\n",
        "    #clean_train_reviews = review_to_words(training_data_df.Reviews_stopwords)\n",
        "    #training_data_df = training_data_df.drop(columns='Reviews')\n",
        "    #training_data_df = training_data_df.drop(columns='Reviews_stopwords')\n",
        "    #training_data_df.insert(0,'Reviews', clean_train_reviews)\n",
        "    \n",
        "    \n",
        "    \n",
        "    #Reviews_clean = training_data_df['Reviews'].tolist()\n",
        "    #Feedback_clean = training_data_df['Feedback'].tolist()\n",
        "    \n",
        "    #4. Adding Tokenizer and padding\n",
        "    #t = keras.preprocessing.text.Tokenizer()\n",
        "    #t.fit_on_texts(Reviews_clean)\n",
        "    #Reviews_tokenized = t.texts_to_sequences(Reviews_clean)\n",
        "    #Reviews_padded = keras.preprocessing.sequence.pad_sequences(Reviews_tokenized,padding='post',maxlen=1000)\n",
        "\n",
        "\t# 2. Train your network\n",
        "    X_train, X_val, y_train, y_val = train_test_split(Reviews_padded, Feedback_clean, test_size=0.3, random_state=42)\n",
        "    \n",
        "    word_size = len(t.word_index)+1\n",
        "    \n",
        "    model = keras.Sequential()\n",
        "    model.add(keras.layers.Embedding(word_size, 16))\n",
        "    model.add(keras.layers.Dropout(0.1))\n",
        "    model.add(keras.layers.Conv1D(filters=16,kernel_size=2,padding='valid',activation='relu'))\n",
        "    model.add(keras.layers.GlobalAveragePooling1D())\n",
        "    model.add(keras.layers.Dropout(0.1))\n",
        "    model.add(keras.layers.Dense(32, activation='relu'))\n",
        "    model.add(keras.layers.Dropout(0.1))\n",
        "    model.add(keras.layers.Dense(1, activation='sigmoid'))\n",
        "\n",
        "    model.summary()\n",
        "\n",
        "    model.compile(optimizer='adam',loss='binary_crossentropy',metrics=['acc'])\n",
        "    \n",
        "    history = model.fit(tf.convert_to_tensor(X_train),tf.convert_to_tensor(y_train),epochs=20,validation_data=(tf.convert_to_tensor(X_val), tf.convert_to_tensor(y_val)),verbose=1,batch_size=512)\n",
        "    \n",
        "    print('The final training Validation accuracy is ',history.history['acc'][-1]*100)\n",
        "    \n",
        "    \n",
        "    \n",
        "\t# \t\tMake sure to print your training loss and accuracy within training to show progress\n",
        "\t# \t\tMake sure you print the final training accuracy\n",
        "\n",
        "\t# 3. Save your model"
      ]
    },
    {
      "cell_type": "code",
      "execution_count": null,
      "id": "1336788b",
      "metadata": {
        "id": "1336788b",
        "outputId": "94b4901a-866c-43b2-9aa8-5bbc425bf9b8"
      },
      "outputs": [
        {
          "name": "stdout",
          "output_type": "stream",
          "text": [
            "0\n"
          ]
        }
      ],
      "source": [
        "print(Feedback_clean[1])"
      ]
    },
    {
      "cell_type": "code",
      "execution_count": null,
      "id": "709fc378",
      "metadata": {
        "id": "709fc378"
      },
      "outputs": [],
      "source": [
        "model.save(\"./models/Group44_NLP_model.h5\")"
      ]
    },
    {
      "cell_type": "code",
      "execution_count": null,
      "id": "b5fd9616",
      "metadata": {
        "id": "b5fd9616"
      },
      "outputs": [],
      "source": []
    }
  ],
  "metadata": {
    "kernelspec": {
      "display_name": "Python 3 (ipykernel)",
      "language": "python",
      "name": "python3"
    },
    "language_info": {
      "codemirror_mode": {
        "name": "ipython",
        "version": 3
      },
      "file_extension": ".py",
      "mimetype": "text/x-python",
      "name": "python",
      "nbconvert_exporter": "python",
      "pygments_lexer": "ipython3",
      "version": "3.9.7"
    },
    "colab": {
      "provenance": [],
      "include_colab_link": true
    }
  },
  "nbformat": 4,
  "nbformat_minor": 5
}