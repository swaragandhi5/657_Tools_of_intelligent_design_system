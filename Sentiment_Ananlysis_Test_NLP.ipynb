{
  "cells": [
    {
      "cell_type": "markdown",
      "metadata": {
        "id": "view-in-github",
        "colab_type": "text"
      },
      "source": [
        "<a href=\"https://colab.research.google.com/github/swaragandhi5/657_Tools_of_intelligent_design_system/blob/main/Sentiment_Ananlysis_Test_NLP.ipynb\" target=\"_parent\"><img src=\"https://colab.research.google.com/assets/colab-badge.svg\" alt=\"Open In Colab\"/></a>"
      ]
    },
    {
      "cell_type": "code",
      "execution_count": null,
      "id": "407bf54b",
      "metadata": {
        "id": "407bf54b",
        "outputId": "5d7b5e24-f612-4ef5-afac-a1b3c299c6f3"
      },
      "outputs": [
        {
          "name": "stdout",
          "output_type": "stream",
          "text": [
            "Requirement already satisfied: nltk in c:\\users\\swara\\appdata\\local\\programs\\python\\python39\\lib\\site-packages (3.7)\n",
            "Requirement already satisfied: joblib in c:\\users\\swara\\appdata\\local\\programs\\python\\python39\\lib\\site-packages (from nltk) (1.1.0)\n",
            "Requirement already satisfied: click in c:\\users\\swara\\appdata\\local\\programs\\python\\python39\\lib\\site-packages (from nltk) (8.1.3)\n",
            "Requirement already satisfied: tqdm in c:\\users\\swara\\appdata\\local\\programs\\python\\python39\\lib\\site-packages (from nltk) (4.64.0)\n",
            "Requirement already satisfied: regex>=2021.8.3 in c:\\users\\swara\\appdata\\local\\programs\\python\\python39\\lib\\site-packages (from nltk) (2022.6.2)\n",
            "Requirement already satisfied: colorama in c:\\users\\swara\\appdata\\local\\programs\\python\\python39\\lib\\site-packages (from click->nltk) (0.4.5)\n"
          ]
        }
      ],
      "source": [
        "import sys\n",
        "!{sys.executable} -m pip install nltk"
      ]
    },
    {
      "cell_type": "code",
      "execution_count": null,
      "id": "142e7656",
      "metadata": {
        "id": "142e7656",
        "outputId": "bee4742c-68fa-488f-ee83-90629cf7df58"
      },
      "outputs": [
        {
          "name": "stderr",
          "output_type": "stream",
          "text": [
            "[nltk_data] Downloading package stopwords to\n",
            "[nltk_data]     C:\\Users\\swara\\AppData\\Roaming\\nltk_data...\n",
            "[nltk_data]   Package stopwords is already up-to-date!\n"
          ]
        }
      ],
      "source": [
        "# import required packages\n",
        "import os\n",
        "import pandas as pd\n",
        "import numpy as np\n",
        "from tensorflow.keras.utils import get_file\n",
        "import glob\n",
        "\n",
        "import nltk\n",
        "nltk.download('stopwords')\n",
        "from nltk.corpus import stopwords\n",
        "from nltk.tokenize import word_tokenize\n",
        "import re\n",
        "\n",
        "import tensorflow as tf\n",
        "from tensorflow import keras\n",
        "from keras.preprocessing.text import Tokenizer\n",
        "from keras_preprocessing.sequence import pad_sequences\n",
        "\n",
        "from sklearn.model_selection import train_test_split\n",
        "\n",
        "import warnings\n",
        "warnings.simplefilter(action='ignore', category=FutureWarning)\n",
        "warnings.simplefilter(action='ignore', category=pd.errors.PerformanceWarning)"
      ]
    },
    {
      "cell_type": "code",
      "execution_count": null,
      "id": "44c39b7d",
      "metadata": {
        "id": "44c39b7d"
      },
      "outputs": [],
      "source": [
        "#Creating dataset with reviews and sentiments as column\n",
        "def load_testing_data(test_list):\n",
        "    df_test_data = pd.DataFrame(columns=['Reviews','Feedback'])\n",
        "    for folder in test_list:\n",
        "        if folder == 'neg' or folder == 'pos':\n",
        "            file_list = os.listdir(Path+'/'+folder)\n",
        "            for subfile in file_list:\n",
        "                fetch_data = open(Path+'/'+folder+'/'+subfile, encoding=\"utf8\")\n",
        "                if folder == 'neg':\n",
        "                    df_test_data = df_test_data.append({'Reviews': fetch_data.read(), 'Feedback': 0}, ignore_index=True)\n",
        "                else:\n",
        "                    df_test_data = df_test_data.append({'Reviews': fetch_data.read(), 'Feedback': 1}, ignore_index=True)\n",
        "                    \n",
        "                    \n",
        "    return df_test_data"
      ]
    },
    {
      "cell_type": "code",
      "execution_count": null,
      "id": "1231aae1",
      "metadata": {
        "id": "1231aae1"
      },
      "outputs": [],
      "source": [
        "#Removing html tags \n",
        "def review_to_words(review, string = True):\n",
        "    print(\"Removing special characters from training dataset:\")\n",
        "    REPLACE_NO_SPACE = re.compile(\"(\\.)|(\\;)|(\\:)|(\\!)|(\\')|(\\?)|(\\,)|(\\\")|(\\()|(\\))|(\\[)|(\\])|(\\*)|(\\d+)\")\n",
        "    REPLACE_WITH_SPACE = re.compile(\"(<br\\s*/><br\\s*/>)|(\\-)|(\\/)\")\n",
        "    NON_LETTERS = re.compile(\"[^a-zA-Z]\")\n",
        "    NO_SPACE = \"\"\n",
        "    SPACE = \" \"\n",
        "    review = [REPLACE_NO_SPACE.sub(NO_SPACE, line.lower()) for line in review]\n",
        "    review = [REPLACE_WITH_SPACE.sub(SPACE, line) for line in review]\n",
        "    review = [NON_LETTERS.sub(SPACE, line) for line in review]  \n",
        "    return review"
      ]
    },
    {
      "cell_type": "code",
      "execution_count": null,
      "id": "df425fb2",
      "metadata": {
        "id": "df425fb2"
      },
      "outputs": [],
      "source": [
        "if __name__ == \"__main__\": \n",
        "\t# 1. load your training data\n",
        "   Path = 'C:/Users/swara/OneDrive/Documents/aclImdb_v1.tar/aclImdb/test'\n",
        "   test_list = os.listdir(Path)\n",
        "    \n",
        "    test_data_df = load_testing_data(test_list)\n",
        "    \n",
        "    model=tf.keras.models.load_model('C:/Users/swara/models/Group44_NLP_model.h5')\n",
        "    \n",
        "\n",
        "    #2. Removing stopwords\n",
        "    stopword = set(stopwords.words(\"english\"))\n",
        "    test_data_df['Reviews_stopwords'] = test_data_df['Reviews'].apply(lambda x: ' '.join([word for word in x.split() if word not in (stopword)]))\n",
        "    \n",
        "        \n",
        "    #3. cleaning\n",
        "    clean_test_reviews = review_to_words(test_data_df.Reviews_stopwords)\n",
        "    test_data_df = test_data_df.drop(columns='Reviews')\n",
        "    test_data_df = test_data_df.drop(columns='Reviews_stopwords')\n",
        "    test_data_df.insert(0,'Reviews', clean_test_reviews)\n",
        "    \n",
        "    \n",
        "    \n",
        "    Reviews_clean_test = test_data_df['Reviews'].tolist()\n",
        "    Feedback_clean_test = test_data_df['Feedback'].tolist()\n",
        "    \n",
        "    #4. Adding Tokenizer and padding\n",
        "    t = keras.preprocessing.text.Tokenizer()\n",
        "    t.fit_on_texts(Reviews_clean_test)\n",
        "    Reviews_tokenized_test = t.texts_to_sequences(Reviews_clean_test)\n",
        "    Reviews_padded_test = keras.preprocessing.sequence.pad_sequences(Reviews_tokenized_test,padding='post',maxlen=1000)\n"
      ]
    },
    {
      "cell_type": "code",
      "execution_count": null,
      "id": "b50419ee",
      "metadata": {
        "id": "b50419ee",
        "outputId": "7094c803-2c9e-489a-a6f0-372a98b3a104"
      },
      "source": [
        "scores = model.evaluate(tf.convert_to_tensor(Reviews_padded_test),tf.convert_to_tensor(Feedback_clean_test))\n",
        "test_accuracy = scores[1]\n",
        "print('accuracy on testing dataset is:',test_accuracy*100)"
      ]
    },
    {
      "cell_type": "code",
      "execution_count": null,
      "id": "446f75a7",
      "metadata": {
        "id": "446f75a7"
      },
      "outputs": [],
      "source": []
    }
  ],
  "metadata": {
    "kernelspec": {
      "display_name": "Python 3 (ipykernel)",
      "language": "python",
      "name": "python3"
    },
    "language_info": {
      "codemirror_mode": {
        "name": "ipython",
        "version": 3
      },
      "file_extension": ".py",
      "mimetype": "text/x-python",
      "name": "python",
      "nbconvert_exporter": "python",
      "pygments_lexer": "ipython3",
      "version": "3.9.7"
    },
    "colab": {
      "provenance": [],
      "include_colab_link": true
    }
  },
  "nbformat": 4,
  "nbformat_minor": 5
}
