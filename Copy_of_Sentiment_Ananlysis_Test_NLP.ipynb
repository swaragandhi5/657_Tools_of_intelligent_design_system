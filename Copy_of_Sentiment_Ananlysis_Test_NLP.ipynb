{
  "cells": [
    {
      "cell_type": "markdown",
      "metadata": {
        "id": "view-in-github",
        "colab_type": "text"
      },
      "source": [
        "<a href=\"https://colab.research.google.com/github/swaragandhi5/Neural_Network/blob/main/Copy_of_Sentiment_Ananlysis_Test_NLP.ipynb\" target=\"_parent\"><img src=\"https://colab.research.google.com/assets/colab-badge.svg\" alt=\"Open In Colab\"/></a>"
      ]
    },
    {
      "cell_type": "code",
      "execution_count": null,
      "id": "407bf54b",
      "metadata": {
        "id": "407bf54b",
        "outputId": "65c76b0e-a61c-47b4-cea0-966bba199d88",
        "colab": {
          "base_uri": "https://localhost:8080/"
        }
      },
      "outputs": [
        {
          "output_type": "stream",
          "name": "stdout",
          "text": [
            "Looking in indexes: https://pypi.org/simple, https://us-python.pkg.dev/colab-wheels/public/simple/\n",
            "Requirement already satisfied: nltk in /usr/local/lib/python3.8/dist-packages (3.7)\n",
            "Requirement already satisfied: joblib in /usr/local/lib/python3.8/dist-packages (from nltk) (1.2.0)\n",
            "Requirement already satisfied: regex>=2021.8.3 in /usr/local/lib/python3.8/dist-packages (from nltk) (2022.6.2)\n",
            "Requirement already satisfied: click in /usr/local/lib/python3.8/dist-packages (from nltk) (7.1.2)\n",
            "Requirement already satisfied: tqdm in /usr/local/lib/python3.8/dist-packages (from nltk) (4.64.1)\n"
          ]
        }
      ],
      "source": [
        "import sys\n",
        "!{sys.executable} -m pip install nltk"
      ]
    },
    {
      "cell_type": "code",
      "source": [],
      "metadata": {
        "id": "5IABokZPznoG"
      },
      "id": "5IABokZPznoG",
      "execution_count": null,
      "outputs": []
    },
    {
      "cell_type": "code",
      "execution_count": null,
      "id": "142e7656",
      "metadata": {
        "id": "142e7656",
        "outputId": "75707e53-faab-404b-dee1-6abacb1d16c9",
        "colab": {
          "base_uri": "https://localhost:8080/"
        }
      },
      "outputs": [
        {
          "output_type": "stream",
          "name": "stderr",
          "text": [
            "[nltk_data] Downloading package stopwords to /root/nltk_data...\n",
            "[nltk_data]   Unzipping corpora/stopwords.zip.\n"
          ]
        }
      ],
      "source": [
        "# import required packages\n",
        "import os\n",
        "import pandas as pd\n",
        "import numpy as np\n",
        "from tensorflow.keras.utils import get_file\n",
        "import glob\n",
        "\n",
        "import nltk\n",
        "nltk.download('stopwords')\n",
        "from nltk.corpus import stopwords\n",
        "from nltk.tokenize import word_tokenize\n",
        "import re\n",
        "\n",
        "import tensorflow as tf\n",
        "from tensorflow import keras\n",
        "from keras.preprocessing.text import Tokenizer\n",
        "from keras_preprocessing.sequence import pad_sequences\n",
        "\n",
        "from sklearn.model_selection import train_test_split\n",
        "\n",
        "import warnings\n",
        "warnings.simplefilter(action='ignore', category=FutureWarning)\n",
        "warnings.simplefilter(action='ignore', category=pd.errors.PerformanceWarning)"
      ]
    },
    {
      "cell_type": "code",
      "execution_count": null,
      "id": "44c39b7d",
      "metadata": {
        "id": "44c39b7d"
      },
      "outputs": [],
      "source": [
        "#Creating dataset with reviews and sentiments as column\n",
        "def load_testing_data(test_list):\n",
        "    df_test_data = pd.DataFrame(columns=['Reviews','Feedback'])\n",
        "    for folder in test_list:\n",
        "        if folder == 'neg' or folder == 'pos':\n",
        "            file_list = os.listdir(Path+'/'+folder)\n",
        "            for subfile in file_list:\n",
        "                fetch_data = open(Path+'/'+folder+'/'+subfile, encoding=\"utf8\")\n",
        "                if folder == 'neg':\n",
        "                    df_test_data = df_test_data.append({'Reviews': fetch_data.read(), 'Feedback': 0}, ignore_index=True)\n",
        "                else:\n",
        "                    df_test_data = df_test_data.append({'Reviews': fetch_data.read(), 'Feedback': 1}, ignore_index=True)\n",
        "                    \n",
        "                    \n",
        "    return df_test_data"
      ]
    },
    {
      "cell_type": "code",
      "execution_count": null,
      "id": "1231aae1",
      "metadata": {
        "id": "1231aae1"
      },
      "outputs": [],
      "source": [
        "#Removing html tags \n",
        "def review_to_words(review, string = True):\n",
        "    print(\"Removing special characters from training dataset:\")\n",
        "    REPLACE_NO_SPACE = re.compile(\"(\\.)|(\\;)|(\\:)|(\\!)|(\\')|(\\?)|(\\,)|(\\\")|(\\()|(\\))|(\\[)|(\\])|(\\*)|(\\d+)\")\n",
        "    REPLACE_WITH_SPACE = re.compile(\"(<br\\s*/><br\\s*/>)|(\\-)|(\\/)\")\n",
        "    NON_LETTERS = re.compile(\"[^a-zA-Z]\")\n",
        "    NO_SPACE = \"\"\n",
        "    SPACE = \" \"\n",
        "    review = [REPLACE_NO_SPACE.sub(NO_SPACE, line.lower()) for line in review]\n",
        "    review = [REPLACE_WITH_SPACE.sub(SPACE, line) for line in review]\n",
        "    review = [NON_LETTERS.sub(SPACE, line) for line in review]  \n",
        "    return review"
      ]
    },
    {
      "cell_type": "code",
      "execution_count": null,
      "id": "df425fb2",
      "metadata": {
        "id": "df425fb2",
        "outputId": "529f20b0-8031-4730-b7b7-8f533d9651f2",
        "colab": {
          "base_uri": "https://localhost:8080/",
          "height": 235
        }
      },
      "outputs": [
        {
          "output_type": "error",
          "ename": "FileNotFoundError",
          "evalue": "ignored",
          "traceback": [
            "\u001b[0;31m---------------------------------------------------------------------------\u001b[0m",
            "\u001b[0;31mFileNotFoundError\u001b[0m                         Traceback (most recent call last)",
            "\u001b[0;32m<ipython-input-5-62891d35bcb4>\u001b[0m in \u001b[0;36m<module>\u001b[0;34m\u001b[0m\n\u001b[1;32m      2\u001b[0m         \u001b[0;31m# 1. load your training data\u001b[0m\u001b[0;34m\u001b[0m\u001b[0;34m\u001b[0m\u001b[0;34m\u001b[0m\u001b[0m\n\u001b[1;32m      3\u001b[0m     \u001b[0mPath\u001b[0m \u001b[0;34m=\u001b[0m \u001b[0;34m'C:/Users/swara/OneDrive/Documents/aclImdb_v1.tar/aclImdb/test'\u001b[0m\u001b[0;34m\u001b[0m\u001b[0;34m\u001b[0m\u001b[0m\n\u001b[0;32m----> 4\u001b[0;31m     \u001b[0mtest_list\u001b[0m \u001b[0;34m=\u001b[0m \u001b[0mos\u001b[0m\u001b[0;34m.\u001b[0m\u001b[0mlistdir\u001b[0m\u001b[0;34m(\u001b[0m\u001b[0mPath\u001b[0m\u001b[0;34m)\u001b[0m\u001b[0;34m\u001b[0m\u001b[0;34m\u001b[0m\u001b[0m\n\u001b[0m\u001b[1;32m      5\u001b[0m \u001b[0;34m\u001b[0m\u001b[0m\n\u001b[1;32m      6\u001b[0m     \u001b[0mtest_data_df\u001b[0m \u001b[0;34m=\u001b[0m \u001b[0mload_testing_data\u001b[0m\u001b[0;34m(\u001b[0m\u001b[0mtest_list\u001b[0m\u001b[0;34m)\u001b[0m\u001b[0;34m\u001b[0m\u001b[0;34m\u001b[0m\u001b[0m\n",
            "\u001b[0;31mFileNotFoundError\u001b[0m: [Errno 2] No such file or directory: 'C:/Users/swara/OneDrive/Documents/aclImdb_v1.tar/aclImdb/test'"
          ]
        }
      ],
      "source": [
        "if __name__ == \"__main__\": \n",
        "\t# 1. load your training data\n",
        "    Path = 'C:/Users/swara/OneDrive/Documents/aclImdb_v1.tar/aclImdb/test'\n",
        "    test_list = os.listdir(Path)\n",
        "    \n",
        "    test_data_df = load_testing_data(test_list)\n",
        "    \n",
        "    model=tf.keras.models.load_model('C:/Users/swara/models/Group44_NLP_model.h5')\n",
        "    \n",
        "\n",
        "    #2. Removing stopwords\n",
        "    stopword = set(stopwords.words(\"english\"))\n",
        "    test_data_df['Reviews_stopwords'] = test_data_df['Reviews'].apply(lambda x: ' '.join([word for word in x.split() if word not in (stopword)]))\n",
        "    \n",
        "        \n",
        "    #3. cleaning\n",
        "    clean_test_reviews = review_to_words(test_data_df.Reviews_stopwords)\n",
        "    test_data_df = test_data_df.drop(columns='Reviews')\n",
        "    test_data_df = test_data_df.drop(columns='Reviews_stopwords')\n",
        "    test_data_df.insert(0,'Reviews', clean_test_reviews)\n",
        "    \n",
        "    \n",
        "    \n",
        "    Reviews_clean_test = test_data_df['Reviews'].tolist()\n",
        "    Feedback_clean_test = test_data_df['Feedback'].tolist()\n",
        "    \n",
        "    #4. Adding Tokenizer and padding\n",
        "    t = keras.preprocessing.text.Tokenizer()\n",
        "    t.fit_on_texts(Reviews_clean_test)\n",
        "    Reviews_tokenized_test = t.texts_to_sequences(Reviews_clean_test)\n",
        "    Reviews_padded_test = keras.preprocessing.sequence.pad_sequences(Reviews_tokenized_test,padding='post',maxlen=1000)\n"
      ]
    },
    {
      "cell_type": "code",
      "execution_count": null,
      "id": "b50419ee",
      "metadata": {
        "id": "b50419ee"
      },
      "outputs": [],
      "source": [
        "scores = model.evaluate(tf.convert_to_tensor(Reviews_padded_test),tf.convert_to_tensor(Feedback_clean_test))\n",
        "test_accuracy = scores[1]\n",
        "print('accuracy on testing dataset is:',test_accuracy*100)"
      ]
    },
    {
      "cell_type": "code",
      "execution_count": null,
      "id": "446f75a7",
      "metadata": {
        "id": "446f75a7"
      },
      "outputs": [],
      "source": []
    }
  ],
  "metadata": {
    "kernelspec": {
      "display_name": "Python 3 (ipykernel)",
      "language": "python",
      "name": "python3"
    },
    "language_info": {
      "codemirror_mode": {
        "name": "ipython",
        "version": 3
      },
      "file_extension": ".py",
      "mimetype": "text/x-python",
      "name": "python",
      "nbconvert_exporter": "python",
      "pygments_lexer": "ipython3",
      "version": "3.9.7"
    },
    "colab": {
      "provenance": [],
      "include_colab_link": true
    }
  },
  "nbformat": 4,
  "nbformat_minor": 5
}